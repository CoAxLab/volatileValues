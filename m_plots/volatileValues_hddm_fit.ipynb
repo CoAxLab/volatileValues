{
 "cells": [
  {
   "cell_type": "code",
   "execution_count": 13,
   "metadata": {},
   "outputs": [],
   "source": [
    "import hddm\n",
    "import pandas as pd\n",
    "import matplotlib.pyplot as plt\n",
    "import os\n",
    "path = '/Users/Krista/Documents/github_repositories/testing-master/'"
   ]
  },
  {
   "cell_type": "code",
   "execution_count": 14,
   "metadata": {},
   "outputs": [
    {
     "data": {
      "text/plain": [
       "'/Users/Krista/Documents/github_repositories/testing-master'"
      ]
     },
     "execution_count": 14,
     "metadata": {},
     "output_type": "execute_result"
    }
   ],
   "source": [
    "os.chdir(path)\n",
    "os.getcwd()"
   ]
  },
  {
   "cell_type": "code",
   "execution_count": 15,
   "metadata": {},
   "outputs": [
    {
     "data": {
      "text/html": [
       "<div>\n",
       "<style scoped>\n",
       "    .dataframe tbody tr th:only-of-type {\n",
       "        vertical-align: middle;\n",
       "    }\n",
       "\n",
       "    .dataframe tbody tr th {\n",
       "        vertical-align: top;\n",
       "    }\n",
       "\n",
       "    .dataframe thead th {\n",
       "        text-align: right;\n",
       "    }\n",
       "</style>\n",
       "<table border=\"1\" class=\"dataframe\">\n",
       "  <thead>\n",
       "    <tr style=\"text-align: right;\">\n",
       "      <th></th>\n",
       "      <th>rt</th>\n",
       "      <th>response</th>\n",
       "      <th>gen_drift</th>\n",
       "      <th>gen_bound</th>\n",
       "      <th>subj_idx</th>\n",
       "    </tr>\n",
       "  </thead>\n",
       "  <tbody>\n",
       "    <tr>\n",
       "      <th>count</th>\n",
       "      <td>200000.000000</td>\n",
       "      <td>200000.000000</td>\n",
       "      <td>200000.000000</td>\n",
       "      <td>200000.000000</td>\n",
       "      <td>200000.000000</td>\n",
       "    </tr>\n",
       "    <tr>\n",
       "      <th>mean</th>\n",
       "      <td>0.394642</td>\n",
       "      <td>0.556195</td>\n",
       "      <td>0.863054</td>\n",
       "      <td>0.746209</td>\n",
       "      <td>24.500000</td>\n",
       "    </tr>\n",
       "    <tr>\n",
       "      <th>std</th>\n",
       "      <td>0.177479</td>\n",
       "      <td>0.496833</td>\n",
       "      <td>0.268400</td>\n",
       "      <td>0.364673</td>\n",
       "      <td>14.430906</td>\n",
       "    </tr>\n",
       "    <tr>\n",
       "      <th>min</th>\n",
       "      <td>0.002000</td>\n",
       "      <td>0.000000</td>\n",
       "      <td>0.000019</td>\n",
       "      <td>0.251597</td>\n",
       "      <td>0.000000</td>\n",
       "    </tr>\n",
       "    <tr>\n",
       "      <th>25%</th>\n",
       "      <td>0.262000</td>\n",
       "      <td>0.000000</td>\n",
       "      <td>0.899079</td>\n",
       "      <td>0.555713</td>\n",
       "      <td>12.000000</td>\n",
       "    </tr>\n",
       "    <tr>\n",
       "      <th>50%</th>\n",
       "      <td>0.332000</td>\n",
       "      <td>1.000000</td>\n",
       "      <td>1.000000</td>\n",
       "      <td>0.600718</td>\n",
       "      <td>24.500000</td>\n",
       "    </tr>\n",
       "    <tr>\n",
       "      <th>75%</th>\n",
       "      <td>0.522000</td>\n",
       "      <td>1.000000</td>\n",
       "      <td>1.000000</td>\n",
       "      <td>0.728101</td>\n",
       "      <td>37.000000</td>\n",
       "    </tr>\n",
       "    <tr>\n",
       "      <th>max</th>\n",
       "      <td>0.700000</td>\n",
       "      <td>1.000000</td>\n",
       "      <td>1.000000</td>\n",
       "      <td>2.499951</td>\n",
       "      <td>49.000000</td>\n",
       "    </tr>\n",
       "  </tbody>\n",
       "</table>\n",
       "</div>"
      ],
      "text/plain": [
       "                  rt       response      gen_drift      gen_bound  \\\n",
       "count  200000.000000  200000.000000  200000.000000  200000.000000   \n",
       "mean        0.394642       0.556195       0.863054       0.746209   \n",
       "std         0.177479       0.496833       0.268400       0.364673   \n",
       "min         0.002000       0.000000       0.000019       0.251597   \n",
       "25%         0.262000       0.000000       0.899079       0.555713   \n",
       "50%         0.332000       1.000000       1.000000       0.600718   \n",
       "75%         0.522000       1.000000       1.000000       0.728101   \n",
       "max         0.700000       1.000000       1.000000       2.499951   \n",
       "\n",
       "            subj_idx  \n",
       "count  200000.000000  \n",
       "mean       24.500000  \n",
       "std        14.430906  \n",
       "min         0.000000  \n",
       "25%        12.000000  \n",
       "50%        24.500000  \n",
       "75%        37.000000  \n",
       "max        49.000000  "
      ]
     },
     "execution_count": 15,
     "metadata": {},
     "output_type": "execute_result"
    }
   ],
   "source": [
    "data = hddm.load_csv('./1000t.csv')\n",
    "data.columns = data.columns.str.strip()\n",
    "data.head(4)\n",
    "data.tail(4)\n",
    "data.describe()"
   ]
  },
  {
   "cell_type": "code",
   "execution_count": 16,
   "metadata": {},
   "outputs": [
    {
     "data": {
      "text/plain": [
       "(0.89639766142651245, 0.83969187065611706)"
      ]
     },
     "execution_count": 16,
     "metadata": {},
     "output_type": "execute_result"
    }
   ],
   "source": [
    "data[data.cond == \"lc\"].gen_drift.mean(), data[data.cond == \"hc\"].gen_drift.mean()"
   ]
  },
  {
   "cell_type": "code",
   "execution_count": 58,
   "metadata": {},
   "outputs": [
    {
     "data": {
      "text/plain": [
       "(0.88752119226056458, 0.82860508520752596)"
      ]
     },
     "execution_count": 58,
     "metadata": {},
     "output_type": "execute_result"
    }
   ],
   "source": [
    "data[data.cond == \"lv\"].gen_drift.mean(), data[data.cond == \"hv\"].gen_drift.mean()"
   ]
  },
  {
   "cell_type": "code",
   "execution_count": 59,
   "metadata": {},
   "outputs": [
    {
     "data": {
      "text/plain": [
       "(0.70363880027137449, 0.74453703577596608)"
      ]
     },
     "execution_count": 59,
     "metadata": {},
     "output_type": "execute_result"
    }
   ],
   "source": [
    "data[data.cond == \"lc\"].gen_bound.mean(), data[data.cond == \"hc\"].gen_bound.mean()"
   ]
  },
  {
   "cell_type": "code",
   "execution_count": 17,
   "metadata": {},
   "outputs": [
    {
     "data": {
      "text/plain": [
       "(0.6720319308568603, 0.86462955821356535)"
      ]
     },
     "execution_count": 17,
     "metadata": {},
     "output_type": "execute_result"
    }
   ],
   "source": [
    "data[data.cond == \"lv\"].gen_bound.mean(), data[data.cond == \"hv\"].gen_bound.mean()"
   ]
  },
  {
   "cell_type": "code",
   "execution_count": 18,
   "metadata": {},
   "outputs": [
    {
     "data": {
      "image/png": "[encoded data removed]",
      "text/plain": [
       "<Figure size 432x288 with 1 Axes>"
      ]
     },
     "metadata": {},
     "output_type": "display_data"
    }
   ],
   "source": [
    "fig = plt.figure()\n",
    "ax = fig.add_subplot(111, xlabel='RT', ylabel='count', title='RT distributions')\n",
    "for i, subj_data in data.groupby('subj_idx'):\n",
    "    subj_data.rt.hist(bins=20, histtype='step', ax=ax)"
   ]
  },
  {
   "cell_type": "code",
   "execution_count": 19,
   "metadata": {},
   "outputs": [
    {
     "name": "stderr",
     "output_type": "stream",
     "text": [
      "/Users/Krista/anaconda/envs/hddm/lib/python3.5/site-packages/scipy/optimize/optimize.py:1927: RuntimeWarning: invalid value encountered in double_scalars\n",
      "  tmp2 = (x - v) * (fx - fw)\n",
      "/Users/Krista/anaconda/envs/hddm/lib/python3.5/site-packages/scipy/optimize/optimize.py:1932: RuntimeWarning: invalid value encountered in absolute\n",
      "  tmp2 = numpy.abs(tmp2)\n",
      "/Users/Krista/anaconda/envs/hddm/lib/python3.5/site-packages/pymc/Node.py:403: VisibleDeprecationWarning: using a non-integer number instead of an integer will result in an error in the future\n",
      "  self.__name__ = input['__name__']\n"
     ]
    },
    {
     "name": "stdout",
     "output_type": "stream",
     "text": [
      " [-----------------100%-----------------] 1001 of 1000 complete in 1293.7 sec"
     ]
    },
    {
     "name": "stderr",
     "output_type": "stream",
     "text": [
      "/Users/Krista/anaconda/envs/hddm/lib/python3.5/site-packages/numpy/core/fromnumeric.py:1156: VisibleDeprecationWarning: using a non-integer number instead of an integer will result in an error in the future\n",
      "  a = a[:-extra]\n",
      "/Users/Krista/anaconda/envs/hddm/lib/python3.5/site-packages/numpy/core/fromnumeric.py:224: VisibleDeprecationWarning: using a non-integer number instead of an integer will result in an error in the future\n",
      "  return reshape(newshape, order=order)\n"
     ]
    },
    {
     "data": {
      "text/plain": [
       "<pymc.MCMC.MCMC at 0x1a16e3c4e0>"
      ]
     },
     "execution_count": 19,
     "metadata": {},
     "output_type": "execute_result"
    }
   ],
   "source": [
    "comb_stim = hddm.HDDM(data, bias=False, depends_on={'v':'cond', 'a':'cond'},\n",
    "                        include=['v'], p_outlier=0.05)\n",
    "comb_stim.find_starting_values()\n",
    "comb_stim.sample(1000, burn=20)"
   ]
  },
  {
   "cell_type": "code",
   "execution_count": 20,
   "metadata": {},
   "outputs": [
    {
     "name": "stderr",
     "output_type": "stream",
     "text": [
      "/Users/Krista/anaconda/envs/hddm/lib/python3.5/site-packages/scipy/optimize/optimize.py:1927: RuntimeWarning: invalid value encountered in double_scalars\n",
      "  tmp2 = (x - v) * (fx - fw)\n",
      "/Users/Krista/anaconda/envs/hddm/lib/python3.5/site-packages/scipy/optimize/optimize.py:1932: RuntimeWarning: invalid value encountered in absolute\n",
      "  tmp2 = numpy.abs(tmp2)\n",
      "/Users/Krista/anaconda/envs/hddm/lib/python3.5/site-packages/pymc/Node.py:403: VisibleDeprecationWarning: using a non-integer number instead of an integer will result in an error in the future\n",
      "  self.__name__ = input['__name__']\n"
     ]
    },
    {
     "name": "stdout",
     "output_type": "stream",
     "text": [
      " [-----------------100%-----------------] 1001 of 1000 complete in 1010.3 sec"
     ]
    },
    {
     "name": "stderr",
     "output_type": "stream",
     "text": [
      "/Users/Krista/anaconda/envs/hddm/lib/python3.5/site-packages/numpy/core/fromnumeric.py:1156: VisibleDeprecationWarning: using a non-integer number instead of an integer will result in an error in the future\n",
      "  a = a[:-extra]\n",
      "/Users/Krista/anaconda/envs/hddm/lib/python3.5/site-packages/numpy/core/fromnumeric.py:224: VisibleDeprecationWarning: using a non-integer number instead of an integer will result in an error in the future\n",
      "  return reshape(newshape, order=order)\n"
     ]
    },
    {
     "data": {
      "text/plain": [
       "<pymc.MCMC.MCMC at 0x10af34b38>"
      ]
     },
     "execution_count": 20,
     "metadata": {},
     "output_type": "execute_result"
    }
   ],
   "source": [
    "drift_stim = hddm.HDDM(data, bias=False, depends_on={'v':'cond'},\n",
    "                        include=['v'], p_outlier=0.05)\n",
    "drift_stim.find_starting_values()\n",
    "drift_stim.sample(1000, burn=20)"
   ]
  },
  {
   "cell_type": "code",
   "execution_count": 21,
   "metadata": {},
   "outputs": [
    {
     "name": "stderr",
     "output_type": "stream",
     "text": [
      "/Users/Krista/anaconda/envs/hddm/lib/python3.5/site-packages/scipy/optimize/optimize.py:1927: RuntimeWarning: invalid value encountered in double_scalars\n",
      "  tmp2 = (x - v) * (fx - fw)\n",
      "/Users/Krista/anaconda/envs/hddm/lib/python3.5/site-packages/scipy/optimize/optimize.py:1932: RuntimeWarning: invalid value encountered in absolute\n",
      "  tmp2 = numpy.abs(tmp2)\n",
      "/Users/Krista/anaconda/envs/hddm/lib/python3.5/site-packages/pymc/Node.py:403: VisibleDeprecationWarning: using a non-integer number instead of an integer will result in an error in the future\n",
      "  self.__name__ = input['__name__']\n"
     ]
    },
    {
     "name": "stdout",
     "output_type": "stream",
     "text": [
      " [-----------------100%-----------------] 1001 of 1000 complete in 886.9 sec"
     ]
    },
    {
     "name": "stderr",
     "output_type": "stream",
     "text": [
      "/Users/Krista/anaconda/envs/hddm/lib/python3.5/site-packages/numpy/core/fromnumeric.py:1156: VisibleDeprecationWarning: using a non-integer number instead of an integer will result in an error in the future\n",
      "  a = a[:-extra]\n",
      "/Users/Krista/anaconda/envs/hddm/lib/python3.5/site-packages/numpy/core/fromnumeric.py:224: VisibleDeprecationWarning: using a non-integer number instead of an integer will result in an error in the future\n",
      "  return reshape(newshape, order=order)\n"
     ]
    },
    {
     "data": {
      "text/plain": [
       "<pymc.MCMC.MCMC at 0x1a1d510dd8>"
      ]
     },
     "execution_count": 21,
     "metadata": {},
     "output_type": "execute_result"
    }
   ],
   "source": [
    "bound_stim = hddm.HDDM(data, bias=False, depends_on={'a':'cond'},\n",
    "                        include=['a'], p_outlier=0.05)\n",
    "bound_stim.find_starting_values()\n",
    "bound_stim.sample(1000, burn=20)"
   ]
  },
  {
   "cell_type": "code",
   "execution_count": 65,
   "metadata": {},
   "outputs": [
    {
     "name": "stderr",
     "output_type": "stream",
     "text": [
      "/Users/Krista/anaconda/envs/hddm/lib/python3.5/site-packages/numpy/core/fromnumeric.py:1156: VisibleDeprecationWarning: using a non-integer number instead of an integer will result in an error in the future\n",
      "  a = a[:-extra]\n",
      "/Users/Krista/anaconda/envs/hddm/lib/python3.5/site-packages/numpy/core/fromnumeric.py:224: VisibleDeprecationWarning: using a non-integer number instead of an integer will result in an error in the future\n",
      "  return reshape(newshape, order=order)\n"
     ]
    },
    {
     "data": {
      "text/plain": [
       "(             mean        std       2.5q        25q         50q         75q  \\\n",
       " v(hc)   0.0669162  0.0134154  0.0403321  0.0578597   0.0669725   0.0763685   \n",
       " v(hv) -0.00428857  0.0123615 -0.0279831 -0.0119585 -0.00459743  0.00383555   \n",
       " v(lc)    0.551843  0.0139085   0.524328   0.541859    0.551807    0.561239   \n",
       " v(lv)    0.447704  0.0149954   0.416266   0.438406     0.44835    0.457574   \n",
       " \n",
       "            97.5q       mc err  \n",
       " v(hc)   0.093459  0.000732922  \n",
       " v(hv)  0.0204992  0.000644713  \n",
       " v(lc)   0.577955  0.000816067  \n",
       " v(lv)   0.478278  0.000874351  ,\n",
       "              mean        std       2.5q        25q        50q         75q  \\\n",
       " v(hc)   0.0657708  0.0147958  0.0362288  0.0552691  0.0661085   0.0757669   \n",
       " v(hv) -0.00307113  0.0134429 -0.0293977  -0.012048 -0.0029857  0.00637125   \n",
       " v(lc)    0.575465  0.0156925   0.546704   0.564503   0.575063    0.586206   \n",
       " v(lv)    0.485194  0.0152809   0.455035   0.474789   0.485006    0.495141   \n",
       " \n",
       "            97.5q       mc err  \n",
       " v(hc)  0.0951167  0.000752908  \n",
       " v(hv)  0.0229203   0.00062814  \n",
       " v(lc)   0.606801  0.000832358  \n",
       " v(lv)      0.514  0.000763598  )"
      ]
     },
     "execution_count": 65,
     "metadata": {},
     "output_type": "execute_result"
    }
   ],
   "source": [
    "comb_stats = comb_stim.gen_stats()\n",
    "drift_stats = drift_stim.gen_stats()\n",
    "\n",
    "comb_v = comb_stats[comb_stats.index.isin(['v(hc)','v(lc)', 'v(hv)','v(lv)'])]\n",
    "drift_v = drift_stats[drift_stats.index.isin(['v(hc)','v(lc)', 'v(hv)','v(lv)'])]\n",
    "\n",
    "comb_v, drift_v"
   ]
  },
  {
   "cell_type": "code",
   "execution_count": null,
   "metadata": {},
   "outputs": [],
   "source": [
    "a = comb_stats[comb_stats.index.isin(['a(hc)','a(lc)', 'a(hv)','a(lv)'])]\n"
   ]
  },
  {
   "cell_type": "code",
   "execution_count": 12,
   "metadata": {},
   "outputs": [
    {
     "ename": "NameError",
     "evalue": "name 'm_stim' is not defined",
     "output_type": "error",
     "traceback": [
      "\u001b[0;31m---------------------------------------------------------------------------\u001b[0m",
      "\u001b[0;31mNameError\u001b[0m                                 Traceback (most recent call last)",
      "\u001b[0;32m<ipython-input-12-b35ffe31c376>\u001b[0m in \u001b[0;36m<module>\u001b[0;34m()\u001b[0m\n\u001b[0;32m----> 1\u001b[0;31m \u001b[0mm_stim\u001b[0m\u001b[0;34m.\u001b[0m\u001b[0mplot_posteriors\u001b[0m\u001b[0;34m(\u001b[0m\u001b[0;34m'a'\u001b[0m\u001b[0;34m,\u001b[0m \u001b[0;34m'v'\u001b[0m\u001b[0;34m)\u001b[0m\u001b[0;34m\u001b[0m\u001b[0m\n\u001b[0m",
      "\u001b[0;31mNameError\u001b[0m: name 'm_stim' is not defined"
     ]
    }
   ],
   "source": [
    "m_stim.plot_posteriors('a', 'v')"
   ]
  },
  {
   "cell_type": "code",
   "execution_count": null,
   "metadata": {},
   "outputs": [],
   "source": [
    "v_lc, v_hc = comb_stim.nodes_db.node[['v(lc)', 'v(hc)']]\n",
    "v_lv, v_hv = comb_stim.nodes_db.node[['v(lv)', 'v(hv)']]\n",
    "a_lv, a_hv = comb_stim.nodes_db.node[['a(lv)', 'a(hv)']]\n",
    "a_lc, a_hc = comb_stim.nodes_db.node[['a(lc)', 'a(hc)']]"
   ]
  },
  {
   "cell_type": "code",
   "execution_count": null,
   "metadata": {},
   "outputs": [],
   "source": [
    "hddm.analyze.plot_posterior_nodes([v_lc, v_hc])\n",
    "plt.xlabel('drift-rate')\n",
    "plt.ylabel('Posterior probability')\n",
    "plt.title('1000t: Posterior of drift-rate group means')\n",
    "plt.savefig('1000t_drift_conflict.pdf')\n",
    "\n",
    "hddm.analyze.plot_posterior_nodes([v_lv, v_hv])\n",
    "plt.xlabel('drift-rate')\n",
    "plt.ylabel('Posterior probability')\n",
    "plt.title('1000t: Posterior of drift-rate group means')\n",
    "plt.savefig('1000t_drift_vol.pdf')\n",
    "\n",
    "hddm.analyze.plot_posterior_nodes([a_lc, a_hc])\n",
    "plt.xlabel('decision boundary')\n",
    "plt.ylabel('Posterior probability')\n",
    "plt.title('1000t: Posterior of decision boundary group means')\n",
    "plt.savefig('1000t_bound_conflict.pdf')\n",
    "\n",
    "\n",
    "hddm.analyze.plot_posterior_nodes([a_lv, a_hv])\n",
    "plt.xlabel('decision boundary')\n",
    "plt.ylabel('Posterior probability')\n",
    "plt.title('1000t: Posterior of decision boundary group means')\n",
    "plt.savefig('1000t_bound_vol.pdf')\n"
   ]
  },
  {
   "cell_type": "code",
   "execution_count": null,
   "metadata": {},
   "outputs": [],
   "source": [
    "# print(\"P(low_conflict_drift > high_conflict_drift) = \", (v_hc.trace() > v_lc.trace()).mean())\n",
    "# print(\"P(low_conflict_bound > high_conflict_bound) = \", (a_hc.trace() > a_lc.trace()).mean())\n",
    "# print(\"P(high_volatility_bound > low_volatility_bound) = \", (a_hv.trace() > a_lv.trace()).mean())\n",
    "# print(\"P(high_volatility_drift > low_volatility_drift) = \", (v_hv.trace() > v_lv.trace()).mean())"
   ]
  },
  {
   "cell_type": "code",
   "execution_count": null,
   "metadata": {},
   "outputs": [],
   "source": [
    "#for when i fit a null model \n",
    "print(\"Stimulus model DIC: %f\" % m_stim.dic)"
   ]
  },
  {
   "cell_type": "code",
   "execution_count": null,
   "metadata": {},
   "outputs": [],
   "source": [
    "#model does not save... db is 'ram' error\n",
    "# m_stim.save('1000t')"
   ]
  },
  {
   "cell_type": "code",
   "execution_count": 25,
   "metadata": {},
   "outputs": [
    {
     "name": "stdout",
     "output_type": "stream",
     "text": [
      "combined model DIC: 22437.580444\n",
      "drift model DIC: 31732.815273\n",
      "bound model DIC: 24765.754624\n"
     ]
    },
    {
     "data": {
      "image/png": "[encoded data removed]",
      "text/plain": [
       "<Figure size 720x720 with 1 Axes>"
      ]
     },
     "metadata": {},
     "output_type": "display_data"
    }
   ],
   "source": [
    "#for when i fit alternative models\n",
    "\n",
    "fig_path = '/Users/Krista/Dropbox/volatileValues/m_plots/'\n",
    "\n",
    "print(\"combined model DIC: %f\" % comb_stim.dic)\n",
    "print(\"drift model DIC: %f\" % drift_stim.dic)\n",
    "print(\"bound model DIC: %f\" % bound_stim.dic)\n",
    "\n",
    "plt.rcParams['figure.figsize'] = 10, 10\n",
    "plt.rcParams['axes.titlesize'] = 25\n",
    "plt.rcParams['axes.labelsize'] = 30\n",
    "plt.rcParams['xtick.labelsize'] = 30\n",
    "plt.rcParams['ytick.labelsize'] = 30\n",
    "\n",
    "names = [r'$a + v$',r'$a$',r'$v$']\n",
    "dics = [comb_stim.dic,  bound_stim.dic, drift_stim.dic]\n",
    "bars = plt.barh(names,dics, alpha=0.5)\n",
    "plt.xlabel('DIC score')\n",
    "\n",
    "bars[0].set_color('r')\n",
    "bars[1].set_color('blue')\n",
    "bars[2].set_color('forestgreen')\n",
    "\n",
    "plt.axvline(comb_stim.dic, color='k', alpha=0.5, linestyle = '--')\n",
    "plt.savefig(fig_path+'1000t_DIC.pdf')"
   ]
  },
  {
   "cell_type": "code",
   "execution_count": 54,
   "metadata": {},
   "outputs": [
    {
     "data": {
      "text/plain": [
       "(1, 3)"
      ]
     },
     "execution_count": 54,
     "metadata": {},
     "output_type": "execute_result"
    }
   ],
   "source": [
    "import numpy as np\n",
    "dics = np.hstack(np.matrix((comb_stim.dic,  bound_stim.dic,  drift_stim.dic)))\n",
    "# np.diff(dics)\n",
    "header = ('combined_dic, a_dic, v_dic')\n",
    "np.savetxt('1000t_DICs.csv', dics, header = header, delimiter=',', comments='')"
   ]
  },
  {
   "cell_type": "code",
   "execution_count": 26,
   "metadata": {},
   "outputs": [
    {
     "name": "stderr",
     "output_type": "stream",
     "text": [
      "/Users/Krista/anaconda/envs/hddm/lib/python3.5/site-packages/numpy/core/fromnumeric.py:1156: VisibleDeprecationWarning: using a non-integer number instead of an integer will result in an error in the future\n",
      "  a = a[:-extra]\n",
      "/Users/Krista/anaconda/envs/hddm/lib/python3.5/site-packages/numpy/core/fromnumeric.py:224: VisibleDeprecationWarning: using a non-integer number instead of an integer will result in an error in the future\n",
      "  return reshape(newshape, order=order)\n"
     ]
    }
   ],
   "source": [
    " comb_stim.print_stats('./1000t_comb_stats.csv')\n",
    " drift_stim.print_stats('./1000t_drift_stats.csv')\n",
    " bound_stim.print_stats('./1000t_bound_stats.csv')"
   ]
  },
  {
   "cell_type": "code",
   "execution_count": null,
   "metadata": {},
   "outputs": [],
   "source": []
  }
 ],
 "metadata": {
  "kernelspec": {
   "display_name": "hddm",
   "language": "python",
   "name": "hddm"
  },
  "language_info": {
   "codemirror_mode": {
    "name": "ipython",
    "version": 3
   },
   "file_extension": ".py",
   "mimetype": "text/x-python",
   "name": "python",
   "nbconvert_exporter": "python",
   "pygments_lexer": "ipython3",
   "version": "3.5.5"
  }
 },
 "nbformat": 4,
 "nbformat_minor": 2
}
