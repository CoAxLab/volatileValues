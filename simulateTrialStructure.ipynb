{
 "cells": [
  {
   "cell_type": "markdown",
   "metadata": {
    "collapsed": true
   },
   "source": [
    "# volVal trial structure generation, radd simulation, and experimental results"
   ]
  },
  {
   "cell_type": "code",
   "execution_count": null,
   "metadata": {
    "collapsed": true
   },
   "outputs": [],
   "source": [
    "#write simulator for various trial structures\n",
    "#function for trial structure, simulate results, then experimental "
   ]
  },
  {
   "cell_type": "code",
   "execution_count": 1,
   "metadata": {
    "collapsed": true
   },
   "outputs": [],
   "source": [
    "import matplotlib.pyplot as plt\n",
    "import numpy as np\n",
    "import random as rd\n",
    "import itertools\n",
    "from matplotlib import animation, rc\n",
    "from IPython.display import HTML \n",
    "import csv\n",
    "%matplotlib inline\n",
    "import pandas as pd"
   ]
  },
  {
   "cell_type": "code",
   "execution_count": null,
   "metadata": {},
   "outputs": [],
   "source": [
    "# def generateTrialStructure(nTrials, lambdaV, lambdaSS, ssd, sigmaMin, sigmaMax):\n",
    "#     #insert code\n",
    "#     return t1_baseReward, t2_baseReward, ssd, changePointVec, rewardDelta, \n",
    "#             muRewardDelta, sigmaDelta"
   ]
  },
  {
   "cell_type": "code",
   "execution_count": 237,
   "metadata": {
    "collapsed": true
   },
   "outputs": [],
   "source": [
    "#function inputs for testing \n",
    "nTrials = 1000\n",
    "lambdaV = 10\n",
    "lambdaStop = 10 #this will be constrained by the # of trials and perc. \n",
    "ssd = [200, 250, 300, 350, 450]\n",
    "\n",
    "percStopTrials = .10\n",
    "constantChangePoint = 0\n",
    "muMin = .25\n",
    "muMax = .75\n",
    "sigmaMin = 0 \n",
    "sigmaMax =  1 - muMax #needs to be chosen to ensure that r diff is !> 1 \n"
   ]
  },
  {
   "cell_type": "code",
   "execution_count": 5,
   "metadata": {},
   "outputs": [],
   "source": [
    "#sample changePoint\n",
    "changePoint_vec = np.zeros((nTrials, 1))\n",
    "changePoints = []\n",
    "\n",
    "if constantChangePoint == 0:\n",
    "    \n",
    "    i = 1\n",
    "    while np.sum(changePoints) < nTrials:\n",
    "        changePoints += list(np.random.poisson(lambdaV,i))   \n",
    "\n",
    "    #if the sum(epochs) > nTrials, remove the last changePoint \n",
    "    #if we want to impose fewer constraints to prioritize integrity of \n",
    "    #random selection, we can relax the absolute # of trials \n",
    "    if np.sum(changePoints) > nTrials:\n",
    "        changePoints = changePoints[0:-1]       \n",
    "    \n",
    "    #convert to trial number indices \n",
    "    changeIdx = list(itertools.accumulate(changePoints))\n",
    "    #mark change point \n",
    "    changePoint_vec[changeIdx] = 1 \n",
    "    \n",
    "elif constantChangePoint == 1:\n",
    "    changePoints = np.int(np.random.poisson(lambdaV,1))\n",
    "    changePoint_vec[changePoints::changePoints,:] = 1 \n",
    "# print(changeIdx)\n",
    "# print(changePoint_vec)"
   ]
  },
  {
   "cell_type": "code",
   "execution_count": null,
   "metadata": {
    "scrolled": true
   },
   "outputs": [],
   "source": [
    "#stop trials \n",
    "nStopTrials = np.int(percStopTrials * nTrials)\n",
    "stopPoints = np.random.poisson(lambdaStop,nStopTrials) #length\n",
    "stopIdx = np.array(list(itertools.accumulate(stopPoints)))#indices\n",
    "\n",
    "#this is not working\n",
    "while np.sum(stopPoints) > nTrials: \n",
    "    #find location of samples > nTrials and resample \n",
    "    nStopRev = len(np.nonzero(stopIdx>nTrials))\n",
    "    stopPoints[stopPoints>nTrials] = np.random.poisson(lambdaStop, nStopRev)\n",
    "    stopIdx = np.array(list(itertools.accumulate(stopPoints)))\n",
    "    check = len(np.unique(stopIdx)) == nStopTrials \n",
    "    \n",
    "#assign delays to the stop indices \n",
    "nSamplesPerDelay = np.int(nStopTrials/len(ssd))\n",
    "ssd_vec = np.zeros((nTrials, 1))\n",
    "ssd_assignment = np.zeros((nSamplesPerDelay,1))\n",
    "\n",
    "for idx in range(len(ssd)):\n",
    "    ssd_assignment = np.random.choice(stopIdx, nSamplesPerDelay, replace = False)\n",
    "    ssd_vec[ssd_assignment] = ssd[idx]\n",
    "    stopIdx = stopIdx[stopIdx != ssd_assignment]\n",
    "    print(stopIdx)\n",
    "\n",
    "#     print(stopIdx)\n",
    "#     print(len(stopIdx))\n",
    "\n",
    "# print(len(ssd_vec[ssd_vec != 0]))\n",
    "# print(stopIdx)\n",
    "# print(stopIdx)\n",
    "# print(check)\n"
   ]
  },
  {
   "cell_type": "code",
   "execution_count": 359,
   "metadata": {},
   "outputs": [
    {
     "ename": "IndentationError",
     "evalue": "unexpected indent (<ipython-input-359-055397588595>, line 14)",
     "output_type": "error",
     "traceback": [
      "\u001b[0;36m  File \u001b[0;32m\"<ipython-input-359-055397588595>\"\u001b[0;36m, line \u001b[0;32m14\u001b[0m\n\u001b[0;31m    test = changePoints[i]\u001b[0m\n\u001b[0m    ^\u001b[0m\n\u001b[0;31mIndentationError\u001b[0m\u001b[0;31m:\u001b[0m unexpected indent\n"
     ]
    }
   ],
   "source": [
    "#means and sigma\n",
    "nEpochs = np.int(np.sum(changePoint_vec)) + 1\n",
    "mu_p = np.random.uniform(muMin, muMax, np.int(nEpochs/2))\n",
    "mu_n = -1*mu_p\n",
    "muRewardDelta = np.array(np.hstack((mu_p, mu_n)))\n",
    "np.random.shuffle(muRewardDelta)\n",
    "# print(nEpochs)\n",
    "\n",
    "sigma = np.random.uniform(sigmaMin, sigmaMax, 1)\n",
    "\n",
    "rewardDelta = np.zeros((nTrials,1))\n",
    "\n",
    "\n",
    "test = changePoints[i]\n",
    "        x = changePoints[i-1]\n",
    "for i in range(0, nEpochs):\n",
    "    for idx in range(x, test):\n",
    "        rewardDelta[idx] = np.random.normal(muRewardDelta[idx], sigma)\n",
    "     \n",
    "# print(rewardDelta)\n",
    "        print(i)\n",
    "\n",
    "        #     np.random.normal(mu[], sigma[0],\n",
    "# print(changePoints)\n",
    "\n",
    "# print(rewardDelta)\n",
    "#sample from a normal distribution to generate reward delta"
   ]
  },
  {
   "cell_type": "code",
   "execution_count": null,
   "metadata": {
    "collapsed": true
   },
   "outputs": [],
   "source": [
    "#reverse engineer the actual values for targets\n",
    "\n",
    "#assume baseline value of .5 for each\n",
    "baseTargets = 0.5*np.ones((nTrials,2))\n",
    "rewardDelta_div = rewardDelta / 2\n",
    "adjustedTargets = np.ones_like(baseTargets)\n",
    "\n",
    "#always add half and subtract half of target value\n",
    "for i in range(0, len(baseTargets)):\n",
    "    adjustedTargets[i,0] = baseTargets[i,0] +  rewardDelta_div[i]\n",
    "    adjustedTargets[i,1] = baseTargets[i,1] -  rewardDelta_div[i]\n",
    "\n",
    "print(adjustedTargets)\n",
    "\n",
    "\n",
    "plt.title(\"raw target reward probabilities\")\n",
    "plt.xlabel(\"trial\")\n",
    "plt.ylabel(\"reward probability\")\n",
    "plt.legend([\"t1\", \"t2\"])\n",
    "plt.plot(adjustedTargets[0:nTrials,0], 'b.')\n",
    "plt.plot(adjustedTargets[0:nTrials,1], 'g.')\n",
    "\n",
    "\n",
    "plt.title(\"difference between target reward probabilities\")\n",
    "plt.xlabel(\"trial\")\n",
    "plt.ylabel(\"$\\Delta$ reward probability\")\n",
    "plt.legend([\"t1\", \"t2\"])\n",
    "plt.plot(rewardDelta, 'k.')\n"
   ]
  },
  {
   "cell_type": "markdown",
   "metadata": {},
   "source": [
    "# animate trial structure"
   ]
  },
  {
   "cell_type": "code",
   "execution_count": null,
   "metadata": {
    "collapsed": true
   },
   "outputs": [],
   "source": [
    "# First set up the figure, the axis, and the plot element we want to animate\n",
    "fig, ax = plt.subplots()\n",
    "\n",
    "ax.set_xlim(( -2, 2))\n",
    "ax.set_ylim((-2, 2))\n",
    "\n",
    "sinegraph, = ax.plot([], [])\n",
    "dot, = ax.plot([], [],'o', color='red')\n",
    "\n",
    "x = np.linspace(0, 2, 1000)\n",
    "y = np.cos(x)"
   ]
  },
  {
   "cell_type": "code",
   "execution_count": null,
   "metadata": {
    "collapsed": true
   },
   "outputs": [],
   "source": [
    "# initialization function: plot the background of each frame\n",
    "def init():\n",
    "    dot.set_data([], [])\n",
    "    return (dot,)"
   ]
  },
  {
   "cell_type": "code",
   "execution_count": null,
   "metadata": {
    "collapsed": true
   },
   "outputs": [],
   "source": [
    "# animation function. This is called sequentially\n",
    "def animate(i): \n",
    "#     y2 = np.ones(0, 2, 1000)\n",
    "#     jitter = np.random.normal(0, 1, (100,1))\n",
    "#     y=np.linspace(-1, 1, num=1000) * (x - 0.01 * i)\n",
    "    sinegraph.set_data(x[:i],y[:i])\n",
    "    dot.set_data(x[i],y[i])\n",
    "    return (dot,)\n"
   ]
  },
  {
   "cell_type": "code",
   "execution_count": null,
   "metadata": {
    "collapsed": true
   },
   "outputs": [],
   "source": [
    "# call the animator. blit=True means only re-draw the parts that have changed.\n",
    "anim = animation.FuncAnimation(fig, animate, init_func=init,\n",
    "                               frames=50, interval=10000, blit=True)"
   ]
  },
  {
   "cell_type": "code",
   "execution_count": null,
   "metadata": {
    "collapsed": true
   },
   "outputs": [],
   "source": [
    "HTML(anim.to_html5_video())"
   ]
  },
  {
   "cell_type": "code",
   "execution_count": null,
   "metadata": {
    "collapsed": true
   },
   "outputs": [],
   "source": [
    "#interface with radd kyle\n"
   ]
  },
  {
   "cell_type": "markdown",
   "metadata": {
    "collapsed": true
   },
   "source": [
    "## print parameters to a csv file "
   ]
  },
  {
   "cell_type": "code",
   "execution_count": null,
   "metadata": {
    "collapsed": true
   },
   "outputs": [],
   "source": [
    "taskParameters = [t1_baseReward, t2_baseReward, ssd, changePointVec, rewardDelta, \n",
    "            muRewardDelta, sigmaDelta]\n",
    "header = (\"t1_baseReward, t2_baseReward, ssd, changePoint,\n",
    "          \"rewardDelta, muRewardDelta, sigmaDelta\")\n",
    "          \n",
    "np.savetxt('VolVal_TrialStructure.csv',file_mat, header = header, delimiter=',', comments = '')"
   ]
  },
  {
   "cell_type": "code",
   "execution_count": null,
   "metadata": {
    "collapsed": true
   },
   "outputs": [],
   "source": []
  }
 ],
 "metadata": {
  "kernelspec": {
   "display_name": "Python 3",
   "language": "python",
   "name": "python3"
  },
  "language_info": {
   "codemirror_mode": {
    "name": "ipython",
    "version": 3
   },
   "file_extension": ".py",
   "mimetype": "text/x-python",
   "name": "python",
   "nbconvert_exporter": "python",
   "pygments_lexer": "ipython3",
   "version": "3.6.0"
  }
 },
 "nbformat": 4,
 "nbformat_minor": 2
}
