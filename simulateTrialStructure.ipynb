{
 "cells": [
  {
   "cell_type": "markdown",
   "metadata": {
    "collapsed": true
   },
   "source": [
    "# trial structure simulation "
   ]
  },
  {
   "cell_type": "code",
   "execution_count": null,
   "metadata": {
    "collapsed": true
   },
   "outputs": [],
   "source": [
    "#write simulator for various trial structures\n",
    "#(should be able to change one parameter and plot new structure)\n",
    "#should maybe be a function with nTrials, etc. as inputs? "
   ]
  },
  {
   "cell_type": "code",
   "execution_count": 34,
   "metadata": {},
   "outputs": [],
   "source": [
    "import matplotlib.pyplot as plt\n",
    "import sklearn\n",
    "import numpy as np\n",
    "import random as rd\n",
    "from matplotlib import animation, rc\n",
    "from IPython.display import HTML \n",
    "import csv\n",
    "%matplotlib inline\n",
    "\n",
    "#tuesday afternoon \n",
    "#github vrsn control \n",
    "#function for trialstructure, simulate, then experimental \n",
    "#3-4 papers a week (accumulation & DM, yael niv, josh gold, spreadsheet, key images and figures))"
   ]
  },
  {
   "cell_type": "code",
   "execution_count": 2,
   "metadata": {},
   "outputs": [],
   "source": [
    "#constants\n",
    "baseEpochLen = 40\n",
    "nEpochs = 20\n",
    "baseLen = baseEpochLen #these trials can be null?\n",
    "# noResponse_pt = -100 #this goes more into the actual task code \n",
    "# feedback_time = 500\n",
    "# trial_time = 1000\n",
    "nTrials = 1000 #20 epochs, last epoch will assess \"explore/exploit aftereffect\"\n",
    "#volatility sampled from a uniform distribution \n",
    "#sigma and lambda held constant within a session \n"
   ]
  },
  {
   "cell_type": "code",
   "execution_count": 3,
   "metadata": {},
   "outputs": [
    {
     "name": "stdout",
     "output_type": "stream",
     "text": [
      "80.0\n"
     ]
    }
   ],
   "source": [
    "#specify the balance of reward and punishment; mapping from -1:1 space to point values\n",
    "#color of timing bar, etc. in the actual task code\n",
    "\n",
    "#also include probablistic length of each epoch, sampling from a poisson process? \n",
    "# poisson_EpochLen = np.ones((1,nTrials)\n",
    "# print(np.size(poisson_EpochLen))\n",
    "                        \n",
    "# #maintain constant the nTrials and number of epochs                         \n",
    "# while np.sum(poisson_EpochLen) != nTrials:\n",
    "#     poisson_EpochLen = np.random.poisson(baseEpochLen, nEpochs)\n",
    "\n",
    "# print(np.sum(poisson_EpochLen))                        \n",
    "# plt.hist(x)\n",
    "# print(poisson_EpochLen)\n",
    "# print(np.sum(poisson_EpochLen))\n",
    "\n",
    "#but how would i fix the percentage? \n",
    "nStopTrials = round(.10*nTrials, 0) #10% of trials; don't include in baseline\n",
    "print(nStopTrials)"
   ]
  },
  {
   "cell_type": "markdown",
   "metadata": {},
   "source": [
    "## reward statistics\n"
   ]
  },
  {
   "cell_type": "code",
   "execution_count": 32,
   "metadata": {},
   "outputs": [
    {
     "name": "stdout",
     "output_type": "stream",
     "text": [
      "[[ 0.43658611  0.44174837  0.42565289 ...,  0.43026026  0.51180071\n",
      "   0.50999017]\n",
      " [ 0.26743358  0.2505485   0.24921048 ...,  0.23898962  0.2507512\n",
      "   0.17714854]\n",
      " [ 0.23806228  0.3666929   0.26954755 ...,  0.28298843  0.37585096\n",
      "   0.36919122]\n",
      " ..., \n",
      " [-0.74246119 -0.77372201 -0.74080983 ..., -0.76073089 -0.67528504\n",
      "  -0.64436767]\n",
      " [-0.58680378 -0.65148679 -0.71902752 ..., -0.59509893 -0.68339913\n",
      "  -0.65606074]\n",
      " [-0.3944289  -0.27120601 -0.37053313 ..., -0.46339112 -0.24505931\n",
      "  -0.3307437 ]]\n",
      "[[ 1.  1.  1. ...,  1.  1.  1.]\n",
      " [ 1.  1.  1. ...,  1.  1.  1.]\n",
      " [ 1.  1.  1. ...,  1.  1.  1.]\n",
      " ..., \n",
      " [ 1.  1.  1. ...,  1.  1.  1.]\n",
      " [ 1.  1.  1. ...,  1.  1.  1.]\n",
      " [ 1.  1.  1. ...,  1.  1.  1.]]\n"
     ]
    }
   ],
   "source": [
    " #need same absolute number of reward means  \n",
    "# transition is what will be important to change \n",
    "# start with one trial structure\n",
    "\n",
    "#set of parameters for 20 different distributions \n",
    "\n",
    "mu_p = np.array(rd.sample(list(np.linspace(.25,.75, 20)),10))\n",
    "mu_n = -1*mu_p\n",
    "mu = np.hstack((mu_p, mu_n))\n",
    "\n",
    "#repeat to match nEpochs\n",
    "sigma = [.05, .25]\n",
    "# print(sigma)\n",
    "# print(len(sigma))\n",
    "\n",
    "# print(sigma)\n",
    "# print(np.mean(mu))\n",
    "\n",
    "#why not first initalize it as a flattened array? \n",
    "epochReward_highVar = np.ones((nEpochs, nTrials))\n",
    "epochReward_lowVar = np.ones((nEpochs, nTrials))\n",
    "\n",
    "# print(np.size(epochReward))\n",
    "\n",
    "\n",
    "#first half\n",
    "# for i in range(0,nEpochs):\n",
    "i = 0 \n",
    "\n",
    "for row in epochReward_lowVar:\n",
    "    while np.any(np.abs(row) >= 1): #replace trials in epoch > 1 if needed\n",
    "        row[np.abs(row)>=1] = np.random.normal(mu[i], sigma[0],\n",
    "        row[np.abs(row)>=1].size) \n",
    "        #find elements that don't meet criterion and replace\n",
    "#         print(sigma[i])\n",
    "    i += 1\n",
    "    \n",
    "\n",
    "row = 0\n",
    "\n",
    "for row in epochReward_lowVar:\n",
    "    while np.any(np.abs(row) >= 1): #replace trials in epoch > 1 if needed\n",
    "        row[np.abs(row)>=1] = np.random.normal(mu[i], sigma[1],\n",
    "        row[np.abs(row)>=1].size) \n",
    "        #find elements that don't meet criterion and replace\n",
    "#         print(sigma[i])\n",
    "    i += 1\n",
    "print(epochReward_lowVar)\n",
    "print(epochReward_highVar)\n",
    "        \n",
    "# print(epochReward[:,:])\n",
    "# print(mu[i])\n",
    "# print(sigma)\n",
    "# plt.hist(epochReward)\n",
    "# print(epochReward[np.abs(epochReward)>=1])\n",
    "\n",
    "epochReward_flat_lowVar = epochReward_lowVar.flatten()\n",
    "epochReward_flat_highVar = epochReward_highVar.flatten()\n"
   ]
  },
  {
   "cell_type": "code",
   "execution_count": 30,
   "metadata": {},
   "outputs": [
    {
     "data": {
      "text/plain": [
       "[<matplotlib.lines.Line2D at 0x10c1c91d0>]"
      ]
     },
     "execution_count": 30,
     "metadata": {},
     "output_type": "execute_result"
    },
    {
     "data": {
      "image/png": "[encoded data removed]",
      "text/plain": [
       "<matplotlib.figure.Figure at 0x10c5e7b70>"
      ]
     },
     "metadata": {},
     "output_type": "display_data"
    }
   ],
   "source": [
    "#need to reverse engineer the actual values for targets\n",
    "#assume baseline value of .5 for each\n",
    "baseTargets = 0.5*np.ones((nTrials,2))\n",
    "\n",
    "varSwitch = 2\n",
    "\n",
    "if varSwitch == 1:\n",
    "    epochReward_flat = epochReward_flat_lowVar\n",
    "elif varSwitch == 2: \n",
    "    epochReward_flat = epochReward_flat_highVar\n",
    "\n",
    "epochReward_flat_div = epochReward_flat / 2\n",
    "adjustedTargets = np.ones_like(baseTargets)\n",
    "#always add half and subtract half of target value\n",
    "for i in range(0, len(baseTargets)):\n",
    "    adjustedTargets[i,0] = baseTargets[i,0] +  epochReward_flat_div[i]\n",
    "    adjustedTargets[i,1] = baseTargets[i,1] -  epochReward_flat_div[i]\n",
    "\n",
    "# print(adjustedTargets)\n",
    "#make last epoch a 100% reward for the left (or right) target, can counterbalance\n",
    "# adjustedTargets[]\n",
    "\n",
    "# plt.title(\"raw target reward probabilities\")\n",
    "# plt.xlabel(\"trial\")\n",
    "# plt.ylabel(\"reward probability\")\n",
    "# plt.legend([\"t1\", \"t2\"])\n",
    "# plt.plot(adjustedTargets[1:800,0], 'b.')\n",
    "# plt.plot(adjustedTargets[1:800,1], 'g.')\n",
    "\n",
    "\n",
    "plt.title(\"difference between target reward probabilities\")\n",
    "plt.xlabel(\"trial\")\n",
    "plt.ylabel(\"$\\Delta$ reward probability\")\n",
    "plt.legend([\"t1\", \"t2\"])\n",
    "plt.plot(epochReward_flat, 'k.')\n"
   ]
  },
  {
   "cell_type": "code",
   "execution_count": null,
   "metadata": {
    "collapsed": true
   },
   "outputs": [],
   "source": [
    "#rearrange to emphasize transitions/changepoints"
   ]
  },
  {
   "cell_type": "markdown",
   "metadata": {},
   "source": [
    "## stop trial selection\n"
   ]
  },
  {
   "cell_type": "code",
   "execution_count": null,
   "metadata": {},
   "outputs": [],
   "source": [
    "#this samples without replacement\n",
    "\n",
    "#poisson dist. \n",
    "\n",
    "trialPopulation = np.linspace(1, nTrials, num = nTrials, endpoint = True)\n",
    "# print(trialPopulation)\n",
    "\n",
    "#randomly sample from list without replacement \n",
    "stopTrials = rd.sample(list(trialPopulation), nStopTrials)\n",
    "#print(stopTrials)\n",
    "#check that all values are unique\n",
    "#print(np.unique(stopSelector).size == len(stopSelector))\n",
    "\n",
    "stopTrials_zeros = np.zeros((nTrials,1))\n",
    "np.put(stopTrials_zeros, stopTrials, 1)\n",
    "# print(stopTrials_zeros)\n",
    "\n",
    "plt.title(\"stop trial incidence\")\n",
    "plt.xlabel(\"trial\")\n",
    "plt.ylabel(\"stop trial\")\n",
    "plt.plot(stopTrials_zeros, 'r.')\n",
    "plt.show()\n"
   ]
  },
  {
   "cell_type": "markdown",
   "metadata": {},
   "source": [
    "# animate trial structure"
   ]
  },
  {
   "cell_type": "code",
   "execution_count": null,
   "metadata": {
    "collapsed": true
   },
   "outputs": [],
   "source": [
    "# First set up the figure, the axis, and the plot element we want to animate\n",
    "fig, ax = plt.subplots()\n",
    "\n",
    "ax.set_xlim(( -2, 2))\n",
    "ax.set_ylim((-2, 2))\n",
    "\n",
    "sinegraph, = ax.plot([], [])\n",
    "dot, = ax.plot([], [],'o', color='red')\n",
    "\n",
    "x = np.linspace(0, 2, 1000)\n",
    "y = np.cos(x)"
   ]
  },
  {
   "cell_type": "code",
   "execution_count": null,
   "metadata": {
    "collapsed": true
   },
   "outputs": [],
   "source": [
    "# initialization function: plot the background of each frame\n",
    "def init():\n",
    "    dot.set_data([], [])\n",
    "    return (dot,)"
   ]
  },
  {
   "cell_type": "code",
   "execution_count": null,
   "metadata": {
    "collapsed": true
   },
   "outputs": [],
   "source": [
    "# animation function. This is called sequentially\n",
    "def animate(i): \n",
    "#     y2 = np.ones(0, 2, 1000)\n",
    "#     jitter = np.random.normal(0, 1, (100,1))\n",
    "#     y=np.linspace(-1, 1, num=1000) * (x - 0.01 * i)\n",
    "    sinegraph.set_data(x[:i],y[:i])\n",
    "    dot.set_data(x[i],y[i])\n",
    "    return (dot,)\n"
   ]
  },
  {
   "cell_type": "code",
   "execution_count": null,
   "metadata": {
    "collapsed": true
   },
   "outputs": [],
   "source": [
    "# call the animator. blit=True means only re-draw the parts that have changed.\n",
    "anim = animation.FuncAnimation(fig, animate, init_func=init,\n",
    "                               frames=50, interval=10000, blit=True)"
   ]
  },
  {
   "cell_type": "code",
   "execution_count": null,
   "metadata": {},
   "outputs": [],
   "source": [
    "HTML(anim.to_html5_video())"
   ]
  },
  {
   "cell_type": "code",
   "execution_count": null,
   "metadata": {
    "collapsed": true
   },
   "outputs": [],
   "source": [
    "#interface with radd kyle\n"
   ]
  },
  {
   "cell_type": "markdown",
   "metadata": {
    "collapsed": true
   },
   "source": [
    "## print parameters to a csv file "
   ]
  },
  {
   "cell_type": "code",
   "execution_count": null,
   "metadata": {},
   "outputs": [],
   "source": [
    "test = np.arange(20) #this will be an array of values corresponding to the parameters\n",
    "\n",
    "trial = np.vstack(np.linspace(1, nTrials, 800))\n",
    "\n",
    "# file_mat = [trial, adjustedTargets[:,0],adjustedTargets[:,1] stopTrials_zeros]\n",
    "\n",
    "print(trial)\n",
    "header = (\"trial, stop, t1_baseReward, t2_baseReward, ssd, lambda1, lambda2, mu1, mu2, \")\n",
    "          \n",
    "np.savetxt('VolVal_TrialStructure.csv',file_mat, header = header, delimiter=',', comments = '')"
   ]
  },
  {
   "cell_type": "code",
   "execution_count": null,
   "metadata": {
    "collapsed": true
   },
   "outputs": [],
   "source": []
  }
 ],
 "metadata": {
  "kernelspec": {
   "display_name": "Python 3",
   "language": "python",
   "name": "python3"
  },
  "language_info": {
   "codemirror_mode": {
    "name": "ipython",
    "version": 3
   },
   "file_extension": ".py",
   "mimetype": "text/x-python",
   "name": "python",
   "nbconvert_exporter": "python",
   "pygments_lexer": "ipython3",
   "version": "3.6.0"
  }
 },
 "nbformat": 4,
 "nbformat_minor": 2
}
