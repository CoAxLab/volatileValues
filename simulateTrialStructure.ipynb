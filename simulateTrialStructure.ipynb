{
 "cells": [
  {
   "cell_type": "markdown",
   "metadata": {
    "collapsed": true
   },
   "source": [
    "# volVal trial structure generation, radd simulation, and experimental results"
   ]
  },
  {
   "cell_type": "code",
   "execution_count": null,
   "metadata": {
    "collapsed": true
   },
   "outputs": [],
   "source": [
    "#write simulator for various trial structures\n",
    "#function for trial structure, simulate results, then experimental "
   ]
  },
  {
   "cell_type": "code",
   "execution_count": 30,
   "metadata": {
    "collapsed": true
   },
   "outputs": [],
   "source": [
    "import matplotlib.pyplot as plt\n",
    "import numpy as np\n",
    "import random as rd\n",
    "from matplotlib import animation, rc\n",
    "from IPython.display import HTML \n",
    "import csv\n",
    "%matplotlib inline\n",
    "import pandas as pd"
   ]
  },
  {
   "cell_type": "code",
   "execution_count": 31,
   "metadata": {
    "collapsed": true
   },
   "outputs": [],
   "source": [
    "#function inputs for testing \n",
    "nTrials = 1000\n",
    "lambdaV = 10\n",
    "lambdaStop = 10  \n",
    "ssd = np.array([200, 250, 300, 350, 450])\n",
    "\n",
    "percStopTrials = .10\n",
    "constantChangePoint = 1\n",
    "muMin = .25\n",
    "muMax = .75\n",
    "sigmaMin = 0 \n"
   ]
  },
  {
   "cell_type": "code",
   "execution_count": 32,
   "metadata": {},
   "outputs": [],
   "source": [
    "def genChangePoint(constantChangePoint, lambdaV, nTrials):\n",
    "\n",
    "    #sample changePoint\n",
    "    changePoint_vec = np.zeros((nTrials, 1))\n",
    "    changePoints = []\n",
    "\n",
    "    if constantChangePoint == 0:\n",
    "\n",
    "        i = 1\n",
    "        while np.sum(changePoints) < nTrials-1:\n",
    "            changePoints += list(np.random.poisson(lambdaV,i))   \n",
    "\n",
    "        #if the sum(epochs) > nTrials, remove the last changePoint \n",
    "        #if we want to impose fewer constraints to prioritize integrity of \n",
    "        #random selection, we can relax the absolute # of trials \n",
    "        if np.sum(changePoints) >= nTrials:\n",
    "            changePoints = changePoints[0:-1]       \n",
    "\n",
    "        #convert to trial number indices \n",
    "        changeIdx = list(np.cumsum(changePoints))\n",
    "        #mark change point \n",
    "        changePoint_vec[changeIdx] = 1 \n",
    "\n",
    "    elif constantChangePoint == 1:\n",
    "        changePoints = np.int(np.random.poisson(lambdaV,1))\n",
    "        changePoint_vec[changePoints::changePoints,:] = 1 \n",
    "        changeIdx = list(np.cumsum(np.repeat(changePoints, np.sum(changePoint_vec))))\n",
    "\n",
    "    #     print(changeIdx)\n",
    "    #     print(np.sum(changePoint_vec)*changePoints, changePoints)\n",
    "    \n",
    "    return changePoint_vec"
   ]
  },
  {
   "cell_type": "code",
   "execution_count": 33,
   "metadata": {
    "scrolled": false
   },
   "outputs": [],
   "source": [
    "def genStop(percStopTrials, lambdaStop, nTrials):\n",
    "\n",
    "    #stop trials \n",
    "    nStopTrials = np.int(percStopTrials * nTrials)\n",
    "    stopPoints = np.random.poisson(lambdaStop,nStopTrials) #length\n",
    "    stopIdx = np.cumsum(stopPoints) #indices\n",
    "\n",
    "    while stopIdx[-1] >= nTrials: \n",
    "        stopPoints = np.random.poisson(lambdaStop,nStopTrials)\n",
    "        stopIdx = np.cumsum(stopPoints)\n",
    "\n",
    "    #assign delays to the stop indices \n",
    "    nSamplesPerDelay = np.int(nStopTrials/len(ssd))\n",
    "    ssd_vec = np.zeros((nTrials,1))\n",
    "\n",
    "    np.random.shuffle(stopIdx)\n",
    "\n",
    "    #need to reshape, otherwise broadcasting problems\n",
    "    ssd_repeatedVal = np.reshape(np.repeat(ssd, nSamplesPerDelay),(nStopTrials,1)) \n",
    "    ssd_vec[stopIdx] = ssd_repeatedVal\n",
    "    \n",
    "    return ssd_vec"
   ]
  },
  {
   "cell_type": "code",
   "execution_count": 34,
   "metadata": {
    "scrolled": false
   },
   "outputs": [],
   "source": [
    "def genMuSigma(muMin, muMax, sigmaMin, changePoint_vec, changeIdx, nTrials):\n",
    "\n",
    "\n",
    "    #means and sigma\n",
    "    nEpochs = np.int(np.sum(changePoint_vec)) + 1\n",
    "\n",
    "    mu_p = np.random.uniform(muMin, muMax, np.int(nEpochs/2))\n",
    "    mu_n = -1*mu_p\n",
    "    muRewardDelta = np.hstack((mu_p, mu_n))\n",
    "    np.random.shuffle(muRewardDelta)\n",
    "    # print(muRewardDelta)\n",
    "\n",
    "    #more control over separation between mean values of each epoch\n",
    "    # muDiff = .05 #greater muDiff = less conflict BETWEEN epochs \n",
    "    # test=np.arange(muMin, muMax, muDiff)\n",
    "    # muControl_shuffle = np.random.uniform(min(test), max(test), len(test))\n",
    "    # print(test)\n",
    "\n",
    "    sigmaMax = min(muMin,1-muMax) #needs to be chosen to ensure that r diff is !> 1 \n",
    "    #choose smaller sigma (based on mu) to avoid violating boundary of 1 or 0 \n",
    "\n",
    "    sigma = np.random.uniform(sigmaMin, sigmaMax, 1)\n",
    "\n",
    "\n",
    "    #sample from a normal distribution to generate reward delta for each trial \n",
    "    rewardDelta = np.zeros((nTrials,1))\n",
    "\n",
    "    #this adds 0 and the end idx to change idx\n",
    "    chgidx = [0]+changeIdx+[nTrials-1]\n",
    "\n",
    "    #constructs unique interval for each mu \n",
    "    intervals = [(chgidx[i],chgidx[i+1]) for i in range(len(chgidx)-1)]\n",
    "    # print(intervals)\n",
    "\n",
    "    #each iterator is linked to respective range \n",
    "    #zip iterates over two lists simultaneously  \n",
    "    for interval,mu in zip(intervals,muRewardDelta):\n",
    "        nElements = interval[1]-interval[0]\n",
    "        rewardDelta[interval[0]:interval[1]]= np.reshape(np.random.normal(mu,sigma,nElements), \n",
    "                                                         (nElements,1))\n",
    "    #the last element needs to be assigned because of the interval const. above \n",
    "    #(range is not inclusive)\n",
    "    rewardDelta[-1] = np.random.normal(muRewardDelta[-1], sigma, 1)\n",
    "\n",
    "    # print(rewardDelta)\n",
    "    # print(muRewardDelta)\n",
    "    \n",
    "    return rewardDelta, muRewardDelta"
   ]
  },
  {
   "cell_type": "code",
   "execution_count": 35,
   "metadata": {},
   "outputs": [],
   "source": [
    "def genBaseTargetReward(rewardDelta, nTrials):\n",
    "\n",
    "    #reverse engineer the actual values for targets\n",
    "\n",
    "    #assume baseline value of .5 for each\n",
    "    rewardDelta_div = 0.5*rewardDelta \n",
    "    adjustedTargets = 0.5*np.ones((nTrials,2))\n",
    "\n",
    "    #always add half and subtract half of target value\n",
    "    adjustedTargets[:,0] +=  rewardDelta_div[:,0]\n",
    "    adjustedTargets[:,1] -=  rewardDelta_div[:,0]\n",
    "    \n",
    "    t1_baseReward = adjustedTargets[:,0]\n",
    "    t2_baseReward = adjustedTargets[:,1]\n",
    "\n",
    "\n",
    "#     print(adjustedTargets)\n",
    "    return t1_baseReward, t2_baseReward\n",
    "\n",
    "    # plt.title(\"raw target reward probabilities\")\n",
    "    # plt.xlabel(\"trial\")\n",
    "    # plt.ylabel(\"reward probability\")\n",
    "    # plt.legend([\"t1\", \"t2\"])\n",
    "    # plt.plot(adjustedTargets[:,0], 'b.')\n",
    "    # plt.plot(adjustedTargets[:,1], 'g.')\n",
    "\n",
    "    # plt.figure(figsize=(20, 20))\n",
    "    # plt.title(\"difference between target reward probabilities\")\n",
    "    # plt.xlabel(\"trial\")\n",
    "    # plt.ylabel(\"$\\Delta$ reward probability\")\n",
    "    # plt.legend([\"t1\", \"t2\"])\n",
    "    # plt.plot(rewardDelta, 'g.')\n",
    "    # plt.plot(rewardDelta, 'k')\n",
    "    # plt.plot()\n"
   ]
  },
  {
   "cell_type": "markdown",
   "metadata": {},
   "source": [
    "# animate trial structure"
   ]
  },
  {
   "cell_type": "code",
   "execution_count": null,
   "metadata": {
    "collapsed": true
   },
   "outputs": [],
   "source": [
    "# First set up the figure, the axis, and the plot element we want to animate\n",
    "fig, ax = plt.subplots()\n",
    "\n",
    "ax.set_xlim(( -2, 2))\n",
    "ax.set_ylim((-2, 2))\n",
    "\n",
    "sinegraph, = ax.plot([], [])\n",
    "dot, = ax.plot([], [],'o', color='red')\n",
    "\n",
    "x = np.linspace(0, 2, 1000)\n",
    "y = np.cos(x)"
   ]
  },
  {
   "cell_type": "code",
   "execution_count": null,
   "metadata": {
    "collapsed": true
   },
   "outputs": [],
   "source": [
    "# initialization function: plot the background of each frame\n",
    "def init():\n",
    "    dot.set_data([], [])\n",
    "    return (dot,)"
   ]
  },
  {
   "cell_type": "code",
   "execution_count": null,
   "metadata": {
    "collapsed": true
   },
   "outputs": [],
   "source": [
    "# animation function. This is called sequentially\n",
    "def animate(i): \n",
    "#     y2 = np.ones(0, 2, 1000)\n",
    "#     jitter = np.random.normal(0, 1, (100,1))\n",
    "#     y=np.linspace(-1, 1, num=1000) * (x - 0.01 * i)\n",
    "    sinegraph.set_data(x[:i],y[:i])\n",
    "    dot.set_data(x[i],y[i])\n",
    "    return (dot,)\n"
   ]
  },
  {
   "cell_type": "code",
   "execution_count": null,
   "metadata": {
    "collapsed": true
   },
   "outputs": [],
   "source": [
    "# call the animator. blit=True means only re-draw the parts that have changed.\n",
    "anim = animation.FuncAnimation(fig, animate, init_func=init,\n",
    "                               frames=50, interval=10000, blit=True)"
   ]
  },
  {
   "cell_type": "code",
   "execution_count": null,
   "metadata": {
    "collapsed": true
   },
   "outputs": [],
   "source": [
    "HTML(anim.to_html5_video())"
   ]
  },
  {
   "cell_type": "code",
   "execution_count": null,
   "metadata": {
    "collapsed": true
   },
   "outputs": [],
   "source": [
    "def generateTrialStructure(nTrials, lambdaV, lambdaSS, ssd, sigmaMin, sigmaMax):\n",
    "    changePoint_vec = genChangePoint(constantChangePoint, lambdaV, nTrials)#refactoring \n",
    "    ssd_vec = genStop(percStopTrials, lambdaStop, nTrials)\n",
    "    rewardDelta, muRewardDelta = genMuSigma(muMin, muMax, sigmaMin, \n",
    "                                 changePoint_vec, changeIdx, nTrials)\n",
    "    t1_baseReward, t2_baseReward = genBaseTargetReward(rewardDelta, nTrials)\n",
    "    \n",
    "    return t1_baseReward, t2_baseReward, ssd_vec, changePoint_vec, rewardDelta, \n",
    "            muRewardDelta, sigma"
   ]
  },
  {
   "cell_type": "markdown",
   "metadata": {
    "collapsed": true
   },
   "source": [
    "## print parameters to a csv file "
   ]
  },
  {
   "cell_type": "code",
   "execution_count": null,
   "metadata": {
    "collapsed": true
   },
   "outputs": [],
   "source": [
    "taskParameters = [t1_baseReward, t2_baseReward, ssd_vec, changePoint_vec, rewardDelta, \n",
    "            muRewardDelta, sigma]\n",
    "header = (\"t1_baseReward, t2_baseReward, ssd_vec, changePointVec,\n",
    "          \"rewardDelta, muRewardDelta, sigma\")\n",
    "#was sigmaDelta, but held constant for this exp.         \n",
    "np.savetxt('VolVal_TrialStructure.csv',file_mat, header = header, delimiter=',', comments = '')"
   ]
  },
  {
   "cell_type": "code",
   "execution_count": null,
   "metadata": {
    "collapsed": true
   },
   "outputs": [],
   "source": [
    "#call function \n",
    "#simulate \n",
    "#experimental data "
   ]
  }
 ],
 "metadata": {
  "kernelspec": {
   "display_name": "Python 3",
   "language": "python",
   "name": "python3"
  },
  "language_info": {
   "codemirror_mode": {
    "name": "ipython",
    "version": 3
   },
   "file_extension": ".py",
   "mimetype": "text/x-python",
   "name": "python",
   "nbconvert_exporter": "python",
   "pygments_lexer": "ipython3",
   "version": "3.6.0"
  }
 },
 "nbformat": 4,
 "nbformat_minor": 2
}
