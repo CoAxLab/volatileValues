{
 "cells": [
  {
   "cell_type": "code",
   "execution_count": null,
   "metadata": {
    "collapsed": true
   },
   "outputs": [],
   "source": [
    "import simulateTrialStructure as sts\n",
    "import numpy as np\n",
    "import pandas as pd"
   ]
  },
  {
   "cell_type": "markdown",
   "metadata": {},
   "source": [
    "# Generate trial structure"
   ]
  },
  {
   "cell_type": "code",
   "execution_count": null,
   "metadata": {},
   "outputs": [],
   "source": [
    "#basic inputs \n",
    "nTrials = 1000\n",
    "lambdaStop = 10  \n",
    "ssd = np.array([200, 250, 300, 350, 450])\n",
    "propStopTrials = .10\n",
    "constantChangePoint = 1\n",
    "animate = 0\n"
   ]
  },
  {
   "cell_type": "markdown",
   "metadata": {},
   "source": [
    "# high risk, low estimation uncertainty, low conflict \n"
   ]
  },
  {
   "cell_type": "code",
   "execution_count": null,
   "metadata": {},
   "outputs": [],
   "source": [
    "#function inputs for testing \n",
    "lambdaV = 50 # lower lambdaV, greater estimation uncertainty or ambiguity \n",
    "\n",
    "muMin = 0 # (smaller min, greater chance of ^ conflict)\n",
    "muMax = .5 \n",
    "sigmaMax = .5# \n",
    "\n",
    "#greater sigma, greater RISK (expected uncertainty)\n",
    "#(greater sigma, smaller muMax (to prevent drawing samples > 1)) \n",
    "\n",
    "sigmaMin = 0 \n",
    "\n",
    "(t1_baseReward, t2_baseReward, ssd_vec, changePoint_vec, \n",
    "rewardDelta, muRewardDelta_vec, sigma_vec) = sts.generateTrialStructure(nTrials, muMin, muMax,\n",
    "                                    lambdaV, lambdaStop, ssd, sigmaMin, sigmaMax,\n",
    "                           propStopTrials, constantChangePoint, animate)\n"
   ]
  },
  {
   "cell_type": "markdown",
   "metadata": {},
   "source": [
    "# low risk, high estimation uncertainty, low conflict \n"
   ]
  },
  {
   "cell_type": "code",
   "execution_count": null,
   "metadata": {},
   "outputs": [],
   "source": [
    "#function inputs for testing \n",
    "lambdaV = 5 # lower lambdaV, greater estimation uncertainty or ambiguity \n",
    "\n",
    "muMin = 0 # (smaller min, greater chance of ^ conflict)\n",
    "muMax = .5 \n",
    "sigmaMax = .1# \n",
    "\n",
    "#greater sigma, greater RISK (expected uncertainty)\n",
    "#(greater sigma, smaller muMax (to prevent drawing samples > 1)) \n",
    "\n",
    "sigmaMin = 0 \n",
    "\n",
    "(t1_baseReward, t2_baseReward, ssd_vec, changePoint_vec, \n",
    "rewardDelta, muRewardDelta_vec, sigma_vec) = sts.generateTrialStructure(nTrials, muMin, muMax,\n",
    "                                    lambdaV, lambdaStop, ssd, sigmaMin, sigmaMax,\n",
    "                           propStopTrials, constantChangePoint, animate)"
   ]
  },
  {
   "cell_type": "markdown",
   "metadata": {},
   "source": [
    "# low risk, low estimation uncertainty, high conflict \n"
   ]
  },
  {
   "cell_type": "code",
   "execution_count": null,
   "metadata": {},
   "outputs": [],
   "source": [
    "#function inputs for testing \n",
    "lambdaV = 50 # lower lambdaV, greater estimation uncertainty or ambiguity \n",
    "\n",
    "muMin = 0 # (smaller min, greater chance of ^ conflict)\n",
    "muMax = .2 \n",
    "sigmaMax = .1# \n",
    "\n",
    "#greater sigma, greater RISK (expected uncertainty)\n",
    "#(greater sigma, smaller muMax (to prevent drawing samples > 1)) \n",
    "\n",
    "sigmaMin = 0 \n",
    "\n",
    "(t1_baseReward, t2_baseReward, ssd_vec, changePoint_vec, \n",
    "rewardDelta, muRewardDelta_vec, sigma_vec) = sts.generateTrialStructure(nTrials, muMin, muMax,\n",
    "                                    lambdaV, lambdaStop, ssd, sigmaMin, sigmaMax,\n",
    "                           propStopTrials, constantChangePoint, animate)"
   ]
  },
  {
   "cell_type": "markdown",
   "metadata": {},
   "source": [
    "# Simulate results with RADD "
   ]
  },
  {
   "cell_type": "markdown",
   "metadata": {},
   "source": [
    "# Analyze behavioral results "
   ]
  },
  {
   "cell_type": "code",
   "execution_count": null,
   "metadata": {
    "collapsed": true
   },
   "outputs": [],
   "source": []
  }
 ],
 "metadata": {
  "kernelspec": {
   "display_name": "Python 3",
   "language": "python",
   "name": "python3"
  },
  "language_info": {
   "codemirror_mode": {
    "name": "ipython",
    "version": 3
   },
   "file_extension": ".py",
   "mimetype": "text/x-python",
   "name": "python",
   "nbconvert_exporter": "python",
   "pygments_lexer": "ipython3",
   "version": "3.6.0"
  }
 },
 "nbformat": 4,
 "nbformat_minor": 2
}
