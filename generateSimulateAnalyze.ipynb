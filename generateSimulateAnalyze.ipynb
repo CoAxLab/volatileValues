{
 "cells": [
  {
   "cell_type": "code",
   "execution_count": 1,
   "metadata": {
    "collapsed": true
   },
   "outputs": [],
   "source": [
    "import simulateTrialStructure as sts\n",
    "import numpy as np\n",
    "import pandas as pd"
   ]
  },
  {
   "cell_type": "markdown",
   "metadata": {},
   "source": [
    "# Generate trial structure"
   ]
  },
  {
   "cell_type": "code",
   "execution_count": 2,
   "metadata": {},
   "outputs": [
    {
     "data": {
      "text/plain": [
       "function"
      ]
     },
     "execution_count": 2,
     "metadata": {},
     "output_type": "execute_result"
    }
   ],
   "source": [
    "#function inputs for testing \n",
    "nTrials = 1000\n",
    "lambdaV = 20\n",
    "lambdaStop = 10  \n",
    "ssd = np.array([200, 250, 300, 350, 450])\n",
    "\n",
    "propStopTrials = .10\n",
    "constantChangePoint = 1\n",
    "muMin = .1 #change this to increase conflict within trial\n",
    "sigmaMax = .4\n",
    "sigmaMin = 0 \n",
    "animate = 1\n",
    "\n",
    "(t1_baseReward, t2_baseReward, ssd_vec, changePoint_vec, \n",
    "rewardDelta, muRewardDelta_vec, sigma_vec) = sts.generateTrialStructure(nTrials, muMin, \n",
    "                                    lambdaV, lambdaStop, ssd, sigmaMin, sigmaMax,\n",
    "                           propStopTrials, constantChangePoint, animate)\n"
   ]
  },
  {
   "cell_type": "markdown",
   "metadata": {},
   "source": [
    "# Simulate results with RADD "
   ]
  },
  {
   "cell_type": "markdown",
   "metadata": {},
   "source": [
    "# Analyze behavioral results "
   ]
  },
  {
   "cell_type": "code",
   "execution_count": null,
   "metadata": {
    "collapsed": true
   },
   "outputs": [],
   "source": []
  }
 ],
 "metadata": {
  "kernelspec": {
   "display_name": "Python 3",
   "language": "python",
   "name": "python3"
  },
  "language_info": {
   "codemirror_mode": {
    "name": "ipython",
    "version": 3
   },
   "file_extension": ".py",
   "mimetype": "text/x-python",
   "name": "python",
   "nbconvert_exporter": "python",
   "pygments_lexer": "ipython3",
   "version": "3.6.0"
  }
 },
 "nbformat": 4,
 "nbformat_minor": 2
}
