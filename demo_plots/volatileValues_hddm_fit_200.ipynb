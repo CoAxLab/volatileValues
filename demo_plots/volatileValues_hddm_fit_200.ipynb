{
 "cells": [
  {
   "cell_type": "code",
   "execution_count": 81,
   "metadata": {},
   "outputs": [],
   "source": [
    "import hddm\n",
    "import pandas as pd\n",
    "import matplotlib.pyplot as plt\n",
    "import os\n",
    "path = '/Users/Krista/Documents/github_repositories/testing-master/'"
   ]
  },
  {
   "cell_type": "code",
   "execution_count": 82,
   "metadata": {},
   "outputs": [
    {
     "data": {
      "text/plain": [
       "'/Users/Krista/Documents/github_repositories/testing-master'"
      ]
     },
     "execution_count": 82,
     "metadata": {},
     "output_type": "execute_result"
    }
   ],
   "source": [
    "os.chdir(path)\n",
    "os.getcwd()"
   ]
  },
  {
   "cell_type": "code",
   "execution_count": 83,
   "metadata": {},
   "outputs": [
    {
     "data": {
      "text/plain": [
       "(    rt  response  gen_drift  gen_bound  subj_idx cond\n",
       " 0  0.7         0   0.008236   0.416318         0   lc\n",
       " 1  0.7         0   0.008236   0.558162         0   lc\n",
       " 2  0.7         1   0.008236   0.550805         0   lc\n",
       " 3  0.7         1   0.051858   1.233108         0   lc,\n",
       "           rt  response  gen_drift  gen_bound  subj_idx cond\n",
       " 39996  0.182         0   1.000000   0.697347        49   hv\n",
       " 39997  0.182         0   1.000000   0.627769        49   hv\n",
       " 39998  0.202         0   0.762235   0.609636        49   hv\n",
       " 39999  0.342         0   0.189445   0.602659        49   hv)"
      ]
     },
     "execution_count": 83,
     "metadata": {},
     "output_type": "execute_result"
    }
   ],
   "source": [
    "data = hddm.load_csv('./200t.csv')\n",
    "data.columns = data.columns.str.strip()\n",
    "data.head(4), data.tail(4)"
   ]
  },
  {
   "cell_type": "code",
   "execution_count": 84,
   "metadata": {},
   "outputs": [
    {
     "data": {
      "text/plain": [
       "(0.87214027444392084, 0.82028628012055327)"
      ]
     },
     "execution_count": 84,
     "metadata": {},
     "output_type": "execute_result"
    }
   ],
   "source": [
    "data[data.cond == \"lc\"].gen_drift.mean(), data[data.cond == \"hc\"].gen_drift.mean()"
   ]
  },
  {
   "cell_type": "code",
   "execution_count": 159,
   "metadata": {},
   "outputs": [
    {
     "data": {
      "text/plain": [
       "(0.87035138087491959, 0.81409077881246172)"
      ]
     },
     "execution_count": 159,
     "metadata": {},
     "output_type": "execute_result"
    }
   ],
   "source": [
    "data[data.cond == \"lv\"].gen_drift.mean(), data[data.cond == \"hv\"].gen_drift.mean()"
   ]
  },
  {
   "cell_type": "code",
   "execution_count": 156,
   "metadata": {},
   "outputs": [
    {
     "data": {
      "text/plain": [
       "(0.37929360000000006, 0.41000160000000008)"
      ]
     },
     "execution_count": 156,
     "metadata": {},
     "output_type": "execute_result"
    }
   ],
   "source": [
    "data[data.cond == \"lc\"].rt.mean(), data[data.cond == \"hc\"].rt.mean()"
   ]
  },
  {
   "cell_type": "code",
   "execution_count": 160,
   "metadata": {},
   "outputs": [
    {
     "data": {
      "text/plain": [
       "(0.70259552954873794, 0.74824682897464856)"
      ]
     },
     "execution_count": 160,
     "metadata": {},
     "output_type": "execute_result"
    }
   ],
   "source": [
    "data[data.cond == \"lc\"].gen_bound.mean(), data[data.cond == \"hc\"].gen_bound.mean()"
   ]
  },
  {
   "cell_type": "code",
   "execution_count": 85,
   "metadata": {},
   "outputs": [
    {
     "data": {
      "text/plain": [
       "(0.67194650297462943, 0.86589446102759937)"
      ]
     },
     "execution_count": 85,
     "metadata": {},
     "output_type": "execute_result"
    }
   ],
   "source": [
    "data[data.cond == \"lv\"].gen_bound.mean(), data[data.cond == \"hv\"].gen_bound.mean()"
   ]
  },
  {
   "cell_type": "code",
   "execution_count": 86,
   "metadata": {},
   "outputs": [
    {
     "data": {
      "image/png": "[encoded data removed]",
      "text/plain": [
       "<Figure size 432x288 with 1 Axes>"
      ]
     },
     "metadata": {},
     "output_type": "display_data"
    }
   ],
   "source": [
    "fig = plt.figure()\n",
    "ax = fig.add_subplot(111, xlabel='RT', ylabel='count', title='RT distributions')\n",
    "for i, subj_data in data.groupby('subj_idx'):\n",
    "    subj_data.rt.hist(bins=20, histtype='step', ax=ax)\n"
   ]
  },
  {
   "cell_type": "code",
   "execution_count": 87,
   "metadata": {},
   "outputs": [
    {
     "name": "stderr",
     "output_type": "stream",
     "text": [
      "/Users/Krista/anaconda/envs/hddm/lib/python3.5/site-packages/scipy/optimize/optimize.py:1927: RuntimeWarning: invalid value encountered in double_scalars\n",
      "  tmp2 = (x - v) * (fx - fw)\n",
      "/Users/Krista/anaconda/envs/hddm/lib/python3.5/site-packages/scipy/optimize/optimize.py:1932: RuntimeWarning: invalid value encountered in absolute\n",
      "  tmp2 = numpy.abs(tmp2)\n",
      "/Users/Krista/anaconda/envs/hddm/lib/python3.5/site-packages/pymc/Node.py:403: VisibleDeprecationWarning: using a non-integer number instead of an integer will result in an error in the future\n",
      "  self.__name__ = input['__name__']\n"
     ]
    },
    {
     "name": "stdout",
     "output_type": "stream",
     "text": [
      " [-----------------100%-----------------] 1000 of 1000 complete in 425.3 sec"
     ]
    },
    {
     "name": "stderr",
     "output_type": "stream",
     "text": [
      "/Users/Krista/anaconda/envs/hddm/lib/python3.5/site-packages/numpy/core/fromnumeric.py:1156: VisibleDeprecationWarning: using a non-integer number instead of an integer will result in an error in the future\n",
      "  a = a[:-extra]\n",
      "/Users/Krista/anaconda/envs/hddm/lib/python3.5/site-packages/numpy/core/fromnumeric.py:224: VisibleDeprecationWarning: using a non-integer number instead of an integer will result in an error in the future\n",
      "  return reshape(newshape, order=order)\n"
     ]
    },
    {
     "data": {
      "text/plain": [
       "<pymc.MCMC.MCMC at 0x1a248ec160>"
      ]
     },
     "execution_count": 87,
     "metadata": {},
     "output_type": "execute_result"
    }
   ],
   "source": [
    "comb_stim = hddm.HDDM(data, bias=False, depends_on={'v':'cond', 'a':'cond'},\n",
    "                        include=['v'], p_outlier=0.05)\n",
    "comb_stim.find_starting_values()\n",
    "comb_stim.sample(1000, burn=20)"
   ]
  },
  {
   "cell_type": "code",
   "execution_count": 88,
   "metadata": {},
   "outputs": [
    {
     "name": "stderr",
     "output_type": "stream",
     "text": [
      "/Users/Krista/anaconda/envs/hddm/lib/python3.5/site-packages/scipy/optimize/optimize.py:1927: RuntimeWarning: invalid value encountered in double_scalars\n",
      "  tmp2 = (x - v) * (fx - fw)\n",
      "/Users/Krista/anaconda/envs/hddm/lib/python3.5/site-packages/scipy/optimize/optimize.py:1932: RuntimeWarning: invalid value encountered in absolute\n",
      "  tmp2 = numpy.abs(tmp2)\n",
      "/Users/Krista/anaconda/envs/hddm/lib/python3.5/site-packages/pymc/Node.py:403: VisibleDeprecationWarning: using a non-integer number instead of an integer will result in an error in the future\n",
      "  self.__name__ = input['__name__']\n"
     ]
    },
    {
     "name": "stdout",
     "output_type": "stream",
     "text": [
      " [-----------------100%-----------------] 1000 of 1000 complete in 365.3 sec"
     ]
    },
    {
     "name": "stderr",
     "output_type": "stream",
     "text": [
      "/Users/Krista/anaconda/envs/hddm/lib/python3.5/site-packages/numpy/core/fromnumeric.py:1156: VisibleDeprecationWarning: using a non-integer number instead of an integer will result in an error in the future\n",
      "  a = a[:-extra]\n",
      "/Users/Krista/anaconda/envs/hddm/lib/python3.5/site-packages/numpy/core/fromnumeric.py:224: VisibleDeprecationWarning: using a non-integer number instead of an integer will result in an error in the future\n",
      "  return reshape(newshape, order=order)\n"
     ]
    },
    {
     "data": {
      "text/plain": [
       "<pymc.MCMC.MCMC at 0x1a26374dd8>"
      ]
     },
     "execution_count": 88,
     "metadata": {},
     "output_type": "execute_result"
    }
   ],
   "source": [
    "drift_stim = hddm.HDDM(data, bias=False, depends_on={'v':'cond'},\n",
    "                        include=['v'], p_outlier=0.05)\n",
    "drift_stim.find_starting_values()\n",
    "drift_stim.sample(1000, burn=20)"
   ]
  },
  {
   "cell_type": "code",
   "execution_count": 89,
   "metadata": {},
   "outputs": [
    {
     "name": "stderr",
     "output_type": "stream",
     "text": [
      "/Users/Krista/anaconda/envs/hddm/lib/python3.5/site-packages/scipy/optimize/optimize.py:1927: RuntimeWarning: invalid value encountered in double_scalars\n",
      "  tmp2 = (x - v) * (fx - fw)\n",
      "/Users/Krista/anaconda/envs/hddm/lib/python3.5/site-packages/scipy/optimize/optimize.py:1932: RuntimeWarning: invalid value encountered in absolute\n",
      "  tmp2 = numpy.abs(tmp2)\n",
      "/Users/Krista/anaconda/envs/hddm/lib/python3.5/site-packages/pymc/Node.py:403: VisibleDeprecationWarning: using a non-integer number instead of an integer will result in an error in the future\n",
      "  self.__name__ = input['__name__']\n"
     ]
    },
    {
     "name": "stdout",
     "output_type": "stream",
     "text": [
      " [-----------------100%-----------------] 1000 of 1000 complete in 380.0 sec"
     ]
    },
    {
     "name": "stderr",
     "output_type": "stream",
     "text": [
      "/Users/Krista/anaconda/envs/hddm/lib/python3.5/site-packages/numpy/core/fromnumeric.py:1156: VisibleDeprecationWarning: using a non-integer number instead of an integer will result in an error in the future\n",
      "  a = a[:-extra]\n",
      "/Users/Krista/anaconda/envs/hddm/lib/python3.5/site-packages/numpy/core/fromnumeric.py:224: VisibleDeprecationWarning: using a non-integer number instead of an integer will result in an error in the future\n",
      "  return reshape(newshape, order=order)\n"
     ]
    },
    {
     "data": {
      "text/plain": [
       "<pymc.MCMC.MCMC at 0x1a27d3db70>"
      ]
     },
     "execution_count": 89,
     "metadata": {},
     "output_type": "execute_result"
    }
   ],
   "source": [
    "bound_stim = hddm.HDDM(data, bias=False, depends_on={'a':'cond'},\n",
    "                        include=['a'], p_outlier=0.05)\n",
    "bound_stim.find_starting_values()\n",
    "bound_stim.sample(1000, burn=20)"
   ]
  },
  {
   "cell_type": "code",
   "execution_count": 91,
   "metadata": {},
   "outputs": [
    {
     "name": "stderr",
     "output_type": "stream",
     "text": [
      "/Users/Krista/anaconda/envs/hddm/lib/python3.5/site-packages/numpy/core/fromnumeric.py:1156: VisibleDeprecationWarning: using a non-integer number instead of an integer will result in an error in the future\n",
      "  a = a[:-extra]\n",
      "/Users/Krista/anaconda/envs/hddm/lib/python3.5/site-packages/numpy/core/fromnumeric.py:224: VisibleDeprecationWarning: using a non-integer number instead of an integer will result in an error in the future\n",
      "  return reshape(newshape, order=order)\n"
     ]
    },
    {
     "data": {
      "text/html": [
       "<div>\n",
       "<style scoped>\n",
       "    .dataframe tbody tr th:only-of-type {\n",
       "        vertical-align: middle;\n",
       "    }\n",
       "\n",
       "    .dataframe tbody tr th {\n",
       "        vertical-align: top;\n",
       "    }\n",
       "\n",
       "    .dataframe thead th {\n",
       "        text-align: right;\n",
       "    }\n",
       "</style>\n",
       "<table border=\"1\" class=\"dataframe\">\n",
       "  <thead>\n",
       "    <tr style=\"text-align: right;\">\n",
       "      <th></th>\n",
       "      <th>mean</th>\n",
       "      <th>std</th>\n",
       "      <th>2.5q</th>\n",
       "      <th>25q</th>\n",
       "      <th>50q</th>\n",
       "      <th>75q</th>\n",
       "      <th>97.5q</th>\n",
       "      <th>mc err</th>\n",
       "    </tr>\n",
       "  </thead>\n",
       "  <tbody>\n",
       "    <tr>\n",
       "      <th>v(hc)</th>\n",
       "      <td>0.0300861</td>\n",
       "      <td>0.0279515</td>\n",
       "      <td>-0.0220648</td>\n",
       "      <td>0.0110602</td>\n",
       "      <td>0.0298746</td>\n",
       "      <td>0.0491054</td>\n",
       "      <td>0.0850442</td>\n",
       "      <td>0.00158013</td>\n",
       "    </tr>\n",
       "    <tr>\n",
       "      <th>v(hv)</th>\n",
       "      <td>-0.0257127</td>\n",
       "      <td>0.0267125</td>\n",
       "      <td>-0.0746771</td>\n",
       "      <td>-0.0444785</td>\n",
       "      <td>-0.0259787</td>\n",
       "      <td>-0.00820329</td>\n",
       "      <td>0.0289677</td>\n",
       "      <td>0.0012663</td>\n",
       "    </tr>\n",
       "    <tr>\n",
       "      <th>v(lc)</th>\n",
       "      <td>0.477031</td>\n",
       "      <td>0.0290649</td>\n",
       "      <td>0.419832</td>\n",
       "      <td>0.458231</td>\n",
       "      <td>0.477177</td>\n",
       "      <td>0.496944</td>\n",
       "      <td>0.533755</td>\n",
       "      <td>0.00147895</td>\n",
       "    </tr>\n",
       "    <tr>\n",
       "      <th>v(lv)</th>\n",
       "      <td>0.429565</td>\n",
       "      <td>0.0321053</td>\n",
       "      <td>0.363203</td>\n",
       "      <td>0.408769</td>\n",
       "      <td>0.430539</td>\n",
       "      <td>0.449755</td>\n",
       "      <td>0.492871</td>\n",
       "      <td>0.00201018</td>\n",
       "    </tr>\n",
       "  </tbody>\n",
       "</table>\n",
       "</div>"
      ],
      "text/plain": [
       "            mean        std       2.5q        25q        50q         75q  \\\n",
       "v(hc)  0.0300861  0.0279515 -0.0220648  0.0110602  0.0298746   0.0491054   \n",
       "v(hv) -0.0257127  0.0267125 -0.0746771 -0.0444785 -0.0259787 -0.00820329   \n",
       "v(lc)   0.477031  0.0290649   0.419832   0.458231   0.477177    0.496944   \n",
       "v(lv)   0.429565  0.0321053   0.363203   0.408769   0.430539    0.449755   \n",
       "\n",
       "           97.5q      mc err  \n",
       "v(hc)  0.0850442  0.00158013  \n",
       "v(hv)  0.0289677   0.0012663  \n",
       "v(lc)   0.533755  0.00147895  \n",
       "v(lv)   0.492871  0.00201018  "
      ]
     },
     "execution_count": 91,
     "metadata": {},
     "output_type": "execute_result"
    }
   ],
   "source": [
    "drift_stats = drift_stim.gen_stats()\n",
    "drift_stats[drift_stats.index.isin(['v(hc)','v(lc)', 'v(hv)','v(lv)'])]"
   ]
  },
  {
   "cell_type": "code",
   "execution_count": 92,
   "metadata": {},
   "outputs": [
    {
     "name": "stderr",
     "output_type": "stream",
     "text": [
      "/Users/Krista/anaconda/envs/hddm/lib/python3.5/site-packages/numpy/core/fromnumeric.py:1156: VisibleDeprecationWarning: using a non-integer number instead of an integer will result in an error in the future\n",
      "  a = a[:-extra]\n",
      "/Users/Krista/anaconda/envs/hddm/lib/python3.5/site-packages/numpy/core/fromnumeric.py:224: VisibleDeprecationWarning: using a non-integer number instead of an integer will result in an error in the future\n",
      "  return reshape(newshape, order=order)\n"
     ]
    },
    {
     "data": {
      "text/html": [
       "<div>\n",
       "<style scoped>\n",
       "    .dataframe tbody tr th:only-of-type {\n",
       "        vertical-align: middle;\n",
       "    }\n",
       "\n",
       "    .dataframe tbody tr th {\n",
       "        vertical-align: top;\n",
       "    }\n",
       "\n",
       "    .dataframe thead th {\n",
       "        text-align: right;\n",
       "    }\n",
       "</style>\n",
       "<table border=\"1\" class=\"dataframe\">\n",
       "  <thead>\n",
       "    <tr style=\"text-align: right;\">\n",
       "      <th></th>\n",
       "      <th>mean</th>\n",
       "      <th>std</th>\n",
       "      <th>2.5q</th>\n",
       "      <th>25q</th>\n",
       "      <th>50q</th>\n",
       "      <th>75q</th>\n",
       "      <th>97.5q</th>\n",
       "      <th>mc err</th>\n",
       "    </tr>\n",
       "  </thead>\n",
       "  <tbody>\n",
       "    <tr>\n",
       "      <th>a(hc)</th>\n",
       "      <td>0.931685</td>\n",
       "      <td>0.0139668</td>\n",
       "      <td>0.904096</td>\n",
       "      <td>0.922171</td>\n",
       "      <td>0.931439</td>\n",
       "      <td>0.941437</td>\n",
       "      <td>0.95925</td>\n",
       "      <td>0.00048914</td>\n",
       "    </tr>\n",
       "    <tr>\n",
       "      <th>a(hv)</th>\n",
       "      <td>1.01323</td>\n",
       "      <td>0.0136023</td>\n",
       "      <td>0.985599</td>\n",
       "      <td>1.00386</td>\n",
       "      <td>1.01395</td>\n",
       "      <td>1.02199</td>\n",
       "      <td>1.04053</td>\n",
       "      <td>0.00047326</td>\n",
       "    </tr>\n",
       "    <tr>\n",
       "      <th>a(lc)</th>\n",
       "      <td>0.873317</td>\n",
       "      <td>0.0136498</td>\n",
       "      <td>0.846822</td>\n",
       "      <td>0.864101</td>\n",
       "      <td>0.873725</td>\n",
       "      <td>0.88214</td>\n",
       "      <td>0.900481</td>\n",
       "      <td>0.0004159</td>\n",
       "    </tr>\n",
       "    <tr>\n",
       "      <th>a(lv)</th>\n",
       "      <td>0.836877</td>\n",
       "      <td>0.013718</td>\n",
       "      <td>0.810206</td>\n",
       "      <td>0.827507</td>\n",
       "      <td>0.836626</td>\n",
       "      <td>0.846171</td>\n",
       "      <td>0.863671</td>\n",
       "      <td>0.000545927</td>\n",
       "    </tr>\n",
       "  </tbody>\n",
       "</table>\n",
       "</div>"
      ],
      "text/plain": [
       "           mean        std      2.5q       25q       50q       75q     97.5q  \\\n",
       "a(hc)  0.931685  0.0139668  0.904096  0.922171  0.931439  0.941437   0.95925   \n",
       "a(hv)   1.01323  0.0136023  0.985599   1.00386   1.01395   1.02199   1.04053   \n",
       "a(lc)  0.873317  0.0136498  0.846822  0.864101  0.873725   0.88214  0.900481   \n",
       "a(lv)  0.836877   0.013718  0.810206  0.827507  0.836626  0.846171  0.863671   \n",
       "\n",
       "            mc err  \n",
       "a(hc)   0.00048914  \n",
       "a(hv)   0.00047326  \n",
       "a(lc)    0.0004159  \n",
       "a(lv)  0.000545927  "
      ]
     },
     "execution_count": 92,
     "metadata": {},
     "output_type": "execute_result"
    }
   ],
   "source": [
    "bound_stats = bound_stim.gen_stats()\n",
    "bound_stats[bound_stats.index.isin(['a(hc)','a(lc)', 'a(hv)','a(lv)'])]"
   ]
  },
  {
   "cell_type": "code",
   "execution_count": 93,
   "metadata": {},
   "outputs": [
    {
     "name": "stderr",
     "output_type": "stream",
     "text": [
      "/Users/Krista/anaconda/envs/hddm/lib/python3.5/site-packages/numpy/core/fromnumeric.py:1156: VisibleDeprecationWarning: using a non-integer number instead of an integer will result in an error in the future\n",
      "  a = a[:-extra]\n",
      "/Users/Krista/anaconda/envs/hddm/lib/python3.5/site-packages/numpy/core/fromnumeric.py:224: VisibleDeprecationWarning: using a non-integer number instead of an integer will result in an error in the future\n",
      "  return reshape(newshape, order=order)\n"
     ]
    },
    {
     "data": {
      "text/html": [
       "<div>\n",
       "<style scoped>\n",
       "    .dataframe tbody tr th:only-of-type {\n",
       "        vertical-align: middle;\n",
       "    }\n",
       "\n",
       "    .dataframe tbody tr th {\n",
       "        vertical-align: top;\n",
       "    }\n",
       "\n",
       "    .dataframe thead th {\n",
       "        text-align: right;\n",
       "    }\n",
       "</style>\n",
       "<table border=\"1\" class=\"dataframe\">\n",
       "  <thead>\n",
       "    <tr style=\"text-align: right;\">\n",
       "      <th></th>\n",
       "      <th>mean</th>\n",
       "      <th>std</th>\n",
       "      <th>2.5q</th>\n",
       "      <th>25q</th>\n",
       "      <th>50q</th>\n",
       "      <th>75q</th>\n",
       "      <th>97.5q</th>\n",
       "      <th>mc err</th>\n",
       "    </tr>\n",
       "  </thead>\n",
       "  <tbody>\n",
       "    <tr>\n",
       "      <th>a(hc)</th>\n",
       "      <td>0.932333</td>\n",
       "      <td>0.0133189</td>\n",
       "      <td>0.906582</td>\n",
       "      <td>0.923496</td>\n",
       "      <td>0.932299</td>\n",
       "      <td>0.940946</td>\n",
       "      <td>0.959427</td>\n",
       "      <td>0.000451885</td>\n",
       "    </tr>\n",
       "    <tr>\n",
       "      <th>a(hv)</th>\n",
       "      <td>1.01385</td>\n",
       "      <td>0.0135825</td>\n",
       "      <td>0.986601</td>\n",
       "      <td>1.00482</td>\n",
       "      <td>1.01437</td>\n",
       "      <td>1.02305</td>\n",
       "      <td>1.04166</td>\n",
       "      <td>0.000514165</td>\n",
       "    </tr>\n",
       "    <tr>\n",
       "      <th>a(lc)</th>\n",
       "      <td>0.876998</td>\n",
       "      <td>0.0132134</td>\n",
       "      <td>0.849605</td>\n",
       "      <td>0.868133</td>\n",
       "      <td>0.877467</td>\n",
       "      <td>0.886457</td>\n",
       "      <td>0.901463</td>\n",
       "      <td>0.000466868</td>\n",
       "    </tr>\n",
       "    <tr>\n",
       "      <th>a(lv)</th>\n",
       "      <td>0.838365</td>\n",
       "      <td>0.0132366</td>\n",
       "      <td>0.814063</td>\n",
       "      <td>0.828739</td>\n",
       "      <td>0.838506</td>\n",
       "      <td>0.846868</td>\n",
       "      <td>0.866092</td>\n",
       "      <td>0.000462493</td>\n",
       "    </tr>\n",
       "    <tr>\n",
       "      <th>v(hc)</th>\n",
       "      <td>0.030322</td>\n",
       "      <td>0.0274527</td>\n",
       "      <td>-0.0210727</td>\n",
       "      <td>0.0114731</td>\n",
       "      <td>0.0309619</td>\n",
       "      <td>0.0486564</td>\n",
       "      <td>0.0817164</td>\n",
       "      <td>0.00167799</td>\n",
       "    </tr>\n",
       "    <tr>\n",
       "      <th>v(hv)</th>\n",
       "      <td>-0.0319064</td>\n",
       "      <td>0.0264666</td>\n",
       "      <td>-0.0840208</td>\n",
       "      <td>-0.0489091</td>\n",
       "      <td>-0.032237</td>\n",
       "      <td>-0.0150676</td>\n",
       "      <td>0.0216991</td>\n",
       "      <td>0.00151457</td>\n",
       "    </tr>\n",
       "    <tr>\n",
       "      <th>v(lc)</th>\n",
       "      <td>0.457891</td>\n",
       "      <td>0.0279451</td>\n",
       "      <td>0.401417</td>\n",
       "      <td>0.439871</td>\n",
       "      <td>0.45822</td>\n",
       "      <td>0.476529</td>\n",
       "      <td>0.511453</td>\n",
       "      <td>0.0014983</td>\n",
       "    </tr>\n",
       "    <tr>\n",
       "      <th>v(lv)</th>\n",
       "      <td>0.397503</td>\n",
       "      <td>0.0310586</td>\n",
       "      <td>0.337199</td>\n",
       "      <td>0.376105</td>\n",
       "      <td>0.396839</td>\n",
       "      <td>0.418239</td>\n",
       "      <td>0.457602</td>\n",
       "      <td>0.00202337</td>\n",
       "    </tr>\n",
       "  </tbody>\n",
       "</table>\n",
       "</div>"
      ],
      "text/plain": [
       "            mean        std       2.5q        25q        50q        75q  \\\n",
       "a(hc)   0.932333  0.0133189   0.906582   0.923496   0.932299   0.940946   \n",
       "a(hv)    1.01385  0.0135825   0.986601    1.00482    1.01437    1.02305   \n",
       "a(lc)   0.876998  0.0132134   0.849605   0.868133   0.877467   0.886457   \n",
       "a(lv)   0.838365  0.0132366   0.814063   0.828739   0.838506   0.846868   \n",
       "v(hc)   0.030322  0.0274527 -0.0210727  0.0114731  0.0309619  0.0486564   \n",
       "v(hv) -0.0319064  0.0264666 -0.0840208 -0.0489091  -0.032237 -0.0150676   \n",
       "v(lc)   0.457891  0.0279451   0.401417   0.439871    0.45822   0.476529   \n",
       "v(lv)   0.397503  0.0310586   0.337199   0.376105   0.396839   0.418239   \n",
       "\n",
       "           97.5q       mc err  \n",
       "a(hc)   0.959427  0.000451885  \n",
       "a(hv)    1.04166  0.000514165  \n",
       "a(lc)   0.901463  0.000466868  \n",
       "a(lv)   0.866092  0.000462493  \n",
       "v(hc)  0.0817164   0.00167799  \n",
       "v(hv)  0.0216991   0.00151457  \n",
       "v(lc)   0.511453    0.0014983  \n",
       "v(lv)   0.457602   0.00202337  "
      ]
     },
     "execution_count": 93,
     "metadata": {},
     "output_type": "execute_result"
    }
   ],
   "source": [
    "comb_stats = comb_stim.gen_stats()\n",
    "comb_stats[comb_stats.index.isin(['a(hc)','a(lc)', 'a(hv)','a(lv)', 'v(hc)','v(lc)', 'v(hv)','v(lv)'])]"
   ]
  },
  {
   "cell_type": "code",
   "execution_count": 94,
   "metadata": {},
   "outputs": [],
   "source": [
    "# comb_stim.plot_posteriors('a', 'v')"
   ]
  },
  {
   "cell_type": "code",
   "execution_count": 95,
   "metadata": {},
   "outputs": [],
   "source": [
    "v_lc, v_hc = comb_stim.nodes_db.node[['v(lc)', 'v(hc)']]\n",
    "v_lv, v_hv = comb_stim.nodes_db.node[['v(lv)', 'v(hv)']]\n",
    "a_lv, a_hv = comb_stim.nodes_db.node[['a(lv)', 'a(hv)']]\n",
    "a_lc, a_hc = comb_stim.nodes_db.node[['a(lc)', 'a(hc)']]"
   ]
  },
  {
   "cell_type": "code",
   "execution_count": 96,
   "metadata": {},
   "outputs": [
    {
     "data": {
      "image/png": "[encoded data removed]",
      "text/plain": [
       "<Figure size 432x288 with 1 Axes>"
      ]
     },
     "metadata": {},
     "output_type": "display_data"
    },
    {
     "data": {
      "image/png": "[encoded data removed]",
      "text/plain": [
       "<Figure size 432x288 with 1 Axes>"
      ]
     },
     "metadata": {},
     "output_type": "display_data"
    },
    {
     "data": {
      "image/png": "[encoded data removed]",
      "text/plain": [
       "<Figure size 432x288 with 1 Axes>"
      ]
     },
     "metadata": {},
     "output_type": "display_data"
    },
    {
     "data": {
      "image/png": "[encoded data removed]",
      "text/plain": [
       "<Figure size 432x288 with 1 Axes>"
      ]
     },
     "metadata": {},
     "output_type": "display_data"
    }
   ],
   "source": [
    "hddm.analyze.plot_posterior_nodes([v_lc, v_hc])\n",
    "plt.xlabel('drift-rate')\n",
    "plt.ylabel('Posterior probability')\n",
    "plt.title('200t: Posterior of drift-rate group means')\n",
    "plt.savefig('200t_drift_conflict.pdf')\n",
    "\n",
    "hddm.analyze.plot_posterior_nodes([v_lv, v_hv])\n",
    "plt.xlabel('drift-rate')\n",
    "plt.ylabel('Posterior probability')\n",
    "plt.title('200t: Posterior of drift-rate group means')\n",
    "plt.savefig('200t_drift_vol.pdf')\n",
    "\n",
    "hddm.analyze.plot_posterior_nodes([a_lc, a_hc])\n",
    "plt.xlabel('decision boundary')\n",
    "plt.ylabel('Posterior probability')\n",
    "plt.title('200t: Posterior of decision boundary group means')\n",
    "plt.savefig('200t_bound_conflict.pdf')\n",
    "\n",
    "\n",
    "hddm.analyze.plot_posterior_nodes([a_lv, a_hv])\n",
    "plt.xlabel('decision boundary')\n",
    "plt.ylabel('Posterior probability')\n",
    "plt.title('200t: Posterior of decision boundary group means')\n",
    "plt.savefig('200t_bound_vol.pdf')\n",
    "\n"
   ]
  },
  {
   "cell_type": "code",
   "execution_count": null,
   "metadata": {},
   "outputs": [],
   "source": [
    "# print(\"P(low_conflict_drift > high_conflict_drift) = \", (v_hc.trace() > v_lc.trace()).mean())\n",
    "# print(\"P(low_conflict_bound > high_conflict_bound) = \", (a_hc.trace() > a_lc.trace()).mean())\n",
    "# print(\"P(high_volatility_bound > low_volatility_bound) = \", (a_hv.trace() > a_lv.trace()).mean())\n",
    "# print(\"P(high_volatility_drift > low_volatility_drift) = \", (v_hv.trace() > v_lv.trace()).mean())"
   ]
  },
  {
   "cell_type": "code",
   "execution_count": 152,
   "metadata": {},
   "outputs": [
    {
     "name": "stdout",
     "output_type": "stream",
     "text": [
      "combined model DIC: 8338.718333\n",
      "drift model DIC: 9962.754566\n",
      "bound model DIC: 8748.773975\n"
     ]
    },
    {
     "data": {
      "image/png": "[encoded data removed]",
      "text/plain": [
       "<Figure size 720x720 with 1 Axes>"
      ]
     },
     "metadata": {},
     "output_type": "display_data"
    }
   ],
   "source": [
    "#for when i fit alternative models\n",
    "\n",
    "fig_path = '/Users/Krista/Dropbox/volatileValues/m_plots/'\n",
    "\n",
    "print(\"combined model DIC: %f\" % comb_stim.dic)\n",
    "print(\"drift model DIC: %f\" % drift_stim.dic)\n",
    "print(\"bound model DIC: %f\" % bound_stim.dic)\n",
    "\n",
    "plt.rcParams['figure.figsize'] = 10, 10\n",
    "plt.rcParams['axes.titlesize'] = 25\n",
    "plt.rcParams['axes.labelsize'] = 30\n",
    "plt.rcParams['xtick.labelsize'] = 30\n",
    "plt.rcParams['ytick.labelsize'] = 30\n",
    "\n",
    "names = [r'$a + v$',r'$a$',r'$v$']\n",
    "dics = [comb_stim.dic,  bound_stim.dic, drift_stim.dic]\n",
    "bars = plt.barh(names,dics, alpha=0.5)\n",
    "plt.xlabel('DIC score')\n",
    "\n",
    "bars[0].set_color('r')\n",
    "bars[1].set_color('blue')\n",
    "bars[2].set_color('forestgreen')\n",
    "\n",
    "plt.axvline(comb_stim.dic, color='k', alpha=0.5, linestyle = '--')\n",
    "plt.savefig(fig_path+'200t_DIC.pdf')"
   ]
  },
  {
   "cell_type": "code",
   "execution_count": 157,
   "metadata": {},
   "outputs": [],
   "source": [
    "import numpy as np\n",
    "dics = np.hstack(np.matrix((comb_stim.dic,  bound_stim.dic,  drift_stim.dic)))\n",
    "# np.diff(dics)\n",
    "header = ('combined_dic, a_dic, v_dic')\n",
    "np.savetxt('200t_DICs.csv', dics, header = header, delimiter=',', comments='')"
   ]
  },
  {
   "cell_type": "code",
   "execution_count": 109,
   "metadata": {},
   "outputs": [],
   "source": [
    "#model does not save... db is 'ram' error\n",
    "# m_stim.save('1000t')"
   ]
  },
  {
   "cell_type": "code",
   "execution_count": 153,
   "metadata": {},
   "outputs": [
    {
     "name": "stderr",
     "output_type": "stream",
     "text": [
      "/Users/Krista/anaconda/envs/hddm/lib/python3.5/site-packages/numpy/core/fromnumeric.py:1156: VisibleDeprecationWarning: using a non-integer number instead of an integer will result in an error in the future\n",
      "  a = a[:-extra]\n",
      "/Users/Krista/anaconda/envs/hddm/lib/python3.5/site-packages/numpy/core/fromnumeric.py:224: VisibleDeprecationWarning: using a non-integer number instead of an integer will result in an error in the future\n",
      "  return reshape(newshape, order=order)\n"
     ]
    }
   ],
   "source": [
    " comb_stim.print_stats('./200t_comb_stats.csv')\n",
    " drift_stim.print_stats('./200t_drift_stats.csv')\n",
    " bound_stim.print_stats('./200t_bound_stats.csv')"
   ]
  },
  {
   "cell_type": "code",
   "execution_count": 154,
   "metadata": {},
   "outputs": [
    {
     "ename": "AttributeError",
     "evalue": "'DataFrame' object has no attribute 'close'",
     "output_type": "error",
     "traceback": [
      "\u001b[0;31m---------------------------------------------------------------------------\u001b[0m",
      "\u001b[0;31mTypeError\u001b[0m                                 Traceback (most recent call last)",
      "\u001b[0;32m~/anaconda/envs/hddm/lib/python3.5/site-packages/pandas/io/formats/format.py\u001b[0m in \u001b[0;36msave\u001b[0;34m(self)\u001b[0m\n\u001b[1;32m   1649\u001b[0m                 \u001b[0mwriter_kwargs\u001b[0m\u001b[0;34m[\u001b[0m\u001b[0;34m'encoding'\u001b[0m\u001b[0;34m]\u001b[0m \u001b[0;34m=\u001b[0m \u001b[0mencoding\u001b[0m\u001b[0;34m\u001b[0m\u001b[0m\n\u001b[0;32m-> 1650\u001b[0;31m                 \u001b[0mself\u001b[0m\u001b[0;34m.\u001b[0m\u001b[0mwriter\u001b[0m \u001b[0;34m=\u001b[0m \u001b[0mUnicodeWriter\u001b[0m\u001b[0;34m(\u001b[0m\u001b[0mf\u001b[0m\u001b[0;34m,\u001b[0m \u001b[0;34m**\u001b[0m\u001b[0mwriter_kwargs\u001b[0m\u001b[0;34m)\u001b[0m\u001b[0;34m\u001b[0m\u001b[0m\n\u001b[0m\u001b[1;32m   1651\u001b[0m \u001b[0;34m\u001b[0m\u001b[0m\n",
      "\u001b[0;32m~/anaconda/envs/hddm/lib/python3.5/site-packages/pandas/io/common.py\u001b[0m in \u001b[0;36mUnicodeWriter\u001b[0;34m(f, dialect, encoding, **kwds)\u001b[0m\n\u001b[1;32m    488\u001b[0m     \u001b[0;32mdef\u001b[0m \u001b[0mUnicodeWriter\u001b[0m\u001b[0;34m(\u001b[0m\u001b[0mf\u001b[0m\u001b[0;34m,\u001b[0m \u001b[0mdialect\u001b[0m\u001b[0;34m=\u001b[0m\u001b[0mcsv\u001b[0m\u001b[0;34m.\u001b[0m\u001b[0mexcel\u001b[0m\u001b[0;34m,\u001b[0m \u001b[0mencoding\u001b[0m\u001b[0;34m=\u001b[0m\u001b[0;34m\"utf-8\"\u001b[0m\u001b[0;34m,\u001b[0m \u001b[0;34m**\u001b[0m\u001b[0mkwds\u001b[0m\u001b[0;34m)\u001b[0m\u001b[0;34m:\u001b[0m\u001b[0;34m\u001b[0m\u001b[0m\n\u001b[0;32m--> 489\u001b[0;31m         \u001b[0;32mreturn\u001b[0m \u001b[0mcsv\u001b[0m\u001b[0;34m.\u001b[0m\u001b[0mwriter\u001b[0m\u001b[0;34m(\u001b[0m\u001b[0mf\u001b[0m\u001b[0;34m,\u001b[0m \u001b[0mdialect\u001b[0m\u001b[0;34m=\u001b[0m\u001b[0mdialect\u001b[0m\u001b[0;34m,\u001b[0m \u001b[0;34m**\u001b[0m\u001b[0mkwds\u001b[0m\u001b[0;34m)\u001b[0m\u001b[0;34m\u001b[0m\u001b[0m\n\u001b[0m\u001b[1;32m    490\u001b[0m \u001b[0;32melse\u001b[0m\u001b[0;34m:\u001b[0m\u001b[0;34m\u001b[0m\u001b[0m\n",
      "\u001b[0;31mTypeError\u001b[0m: argument 1 must have a \"write\" method",
      "\nDuring handling of the above exception, another exception occurred:\n",
      "\u001b[0;31mAttributeError\u001b[0m                            Traceback (most recent call last)",
      "\u001b[0;32m<ipython-input-154-7bb442d78ac5>\u001b[0m in \u001b[0;36m<module>\u001b[0;34m()\u001b[0m\n\u001b[0;32m----> 1\u001b[0;31m \u001b[0mcomb_stats\u001b[0m\u001b[0;34m.\u001b[0m\u001b[0mto_csv\u001b[0m\u001b[0;34m(\u001b[0m\u001b[0mcomb_stats\u001b[0m\u001b[0;34m)\u001b[0m\u001b[0;34m\u001b[0m\u001b[0m\n\u001b[0m\u001b[1;32m      2\u001b[0m \u001b[0mcomb_stim\u001b[0m\u001b[0;34m.\u001b[0m\u001b[0mprint_stats\u001b[0m\u001b[0;34m(\u001b[0m\u001b[0;34m)\u001b[0m\u001b[0;34m\u001b[0m\u001b[0m\n",
      "\u001b[0;32m~/anaconda/envs/hddm/lib/python3.5/site-packages/pandas/core/frame.py\u001b[0m in \u001b[0;36mto_csv\u001b[0;34m(self, path_or_buf, sep, na_rep, float_format, columns, header, index, index_label, mode, encoding, compression, quoting, quotechar, line_terminator, chunksize, tupleize_cols, date_format, doublequote, escapechar, decimal)\u001b[0m\n\u001b[1;32m   1522\u001b[0m                                      \u001b[0mdoublequote\u001b[0m\u001b[0;34m=\u001b[0m\u001b[0mdoublequote\u001b[0m\u001b[0;34m,\u001b[0m\u001b[0;34m\u001b[0m\u001b[0m\n\u001b[1;32m   1523\u001b[0m                                      escapechar=escapechar, decimal=decimal)\n\u001b[0;32m-> 1524\u001b[0;31m         \u001b[0mformatter\u001b[0m\u001b[0;34m.\u001b[0m\u001b[0msave\u001b[0m\u001b[0;34m(\u001b[0m\u001b[0;34m)\u001b[0m\u001b[0;34m\u001b[0m\u001b[0m\n\u001b[0m\u001b[1;32m   1525\u001b[0m \u001b[0;34m\u001b[0m\u001b[0m\n\u001b[1;32m   1526\u001b[0m         \u001b[0;32mif\u001b[0m \u001b[0mpath_or_buf\u001b[0m \u001b[0;32mis\u001b[0m \u001b[0;32mNone\u001b[0m\u001b[0;34m:\u001b[0m\u001b[0;34m\u001b[0m\u001b[0m\n",
      "\u001b[0;32m~/anaconda/envs/hddm/lib/python3.5/site-packages/pandas/io/formats/format.py\u001b[0m in \u001b[0;36msave\u001b[0;34m(self)\u001b[0m\n\u001b[1;32m   1654\u001b[0m         \u001b[0;32mfinally\u001b[0m\u001b[0;34m:\u001b[0m\u001b[0;34m\u001b[0m\u001b[0m\n\u001b[1;32m   1655\u001b[0m             \u001b[0;32mif\u001b[0m \u001b[0mclose\u001b[0m\u001b[0;34m:\u001b[0m\u001b[0;34m\u001b[0m\u001b[0m\n\u001b[0;32m-> 1656\u001b[0;31m                 \u001b[0mf\u001b[0m\u001b[0;34m.\u001b[0m\u001b[0mclose\u001b[0m\u001b[0;34m(\u001b[0m\u001b[0;34m)\u001b[0m\u001b[0;34m\u001b[0m\u001b[0m\n\u001b[0m\u001b[1;32m   1657\u001b[0m \u001b[0;34m\u001b[0m\u001b[0m\n\u001b[1;32m   1658\u001b[0m     \u001b[0;32mdef\u001b[0m \u001b[0m_save_header\u001b[0m\u001b[0;34m(\u001b[0m\u001b[0mself\u001b[0m\u001b[0;34m)\u001b[0m\u001b[0;34m:\u001b[0m\u001b[0;34m\u001b[0m\u001b[0m\n",
      "\u001b[0;32m~/anaconda/envs/hddm/lib/python3.5/site-packages/pandas/core/generic.py\u001b[0m in \u001b[0;36m__getattr__\u001b[0;34m(self, name)\u001b[0m\n\u001b[1;32m   3612\u001b[0m             \u001b[0;32mif\u001b[0m \u001b[0mname\u001b[0m \u001b[0;32min\u001b[0m \u001b[0mself\u001b[0m\u001b[0;34m.\u001b[0m\u001b[0m_info_axis\u001b[0m\u001b[0;34m:\u001b[0m\u001b[0;34m\u001b[0m\u001b[0m\n\u001b[1;32m   3613\u001b[0m                 \u001b[0;32mreturn\u001b[0m \u001b[0mself\u001b[0m\u001b[0;34m[\u001b[0m\u001b[0mname\u001b[0m\u001b[0;34m]\u001b[0m\u001b[0;34m\u001b[0m\u001b[0m\n\u001b[0;32m-> 3614\u001b[0;31m             \u001b[0;32mreturn\u001b[0m \u001b[0mobject\u001b[0m\u001b[0;34m.\u001b[0m\u001b[0m__getattribute__\u001b[0m\u001b[0;34m(\u001b[0m\u001b[0mself\u001b[0m\u001b[0;34m,\u001b[0m \u001b[0mname\u001b[0m\u001b[0;34m)\u001b[0m\u001b[0;34m\u001b[0m\u001b[0m\n\u001b[0m\u001b[1;32m   3615\u001b[0m \u001b[0;34m\u001b[0m\u001b[0m\n\u001b[1;32m   3616\u001b[0m     \u001b[0;32mdef\u001b[0m \u001b[0m__setattr__\u001b[0m\u001b[0;34m(\u001b[0m\u001b[0mself\u001b[0m\u001b[0;34m,\u001b[0m \u001b[0mname\u001b[0m\u001b[0;34m,\u001b[0m \u001b[0mvalue\u001b[0m\u001b[0;34m)\u001b[0m\u001b[0;34m:\u001b[0m\u001b[0;34m\u001b[0m\u001b[0m\n",
      "\u001b[0;31mAttributeError\u001b[0m: 'DataFrame' object has no attribute 'close'"
     ]
    }
   ],
   "source": [
    "comb_stim.print_stats()"
   ]
  },
  {
   "cell_type": "code",
   "execution_count": null,
   "metadata": {},
   "outputs": [],
   "source": []
  }
 ],
 "metadata": {
  "kernelspec": {
   "display_name": "hddm",
   "language": "python",
   "name": "hddm"
  },
  "language_info": {
   "codemirror_mode": {
    "name": "ipython",
    "version": 3
   },
   "file_extension": ".py",
   "mimetype": "text/x-python",
   "name": "python",
   "nbconvert_exporter": "python",
   "pygments_lexer": "ipython3",
   "version": "3.5.5"
  }
 },
 "nbformat": 4,
 "nbformat_minor": 2
}
