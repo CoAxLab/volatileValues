{
 "cells": [
  {
   "cell_type": "markdown",
   "metadata": {},
   "source": [
    "# Candidate adaptive models "
   ]
  },
  {
   "cell_type": "markdown",
   "metadata": {},
   "source": [
    "\n",
    "### I) The drift learning rate alone may vary as a function of the believed reward difference between targets, where an increased drift rate would speed evidence accumulation, decreasing reaction time and increasing choice accuracy:\n",
    "#### $$v_{t+1} = \\hat\\alpha {\\cdot B_t} + v_t$$\n",
    "<br>\n",
    "### II) The boundary alone may adapt as a function of the change point probability, which would increase the window of evidence accumulation, increasing reaction time but leaving choice accuracy unaffected:\n",
    "####  $$a_{t+1} = a_0 + \\hat\\beta\\cdot \\Omega_t$$\n",
    "<br>\n",
    "### III) The drift learning rate may adapt as a function of the believed reward difference between targets and the boundary may adapt as a function of change point probability:\n",
    "####  $$v_{t+1} = \\hat\\alpha \\cdot {B_t} + v_t$$\n",
    "\n",
    "####  $$a_{t+1} = a_0 + \\hat\\beta \\cdot \\Omega_t$$\n",
    "<br>"
   ]
  },
  {
   "cell_type": "markdown",
   "metadata": {},
   "source": [
    "## Reaction times"
   ]
  },
  {
   "cell_type": "markdown",
   "metadata": {},
   "source": [
    "![alt text](hvhc_rt_tc.png)"
   ]
  },
  {
   "cell_type": "markdown",
   "metadata": {},
   "source": [
    "![alt text](lvhc_rt_tc.png)"
   ]
  },
  {
   "cell_type": "markdown",
   "metadata": {},
   "source": [
    "![alt text](hvlc_rt_tc.png)"
   ]
  },
  {
   "cell_type": "markdown",
   "metadata": {},
   "source": [
    "![alt text](lvlc_rt_tc.png)"
   ]
  },
  {
   "cell_type": "markdown",
   "metadata": {},
   "source": [
    "## Accuracy"
   ]
  },
  {
   "cell_type": "markdown",
   "metadata": {},
   "source": [
    "![alt text](hvhc_acc_tc.png)"
   ]
  },
  {
   "cell_type": "markdown",
   "metadata": {},
   "source": [
    "![alt text](lvhc_acc_tc.png)"
   ]
  },
  {
   "cell_type": "markdown",
   "metadata": {},
   "source": [
    "![alt text](hvlc_rt_tc.png)"
   ]
  },
  {
   "cell_type": "markdown",
   "metadata": {},
   "source": [
    "![alt text](lvlc_rt_tc.png)"
   ]
  }
 ],
 "metadata": {
  "kernelspec": {
   "display_name": "Python 3",
   "language": "python",
   "name": "python3"
  },
  "language_info": {
   "codemirror_mode": {
    "name": "ipython",
    "version": 3
   },
   "file_extension": ".py",
   "mimetype": "text/x-python",
   "name": "python",
   "nbconvert_exporter": "python",
   "pygments_lexer": "ipython3",
   "version": "3.5.5"
  }
 },
 "nbformat": 4,
 "nbformat_minor": 2
}
