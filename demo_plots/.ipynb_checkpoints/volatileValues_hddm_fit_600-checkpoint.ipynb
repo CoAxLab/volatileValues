{
 "cells": [
  {
   "cell_type": "code",
   "execution_count": 1,
   "metadata": {},
   "outputs": [
    {
     "name": "stderr",
     "output_type": "stream",
     "text": [
      "/Users/Krista/anaconda/envs/hddm/lib/python3.5/site-packages/IPython/parallel.py:13: ShimWarning: The `IPython.parallel` package has been deprecated since IPython 4.0. You should import from ipyparallel instead.\n",
      "  \"You should import from ipyparallel instead.\", ShimWarning)\n"
     ]
    }
   ],
   "source": [
    "import hddm\n",
    "import pandas as pd\n",
    "import matplotlib.pyplot as plt\n",
    "!cd /Users/Krista/Documents/github_repositories/testing-master/"
   ]
  },
  {
   "cell_type": "code",
   "execution_count": 2,
   "metadata": {},
   "outputs": [
    {
     "data": {
      "text/html": [
       "<div>\n",
       "<style scoped>\n",
       "    .dataframe tbody tr th:only-of-type {\n",
       "        vertical-align: middle;\n",
       "    }\n",
       "\n",
       "    .dataframe tbody tr th {\n",
       "        vertical-align: top;\n",
       "    }\n",
       "\n",
       "    .dataframe thead th {\n",
       "        text-align: right;\n",
       "    }\n",
       "</style>\n",
       "<table border=\"1\" class=\"dataframe\">\n",
       "  <thead>\n",
       "    <tr style=\"text-align: right;\">\n",
       "      <th></th>\n",
       "      <th>rt</th>\n",
       "      <th>response</th>\n",
       "      <th>subj_idx</th>\n",
       "      <th>cond</th>\n",
       "    </tr>\n",
       "  </thead>\n",
       "  <tbody>\n",
       "    <tr>\n",
       "      <th>79995</th>\n",
       "      <td>0.7</td>\n",
       "      <td>0</td>\n",
       "      <td>49</td>\n",
       "      <td>hv</td>\n",
       "    </tr>\n",
       "    <tr>\n",
       "      <th>79996</th>\n",
       "      <td>0.7</td>\n",
       "      <td>0</td>\n",
       "      <td>49</td>\n",
       "      <td>hv</td>\n",
       "    </tr>\n",
       "    <tr>\n",
       "      <th>79997</th>\n",
       "      <td>0.7</td>\n",
       "      <td>0</td>\n",
       "      <td>49</td>\n",
       "      <td>hv</td>\n",
       "    </tr>\n",
       "    <tr>\n",
       "      <th>79998</th>\n",
       "      <td>0.7</td>\n",
       "      <td>0</td>\n",
       "      <td>49</td>\n",
       "      <td>hv</td>\n",
       "    </tr>\n",
       "    <tr>\n",
       "      <th>79999</th>\n",
       "      <td>0.7</td>\n",
       "      <td>0</td>\n",
       "      <td>49</td>\n",
       "      <td>hv</td>\n",
       "    </tr>\n",
       "  </tbody>\n",
       "</table>\n",
       "</div>"
      ],
      "text/plain": [
       "        rt  response  subj_idx cond\n",
       "79995  0.7         0        49   hv\n",
       "79996  0.7         0        49   hv\n",
       "79997  0.7         0        49   hv\n",
       "79998  0.7         0        49   hv\n",
       "79999  0.7         0        49   hv"
      ]
     },
     "execution_count": 2,
     "metadata": {},
     "output_type": "execute_result"
    }
   ],
   "source": [
    "data = hddm.load_csv('./400t.csv')\n",
    "data.columns = data.columns.str.strip()\n",
    "data.head(4)\n",
    "data.tail()"
   ]
  },
  {
   "cell_type": "code",
   "execution_count": 3,
   "metadata": {},
   "outputs": [
    {
     "data": {
      "image/png": "[encoded data removed]",
      "text/plain": [
       "<Figure size 432x288 with 1 Axes>"
      ]
     },
     "metadata": {},
     "output_type": "display_data"
    }
   ],
   "source": [
    "fig = plt.figure()\n",
    "ax = fig.add_subplot(111, xlabel='RT', ylabel='count', title='RT distributions')\n",
    "for i, subj_data in data.groupby('subj_idx'):\n",
    "    subj_data.rt.hist(bins=20, histtype='step', ax=ax)\n"
   ]
  },
  {
   "cell_type": "code",
   "execution_count": null,
   "metadata": {},
   "outputs": [
    {
     "name": "stderr",
     "output_type": "stream",
     "text": [
      "/Users/Krista/anaconda/envs/hddm/lib/python3.5/site-packages/scipy/optimize/optimize.py:1927: RuntimeWarning: invalid value encountered in double_scalars\n",
      "  tmp2 = (x - v) * (fx - fw)\n",
      "/Users/Krista/anaconda/envs/hddm/lib/python3.5/site-packages/scipy/optimize/optimize.py:1932: RuntimeWarning: invalid value encountered in absolute\n",
      "  tmp2 = numpy.abs(tmp2)\n",
      "/Users/Krista/anaconda/envs/hddm/lib/python3.5/site-packages/scipy/optimize/optimize.py:1928: RuntimeWarning: invalid value encountered in double_scalars\n",
      "  p = (x - v) * tmp2 - (x - w) * tmp1\n",
      "/Users/Krista/anaconda/envs/hddm/lib/python3.5/site-packages/pymc/Node.py:403: VisibleDeprecationWarning: using a non-integer number instead of an integer will result in an error in the future\n",
      "  self.__name__ = input['__name__']\n"
     ]
    },
    {
     "name": "stdout",
     "output_type": "stream",
     "text": [
      " [                  0%                  ] 64 of 10000 complete in 23.1 sec"
     ]
    }
   ],
   "source": [
    "m_stim = hddm.HDDM(data, depends_on={'v': 'cond', 'a': 'cond'})\n",
    "m_stim.find_starting_values()\n",
    "m_stim.sample(10000, burn=1000)"
   ]
  },
  {
   "cell_type": "code",
   "execution_count": null,
   "metadata": {},
   "outputs": [],
   "source": [
    "stats = m_stim.gen_stats()\n",
    "stats[stats.index.isin(['v(hc)','v(lc)', 'v(hv)','v(lv)'])]"
   ]
  },
  {
   "cell_type": "code",
   "execution_count": null,
   "metadata": {},
   "outputs": [],
   "source": [
    "stats[stats.index.isin(['a(hc)','a(lc)', 'a(hv)','a(lv)'])]"
   ]
  },
  {
   "cell_type": "code",
   "execution_count": null,
   "metadata": {},
   "outputs": [],
   "source": [
    "m_stim.plot_posteriors('a', 'v')"
   ]
  },
  {
   "cell_type": "code",
   "execution_count": null,
   "metadata": {},
   "outputs": [],
   "source": [
    "v_lc, v_hc = m_stim.nodes_db.node[['v(lc)', 'v(hc)']]\n",
    "v_lv, v_hv = m_stim.nodes_db.node[['v(lv)', 'v(hv)']]\n",
    "a_lv, a_hv = m_stim.nodes_db.node[['a(lv)', 'a(hv)']]\n",
    "a_lc, a_hc = m_stim.nodes_db.node[['a(lc)', 'a(hc)']]"
   ]
  },
  {
   "cell_type": "code",
   "execution_count": null,
   "metadata": {},
   "outputs": [],
   "source": [
    "hddm.analyze.plot_posterior_nodes([v_lc, v_hc])\n",
    "plt.xlabel('drift-rate')\n",
    "plt.ylabel('Posterior probability')\n",
    "plt.title('Posterior of drift-rate group means')\n",
    "\n",
    "hddm.analyze.plot_posterior_nodes([v_lv, v_hv])\n",
    "plt.xlabel('drift-rate')\n",
    "plt.ylabel('Posterior probability')\n",
    "plt.title('Posterior of drift-rate group means')\n",
    "\n",
    "hddm.analyze.plot_posterior_nodes([a_lc, a_hc])\n",
    "plt.xlabel('decision boundary')\n",
    "plt.ylabel('Posterior probability')\n",
    "plt.title('Posterior of decision boundary group means')\n",
    "\n",
    "\n",
    "hddm.analyze.plot_posterior_nodes([a_lv, a_hv])\n",
    "plt.xlabel('decision boundary')\n",
    "plt.ylabel('Posterior probability')\n",
    "plt.title('Posterior of decision boundary group means')\n",
    "# plt.savefig('hddm_demo_fig_06.pdf')\n"
   ]
  },
  {
   "cell_type": "code",
   "execution_count": null,
   "metadata": {},
   "outputs": [],
   "source": [
    "# print(\"P(low_conflict_drift > high_conflict_drift) = \", (v_hc.trace() > v_lc.trace()).mean())\n",
    "# print(\"P(low_conflict_bound > high_conflict_bound) = \", (a_hc.trace() > a_lc.trace()).mean())\n",
    "# print(\"P(high_volatility_bound > low_volatility_bound) = \", (a_hv.trace() > a_lv.trace()).mean())\n",
    "# print(\"P(high_volatility_drift > low_volatility_drift) = \", (v_hv.trace() > v_lv.trace()).mean())"
   ]
  },
  {
   "cell_type": "code",
   "execution_count": null,
   "metadata": {},
   "outputs": [],
   "source": [
    "#for when i fit a null model \n",
    "# print \"Lumped model DIC: %f\" % model.dic\n",
    "# print(\"Stimulus model DIC: %f\" % m_stim.dic)"
   ]
  },
  {
   "cell_type": "code",
   "execution_count": null,
   "metadata": {},
   "outputs": [],
   "source": [
    "#model does not save... db is 'ram' error\n",
    "# m_stim.save('1000t')"
   ]
  },
  {
   "cell_type": "code",
   "execution_count": null,
   "metadata": {},
   "outputs": [],
   "source": [
    " m_stim.print_stats('./1000t_stats.csv')"
   ]
  },
  {
   "cell_type": "code",
   "execution_count": null,
   "metadata": {},
   "outputs": [],
   "source": []
  }
 ],
 "metadata": {
  "kernelspec": {
   "display_name": "hddm",
   "language": "python",
   "name": "hddm"
  },
  "language_info": {
   "codemirror_mode": {
    "name": "ipython",
    "version": 3
   },
   "file_extension": ".py",
   "mimetype": "text/x-python",
   "name": "python",
   "nbconvert_exporter": "python",
   "pygments_lexer": "ipython3",
   "version": "3.5.5"
  }
 },
 "nbformat": 4,
 "nbformat_minor": 2
}
