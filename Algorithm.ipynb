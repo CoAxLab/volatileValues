{
 "cells": [
  {
   "cell_type": "markdown",
   "metadata": {},
   "source": [
    "#    Simulation Equations"
   ]
  },
  {
   "cell_type": "markdown",
   "metadata": {},
   "source": [
    "#### Assumptions [expand with assumptions of learning process]"
   ]
  },
  {
   "cell_type": "markdown",
   "metadata": {},
   "source": [
    "The two-alternative drift diffusion model {DDM} relies on three fundamental assumptions: \n",
    "\n",
    "I. Evidence favoring each alternative is integrated over time.\n",
    "\n",
    "II. Decision process errors are normally distributed with a dispersion of $\\sigma^2$, [$\\epsilon \\textrm{~} N(0,\\sigma^2)$] \n",
    "\n",
    "III. A decision is made when sufficient evidence has accumulated for one alternative over the other.\n",
    "\n",
    "*(The physics of optimal decision making ~ Bogacz et al., 2006)*"
   ]
  },
  {
   "cell_type": "markdown",
   "metadata": {},
   "source": [
    "#### Nomenclature"
   ]
  },
  {
   "cell_type": "markdown",
   "metadata": {},
   "source": [
    "$$\n",
    "\\begin{align}\n",
    "\\alpha = \\textrm{drift learning rate}  && \\beta = \\textrm{boundary learning rate} \\\\\n",
    "\\theta= \\textrm{execution state} && \\tau = \\textrm{time step}\\\\\n",
    "a = \\textrm{boundary} && v_{\\theta} = \\textrm{execution drift rate}\\\\  \n",
    " && \\epsilon = \\textrm{error} \n",
    "% j = \\textrm{target} && t = \\textrm{trial}\\\\\n",
    "% \\phi = \\textrm{braking state} \\\\ && v_{\\phi} = \\textrm{braking drift rate}\\\\\n",
    "\\end{align}\n",
    "$$"
   ]
  },
  {
   "cell_type": "markdown",
   "metadata": {},
   "source": [
    "### Decision"
   ]
  },
  {
   "cell_type": "markdown",
   "metadata": {},
   "source": [
    "For a given trial, \n",
    "$$\\theta(\\tau)= \\theta(\\tau-\\Delta\\tau) + v_{\\theta}\\Delta\\tau + \\epsilon(\\tau)$$\n",
    "\n",
    "where \n",
    "$$\\theta = V_{t_1} - V_{t_2}$$ \n",
    "\n",
    "<br>\n",
    "An action is executed when the decision process for a given time step crossed the boundary [$a$]: \n",
    "$$\\textrm{response} = \\begin{cases} 1 \\;  \\textrm{if} \\; \\theta(\\tau) \\geq a \\\\\n",
    "\\textrm{else} \\; 0\\end{cases}\\\n",
    "$$\n"
   ]
  },
  {
   "cell_type": "markdown",
   "metadata": {},
   "source": [
    "### Learning"
   ]
  },
  {
   "cell_type": "markdown",
   "metadata": {},
   "source": [
    "The magnitude of the error in the difference between the targets dictates drift rate adapation; the greater the error, the slower the drift rate to better accumulate evidence. Accuracy is the points earned on the trial subtracted from the maximum possible points for that trial. \n",
    "\n",
    "$$v_{\\theta_{(t+1)}} = v_t * e^{\\alpha_t^{\\:acc_t}}$$\n",
    "\n",
    "The bound increases in height, $\\beta_t$, on an error trial [should this be after a minimum error?] and decays back to its original height with the number of trials that have passed since the error trial. \n",
    "$$a_{t_{error}} = a_0 + \\beta_t*e^{-t_{err}}$$\n",
    "\n",
    "The error sensitivity for a given trial scales the learning rates for the boundary [$\\beta$] and the drift rate [$\\alpha$]: \n",
    "\n",
    "$$s_t = [\\frac{t}{10}]\\:^p \\\\\n",
    "\\alpha_t = s_t\\alpha_0\\\\\n",
    "\\beta_t = s_t\\beta_0\\\\\n",
    "$$\n",
    "\n",
    "\n",
    "\n"
   ]
  },
  {
   "cell_type": "markdown",
   "metadata": {},
   "source": [
    "### Cost"
   ]
  },
  {
   "cell_type": "markdown",
   "metadata": {},
   "source": [
    "The deviance of model predictions [$\\hat{\\mu}$] from the observed data [$\\mu$] is evaluated according to the following chi-square function of residuals weighted by variance, where $N$ corresponds to the total number of epochs: \n",
    "\n",
    "$$X^2 = \\sum_i^{N}W_{acc,\\:i}\\;(\\mu_{acc,i} - \\hat{\\mu}_{acc,i})^2 + \\sum_i^{N}W_{rt,\\:i}\\;(\\mu_{rt,i} - \\hat{\\mu}_{rt,i})^2$$"
   ]
  },
  {
   "cell_type": "code",
   "execution_count": null,
   "metadata": {
    "collapsed": true
   },
   "outputs": [],
   "source": []
  }
 ],
 "metadata": {
  "kernelspec": {
   "display_name": "Python 3",
   "language": "python",
   "name": "python3"
  },
  "language_info": {
   "codemirror_mode": {
    "name": "ipython",
    "version": 3
   },
   "file_extension": ".py",
   "mimetype": "text/x-python",
   "name": "python",
   "nbconvert_exporter": "python",
   "pygments_lexer": "ipython3",
   "version": "3.6.0"
  }
 },
 "nbformat": 4,
 "nbformat_minor": 2
}
