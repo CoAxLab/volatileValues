{
 "cells": [
  {
   "cell_type": "code",
   "execution_count": 1,
   "metadata": {},
   "outputs": [
    {
     "name": "stdout",
     "output_type": "stream",
     "text": [
      "0.6.0\n"
     ]
    },
    {
     "name": "stderr",
     "output_type": "stream",
     "text": [
      "/Users/Krista/anaconda/envs/hddm/lib/python3.5/site-packages/IPython/parallel.py:13: ShimWarning: The `IPython.parallel` package has been deprecated since IPython 4.0. You should import from ipyparallel instead.\n",
      "  \"You should import from ipyparallel instead.\", ShimWarning)\n"
     ]
    }
   ],
   "source": [
    "import pandas as pd \n",
    "import matplotlib.pyplot as plt \n",
    "import hddm \n",
    "from patsy import dmatrix \n",
    "print(hddm.__version__)\n",
    "\n",
    "%matplotlib inline"
   ]
  },
  {
   "cell_type": "markdown",
   "metadata": {},
   "source": [
    "## Pre-processing"
   ]
  },
  {
   "cell_type": "code",
   "execution_count": 2,
   "metadata": {},
   "outputs": [
    {
     "name": "stdout",
     "output_type": "stream",
     "text": [
      "/Users/Krista/Dropbox/volatileValues/simple_rt_experiment_probabilityC/analysis\r\n"
     ]
    }
   ],
   "source": [
    "!pwd"
   ]
  },
  {
   "cell_type": "code",
   "execution_count": 3,
   "metadata": {},
   "outputs": [],
   "source": [
    "data = hddm.load_csv('./cavanagh_theta_nn.csv')"
   ]
  },
  {
   "cell_type": "code",
   "execution_count": 4,
   "metadata": {},
   "outputs": [
    {
     "data": {
      "text/html": [
       "<div>\n",
       "<style scoped>\n",
       "    .dataframe tbody tr th:only-of-type {\n",
       "        vertical-align: middle;\n",
       "    }\n",
       "\n",
       "    .dataframe tbody tr th {\n",
       "        vertical-align: top;\n",
       "    }\n",
       "\n",
       "    .dataframe thead th {\n",
       "        text-align: right;\n",
       "    }\n",
       "</style>\n",
       "<table border=\"1\" class=\"dataframe\">\n",
       "  <thead>\n",
       "    <tr style=\"text-align: right;\">\n",
       "      <th></th>\n",
       "      <th>subj_idx</th>\n",
       "      <th>stim</th>\n",
       "      <th>rt</th>\n",
       "      <th>response</th>\n",
       "      <th>theta</th>\n",
       "      <th>dbs</th>\n",
       "      <th>conf</th>\n",
       "    </tr>\n",
       "  </thead>\n",
       "  <tbody>\n",
       "    <tr>\n",
       "      <th>0</th>\n",
       "      <td>0</td>\n",
       "      <td>LL</td>\n",
       "      <td>1.210</td>\n",
       "      <td>1.0</td>\n",
       "      <td>0.656275</td>\n",
       "      <td>1</td>\n",
       "      <td>HC</td>\n",
       "    </tr>\n",
       "    <tr>\n",
       "      <th>1</th>\n",
       "      <td>0</td>\n",
       "      <td>WL</td>\n",
       "      <td>1.630</td>\n",
       "      <td>1.0</td>\n",
       "      <td>-0.327889</td>\n",
       "      <td>1</td>\n",
       "      <td>LC</td>\n",
       "    </tr>\n",
       "    <tr>\n",
       "      <th>2</th>\n",
       "      <td>0</td>\n",
       "      <td>WW</td>\n",
       "      <td>1.030</td>\n",
       "      <td>1.0</td>\n",
       "      <td>-0.480285</td>\n",
       "      <td>1</td>\n",
       "      <td>HC</td>\n",
       "    </tr>\n",
       "    <tr>\n",
       "      <th>3</th>\n",
       "      <td>0</td>\n",
       "      <td>WL</td>\n",
       "      <td>2.770</td>\n",
       "      <td>1.0</td>\n",
       "      <td>1.927427</td>\n",
       "      <td>1</td>\n",
       "      <td>LC</td>\n",
       "    </tr>\n",
       "    <tr>\n",
       "      <th>4</th>\n",
       "      <td>0</td>\n",
       "      <td>WW</td>\n",
       "      <td>1.140</td>\n",
       "      <td>0.0</td>\n",
       "      <td>-0.213236</td>\n",
       "      <td>1</td>\n",
       "      <td>HC</td>\n",
       "    </tr>\n",
       "    <tr>\n",
       "      <th>5</th>\n",
       "      <td>0</td>\n",
       "      <td>WL</td>\n",
       "      <td>1.150</td>\n",
       "      <td>1.0</td>\n",
       "      <td>-0.436204</td>\n",
       "      <td>1</td>\n",
       "      <td>LC</td>\n",
       "    </tr>\n",
       "    <tr>\n",
       "      <th>6</th>\n",
       "      <td>0</td>\n",
       "      <td>LL</td>\n",
       "      <td>2.000</td>\n",
       "      <td>1.0</td>\n",
       "      <td>-0.274479</td>\n",
       "      <td>1</td>\n",
       "      <td>HC</td>\n",
       "    </tr>\n",
       "    <tr>\n",
       "      <th>7</th>\n",
       "      <td>0</td>\n",
       "      <td>WL</td>\n",
       "      <td>1.040</td>\n",
       "      <td>0.0</td>\n",
       "      <td>0.666957</td>\n",
       "      <td>1</td>\n",
       "      <td>LC</td>\n",
       "    </tr>\n",
       "    <tr>\n",
       "      <th>8</th>\n",
       "      <td>0</td>\n",
       "      <td>WW</td>\n",
       "      <td>0.857</td>\n",
       "      <td>1.0</td>\n",
       "      <td>0.118617</td>\n",
       "      <td>1</td>\n",
       "      <td>HC</td>\n",
       "    </tr>\n",
       "    <tr>\n",
       "      <th>9</th>\n",
       "      <td>0</td>\n",
       "      <td>WL</td>\n",
       "      <td>1.500</td>\n",
       "      <td>0.0</td>\n",
       "      <td>0.823626</td>\n",
       "      <td>1</td>\n",
       "      <td>LC</td>\n",
       "    </tr>\n",
       "  </tbody>\n",
       "</table>\n",
       "</div>"
      ],
      "text/plain": [
       "   subj_idx stim     rt  response     theta  dbs conf\n",
       "0         0   LL  1.210       1.0  0.656275    1   HC\n",
       "1         0   WL  1.630       1.0 -0.327889    1   LC\n",
       "2         0   WW  1.030       1.0 -0.480285    1   HC\n",
       "3         0   WL  2.770       1.0  1.927427    1   LC\n",
       "4         0   WW  1.140       0.0 -0.213236    1   HC\n",
       "5         0   WL  1.150       1.0 -0.436204    1   LC\n",
       "6         0   LL  2.000       1.0 -0.274479    1   HC\n",
       "7         0   WL  1.040       0.0  0.666957    1   LC\n",
       "8         0   WW  0.857       1.0  0.118617    1   HC\n",
       "9         0   WL  1.500       0.0  0.823626    1   LC"
      ]
     },
     "execution_count": 4,
     "metadata": {},
     "output_type": "execute_result"
    }
   ],
   "source": [
    "data.head(10)"
   ]
  },
  {
   "cell_type": "code",
   "execution_count": 5,
   "metadata": {},
   "outputs": [],
   "source": [
    "data = hddm.utils.flip_errors(data)"
   ]
  },
  {
   "cell_type": "markdown",
   "metadata": {},
   "source": [
    "## Within-subjects regression "
   ]
  },
  {
   "cell_type": "markdown",
   "metadata": {},
   "source": [
    "#### Treatment specifies intercept (comparison condition) \n",
    "#### C(x) specifies categorical predictor \n",
    "\n",
    "##### (design matrix will auto-code dummy variables)"
   ]
  },
  {
   "cell_type": "code",
   "execution_count": 6,
   "metadata": {},
   "outputs": [
    {
     "data": {
      "text/plain": [
       "DesignMatrix with shape (10, 3)\n",
       "  Intercept  C(stim, Treatment('WL'))[T.LL]  C(stim, Treatment('WL'))[T.WW]\n",
       "          1                               1                               0\n",
       "          1                               0                               0\n",
       "          1                               0                               1\n",
       "          1                               0                               0\n",
       "          1                               0                               1\n",
       "          1                               0                               0\n",
       "          1                               1                               0\n",
       "          1                               0                               0\n",
       "          1                               0                               1\n",
       "          1                               0                               0\n",
       "  Terms:\n",
       "    'Intercept' (column 0)\n",
       "    \"C(stim, Treatment('WL'))\" (columns 1:3)"
      ]
     },
     "execution_count": 6,
     "metadata": {},
     "output_type": "execute_result"
    }
   ],
   "source": [
    "dmatrix(\"C(stim,Treatment('WL'))\", data.head(10))"
   ]
  },
  {
   "cell_type": "markdown",
   "metadata": {},
   "source": [
    "#### trialwise response ~ categorical predictor, intercept condition "
   ]
  },
  {
   "cell_type": "code",
   "execution_count": 7,
   "metadata": {},
   "outputs": [],
   "source": [
    "v_reg_model = \"v ~ C(stim, Treatment('WL'))\"\n",
    "a_reg_model = \"a ~ C(stim, Treatment('WL'))\"\n",
    "av_reg_model = [v_reg_model, a_reg_model]\n",
    "\n",
    "#null: condition has no effect on drift \n",
    "null_v_reg_model = \"v~1\"\n",
    "#null: condition has no effect on bound \n",
    "null_a_reg_model = \"a~1\"\n",
    "#null: condition has no effect on bound/drift simultaneously estimated\n",
    "null_av_reg_model = [null_v_reg_model, null_a_reg_model]"
   ]
  },
  {
   "cell_type": "code",
   "execution_count": 33,
   "metadata": {},
   "outputs": [
    {
     "name": "stdout",
     "output_type": "stream",
     "text": [
      "Adding these covariates:\n",
      "['v_Intercept', \"v_C(stim, Treatment('WL'))[T.LL]\", \"v_C(stim, Treatment('WL'))[T.WW]\"]\n",
      " [--------------------120%---------------------] 6 of 5 complete in 8.6 sec"
     ]
    },
    {
     "data": {
      "text/plain": [
       "<pymc.MCMC.MCMC at 0x1a0e6da9e8>"
      ]
     },
     "execution_count": 33,
     "metadata": {},
     "output_type": "execute_result"
    }
   ],
   "source": [
    "v_within_subj = hddm.HDDMRegressor(data, v_reg_model)\n",
    "v_within_subj.sample(5,burn=1, dbname='traces.db', db='pickle')"
   ]
  },
  {
   "cell_type": "code",
   "execution_count": null,
   "metadata": {},
   "outputs": [],
   "source": [
    "a_within_subj = hddm.HDDMRegressor(data, a_reg_model)\n",
    "a_within_subj.sample(5000,burn=200)"
   ]
  },
  {
   "cell_type": "code",
   "execution_count": null,
   "metadata": {},
   "outputs": [],
   "source": [
    "av_within_subj = hddm.HDDMRegressor(data, av_reg_model)\n",
    "av_within_subj.sample(5000,burn=200)"
   ]
  },
  {
   "cell_type": "markdown",
   "metadata": {},
   "source": [
    "#### null models"
   ]
  },
  {
   "cell_type": "code",
   "execution_count": null,
   "metadata": {},
   "outputs": [],
   "source": [
    "null_v_within_subj = hddm.HDDMRegressor(data, null_v_reg_model)\n",
    "null_v_within_subj.sample(5000,burn=200)"
   ]
  },
  {
   "cell_type": "code",
   "execution_count": null,
   "metadata": {},
   "outputs": [],
   "source": [
    "null_a_within_subj = hddm.HDDMRegressor(data, null_a_reg_model)\n",
    "null_a_within_subj.sample(5000,burn=200)"
   ]
  },
  {
   "cell_type": "code",
   "execution_count": null,
   "metadata": {},
   "outputs": [],
   "source": [
    "null_av_within_subj = hddm.HDDMRegressor(data, null_av_reg_model)\n",
    "null_av_within_subj.sample(5000,burn=200)"
   ]
  },
  {
   "cell_type": "markdown",
   "metadata": {},
   "source": [
    "#### plot within-subjects effects "
   ]
  },
  {
   "cell_type": "code",
   "execution_count": null,
   "metadata": {},
   "outputs": [],
   "source": [
    "v_WL, v_LL, v_WW = v_within_subj.nodes_db.ix[[\"v_Intercept\", \n",
    "                                              \"v_C(stim, Treatment('WL'))[T.LL]\", \n",
    "                                              \"v_C(stim, Treatment('WL'))[T.WW]\"], 'node']\n",
    "hddm.analyze.plot_posterior_nodes([v_WL, v_LL, v_WW])\n",
    "plt.xlabel('drift-rate')\n",
    "plt.ylabel('Posterior probability')\n",
    "plt.title('Group mean posteriors of within-subject drift-rate effects.')\n",
    "# plt.savefig('hddm_demo_fig_07.pdf')"
   ]
  },
  {
   "cell_type": "code",
   "execution_count": null,
   "metadata": {},
   "outputs": [],
   "source": [
    "a_WL, a_LL, a_WW = a_within_subj.nodes_db.ix[[\"a_Intercept\", \n",
    "                                              \"a_C(stim, Treatment('WL'))[T.LL]\", \n",
    "                                              \"a_C(stim, Treatment('WL'))[T.WW]\"], 'node']\n",
    "hddm.analyze.plot_posterior_nodes([a_WL, a_LL, a_WW])\n",
    "plt.xlabel('bound')\n",
    "plt.ylabel('Posterior probability')\n",
    "plt.title('Group mean posteriors of within-subject bound effects.')\n",
    "# plt.savefig('hddm_demo_fig_07.pdf')"
   ]
  },
  {
   "cell_type": "markdown",
   "metadata": {},
   "source": [
    "#### extract DIC score"
   ]
  },
  {
   "cell_type": "code",
   "execution_count": null,
   "metadata": {},
   "outputs": [],
   "source": [
    "v_within_subj.dic, a_within_subj.dic, av_within_subj.dic"
   ]
  },
  {
   "cell_type": "code",
   "execution_count": null,
   "metadata": {},
   "outputs": [],
   "source": [
    "\n",
    "plt.rcParams['figure.figsize'] = 10, 10\n",
    "plt.rcParams['axes.titlesize'] = 25\n",
    "plt.rcParams['axes.labelsize'] = 30\n",
    "plt.rcParams['xtick.labelsize'] = 30\n",
    "plt.rcParams['ytick.labelsize'] = 30\n",
    "\n",
    "names = [r'$a + v$',r'$a$',r'$v$']\n",
    "dics = [v_within_subj.dic,  a_within_subj.dic, av_within_subj.dic]\n",
    "bars = plt.barh(names,dics, alpha=0.5)\n",
    "plt.xlabel('DIC score')\n",
    "\n",
    "bars[0].set_color('r')\n",
    "bars[1].set_color('blue')\n",
    "bars[2].set_color('forestgreen')\n",
    "\n",
    "plt.axvline(av_within_subj.dic, color='k', alpha=0.5, linestyle = '--')"
   ]
  },
  {
   "cell_type": "markdown",
   "metadata": {},
   "source": [
    "#### all stats"
   ]
  },
  {
   "cell_type": "code",
   "execution_count": null,
   "metadata": {},
   "outputs": [],
   "source": [
    "# v_within_subj.print_stats()"
   ]
  },
  {
   "cell_type": "code",
   "execution_count": 36,
   "metadata": {},
   "outputs": [
    {
     "name": "stdout",
     "output_type": "stream",
     "text": [
      "WARNING: Will not save custom link functions.\n"
     ]
    }
   ],
   "source": [
    "v_within_subj.save('ex_a_reg' )"
   ]
  },
  {
   "cell_type": "code",
   "execution_count": 38,
   "metadata": {},
   "outputs": [
    {
     "ename": "DatabaseError",
     "evalue": "file is not a database",
     "output_type": "error",
     "traceback": [
      "\u001b[0;31m---------------------------------------------------------------------------\u001b[0m",
      "\u001b[0;31mDatabaseError\u001b[0m                             Traceback (most recent call last)",
      "\u001b[0;32m<ipython-input-38-ec72f9250097>\u001b[0m in \u001b[0;36m<module>\u001b[0;34m()\u001b[0m\n\u001b[0;32m----> 1\u001b[0;31m \u001b[0mv_within_subj\u001b[0m\u001b[0;34m.\u001b[0m\u001b[0mload_db\u001b[0m\u001b[0;34m(\u001b[0m\u001b[0;34m'ex_a_reg'\u001b[0m\u001b[0;34m)\u001b[0m\u001b[0;34m\u001b[0m\u001b[0m\n\u001b[0m",
      "\u001b[0;32m~/anaconda/envs/hddm/lib/python3.5/site-packages/kabuki/hierarchical.py\u001b[0m in \u001b[0;36mload_db\u001b[0;34m(self, dbname, verbose, db)\u001b[0m\n\u001b[1;32m    820\u001b[0m \u001b[0;34m\u001b[0m\u001b[0m\n\u001b[1;32m    821\u001b[0m         \u001b[0;31m# Open database\u001b[0m\u001b[0;34m\u001b[0m\u001b[0;34m\u001b[0m\u001b[0m\n\u001b[0;32m--> 822\u001b[0;31m         \u001b[0mdb\u001b[0m \u001b[0;34m=\u001b[0m \u001b[0mdb_loader\u001b[0m\u001b[0;34m(\u001b[0m\u001b[0mdbname\u001b[0m\u001b[0;34m)\u001b[0m\u001b[0;34m\u001b[0m\u001b[0m\n\u001b[0m\u001b[1;32m    823\u001b[0m \u001b[0;34m\u001b[0m\u001b[0m\n\u001b[1;32m    824\u001b[0m         \u001b[0;31m# Create mcmc instance reading from the opened database\u001b[0m\u001b[0;34m\u001b[0m\u001b[0;34m\u001b[0m\u001b[0m\n",
      "\u001b[0;32m~/anaconda/envs/hddm/lib/python3.5/site-packages/pymc/database/sqlite.py\u001b[0m in \u001b[0;36mload\u001b[0;34m(dbname)\u001b[0m\n\u001b[1;32m    236\u001b[0m     \u001b[0mReturn\u001b[0m \u001b[0ma\u001b[0m \u001b[0mDatabase\u001b[0m \u001b[0minstance\u001b[0m\u001b[0;34m.\u001b[0m\u001b[0;34m\u001b[0m\u001b[0m\n\u001b[1;32m    237\u001b[0m     \"\"\"\n\u001b[0;32m--> 238\u001b[0;31m     \u001b[0mdb\u001b[0m \u001b[0;34m=\u001b[0m \u001b[0mDatabase\u001b[0m\u001b[0;34m(\u001b[0m\u001b[0mdbname\u001b[0m\u001b[0;34m)\u001b[0m\u001b[0;34m\u001b[0m\u001b[0m\n\u001b[0m\u001b[1;32m    239\u001b[0m \u001b[0;34m\u001b[0m\u001b[0m\n\u001b[1;32m    240\u001b[0m     \u001b[0;31m# Get the name of the objects\u001b[0m\u001b[0;34m\u001b[0m\u001b[0;34m\u001b[0m\u001b[0m\n",
      "\u001b[0;32m~/anaconda/envs/hddm/lib/python3.5/site-packages/pymc/database/sqlite.py\u001b[0m in \u001b[0;36m__init__\u001b[0;34m(self, dbname, dbmode)\u001b[0m\n\u001b[1;32m    187\u001b[0m         \u001b[0mself\u001b[0m\u001b[0;34m.\u001b[0m\u001b[0mcur\u001b[0m \u001b[0;34m=\u001b[0m \u001b[0mself\u001b[0m\u001b[0;34m.\u001b[0m\u001b[0mDB\u001b[0m\u001b[0;34m.\u001b[0m\u001b[0mcursor\u001b[0m\u001b[0;34m(\u001b[0m\u001b[0;34m)\u001b[0m\u001b[0;34m\u001b[0m\u001b[0m\n\u001b[1;32m    188\u001b[0m \u001b[0;34m\u001b[0m\u001b[0m\n\u001b[0;32m--> 189\u001b[0;31m         \u001b[0mexisting_tables\u001b[0m \u001b[0;34m=\u001b[0m \u001b[0mget_table_list\u001b[0m\u001b[0;34m(\u001b[0m\u001b[0mself\u001b[0m\u001b[0;34m.\u001b[0m\u001b[0mcur\u001b[0m\u001b[0;34m)\u001b[0m\u001b[0;34m\u001b[0m\u001b[0m\n\u001b[0m\u001b[1;32m    190\u001b[0m         \u001b[0;32mif\u001b[0m \u001b[0mexisting_tables\u001b[0m\u001b[0;34m:\u001b[0m\u001b[0;34m\u001b[0m\u001b[0m\n\u001b[1;32m    191\u001b[0m             \u001b[0;31m# Get number of existing chains\u001b[0m\u001b[0;34m\u001b[0m\u001b[0;34m\u001b[0m\u001b[0m\n",
      "\u001b[0;32m~/anaconda/envs/hddm/lib/python3.5/site-packages/pymc/database/sqlite.py\u001b[0m in \u001b[0;36mget_table_list\u001b[0;34m(cursor)\u001b[0m\n\u001b[1;32m    264\u001b[0m         \u001b[0mSELECT\u001b[0m \u001b[0mname\u001b[0m \u001b[0mFROM\u001b[0m \u001b[0msqlite_master\u001b[0m\u001b[0;34m\u001b[0m\u001b[0m\n\u001b[1;32m    265\u001b[0m         \u001b[0mWHERE\u001b[0m \u001b[0mtype\u001b[0m\u001b[0;34m=\u001b[0m\u001b[0;34m'table'\u001b[0m \u001b[0mAND\u001b[0m \u001b[0mNOT\u001b[0m \u001b[0mname\u001b[0m\u001b[0;34m=\u001b[0m\u001b[0;34m'sqlite_sequence'\u001b[0m\u001b[0;34m\u001b[0m\u001b[0m\n\u001b[0;32m--> 266\u001b[0;31m         ORDER BY name\"\"\")\n\u001b[0m\u001b[1;32m    267\u001b[0m     \u001b[0;32mreturn\u001b[0m \u001b[0;34m[\u001b[0m\u001b[0mrow\u001b[0m\u001b[0;34m[\u001b[0m\u001b[0;36m0\u001b[0m\u001b[0;34m]\u001b[0m \u001b[0;32mfor\u001b[0m \u001b[0mrow\u001b[0m \u001b[0;32min\u001b[0m \u001b[0mcursor\u001b[0m\u001b[0;34m.\u001b[0m\u001b[0mfetchall\u001b[0m\u001b[0;34m(\u001b[0m\u001b[0;34m)\u001b[0m\u001b[0;34m]\u001b[0m\u001b[0;34m\u001b[0m\u001b[0m\n\u001b[1;32m    268\u001b[0m \u001b[0;34m\u001b[0m\u001b[0m\n",
      "\u001b[0;31mDatabaseError\u001b[0m: file is not a database"
     ]
    }
   ],
   "source": [
    "v_within_subj.load_db('ex_a_reg') "
   ]
  },
  {
   "cell_type": "code",
   "execution_count": null,
   "metadata": {},
   "outputs": [],
   "source": []
  }
 ],
 "metadata": {
  "kernelspec": {
   "display_name": "hddm",
   "language": "python",
   "name": "hddm"
  },
  "language_info": {
   "codemirror_mode": {
    "name": "ipython",
    "version": 3
   },
   "file_extension": ".py",
   "mimetype": "text/x-python",
   "name": "python",
   "nbconvert_exporter": "python",
   "pygments_lexer": "ipython3",
   "version": "3.5.5"
  }
 },
 "nbformat": 4,
 "nbformat_minor": 2
}
