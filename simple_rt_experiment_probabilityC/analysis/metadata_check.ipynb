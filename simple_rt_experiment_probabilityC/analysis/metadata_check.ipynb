{
 "cells": [
  {
   "cell_type": "code",
   "execution_count": 6,
   "metadata": {},
   "outputs": [
    {
     "name": "stderr",
     "output_type": "stream",
     "text": [
      "Loading tidyverse: ggplot2\n",
      "Loading tidyverse: tibble\n",
      "Loading tidyverse: tidyr\n",
      "Loading tidyverse: readr\n",
      "Loading tidyverse: purrr\n",
      "Loading tidyverse: dplyr\n",
      "Conflicts with tidy packages ---------------------------------------------------\n",
      "filter(): dplyr, stats\n",
      "lag():    dplyr, stats\n"
     ]
    }
   ],
   "source": [
    "library(tidyverse)\n",
    "library(readr)\n",
    "library(ggplot2)"
   ]
  },
  {
   "cell_type": "code",
   "execution_count": 7,
   "metadata": {
    "collapsed": true
   },
   "outputs": [],
   "source": [
    "# data_path <- '/Users/Krista/Dropbox/volatileValues/simple_rt_experiment_probabilityC/data/'\n",
    "# setwd(data_path)"
   ]
  },
  {
   "cell_type": "code",
   "execution_count": 20,
   "metadata": {
    "collapsed": true
   },
   "outputs": [],
   "source": [
    "linux_data_path <- '/home/krista/Documents/gitRepositories/volatileValues/simple_rt_experiment_probabilityC/data/'\n",
    "setwd(linux_data_path)"
   ]
  },
  {
   "cell_type": "code",
   "execution_count": 21,
   "metadata": {},
   "outputs": [
    {
     "data": {
      "text/html": [
       "<ol class=list-inline>\n",
       "\t<li>'0761_cond0_trialset0_runInfo.csv'</li>\n",
       "\t<li>'0761_cond1_trialset0_runInfo.csv'</li>\n",
       "\t<li>'0761_cond2_trialset0_runInfo.csv'</li>\n",
       "\t<li>'0761_cond3_trialset0_runInfo.csv'</li>\n",
       "\t<li>'0762_cond0_trialset1_runInfo.csv'</li>\n",
       "\t<li>'0762_cond1_trialset1_runInfo.csv'</li>\n",
       "\t<li>'0762_cond2_trialset1_runInfo.csv'</li>\n",
       "\t<li>'0762_cond3_trialset1_runInfo.csv'</li>\n",
       "\t<li>'0763_cond0_trialset2_runInfo.csv'</li>\n",
       "\t<li>'0763_cond1_trialset2_runInfo.csv'</li>\n",
       "\t<li>'0763_cond2_trialset2_runInfo.csv'</li>\n",
       "\t<li>'0763_cond3_trialset2_runInfo.csv'</li>\n",
       "\t<li>'0764_cond0_trialset3_runInfo.csv'</li>\n",
       "\t<li>'0764_cond1_trialset3_runInfo.csv'</li>\n",
       "\t<li>'0764_cond2_trialset3_runInfo.csv'</li>\n",
       "\t<li>'0764_cond3_trialset3_runInfo.csv'</li>\n",
       "\t<li>'0765_cond0_trialset4_runInfo.csv'</li>\n",
       "\t<li>'0765_cond1_trialset4_runInfo.csv'</li>\n",
       "\t<li>'0765_cond2_trialset4_runInfo.csv'</li>\n",
       "\t<li>'0765_cond3_trialset4_runInfo.csv'</li>\n",
       "\t<li>'0766_cond0_trialset5_runInfo.csv'</li>\n",
       "\t<li>'0766_cond1_trialset5_runInfo.csv'</li>\n",
       "\t<li>'0766_cond2_trialset5_runInfo.csv'</li>\n",
       "\t<li>'0766_cond3_trialset5_runInfo.csv'</li>\n",
       "</ol>\n"
      ],
      "text/latex": [
       "\\begin{enumerate*}\n",
       "\\item '0761\\_cond0\\_trialset0\\_runInfo.csv'\n",
       "\\item '0761\\_cond1\\_trialset0\\_runInfo.csv'\n",
       "\\item '0761\\_cond2\\_trialset0\\_runInfo.csv'\n",
       "\\item '0761\\_cond3\\_trialset0\\_runInfo.csv'\n",
       "\\item '0762\\_cond0\\_trialset1\\_runInfo.csv'\n",
       "\\item '0762\\_cond1\\_trialset1\\_runInfo.csv'\n",
       "\\item '0762\\_cond2\\_trialset1\\_runInfo.csv'\n",
       "\\item '0762\\_cond3\\_trialset1\\_runInfo.csv'\n",
       "\\item '0763\\_cond0\\_trialset2\\_runInfo.csv'\n",
       "\\item '0763\\_cond1\\_trialset2\\_runInfo.csv'\n",
       "\\item '0763\\_cond2\\_trialset2\\_runInfo.csv'\n",
       "\\item '0763\\_cond3\\_trialset2\\_runInfo.csv'\n",
       "\\item '0764\\_cond0\\_trialset3\\_runInfo.csv'\n",
       "\\item '0764\\_cond1\\_trialset3\\_runInfo.csv'\n",
       "\\item '0764\\_cond2\\_trialset3\\_runInfo.csv'\n",
       "\\item '0764\\_cond3\\_trialset3\\_runInfo.csv'\n",
       "\\item '0765\\_cond0\\_trialset4\\_runInfo.csv'\n",
       "\\item '0765\\_cond1\\_trialset4\\_runInfo.csv'\n",
       "\\item '0765\\_cond2\\_trialset4\\_runInfo.csv'\n",
       "\\item '0765\\_cond3\\_trialset4\\_runInfo.csv'\n",
       "\\item '0766\\_cond0\\_trialset5\\_runInfo.csv'\n",
       "\\item '0766\\_cond1\\_trialset5\\_runInfo.csv'\n",
       "\\item '0766\\_cond2\\_trialset5\\_runInfo.csv'\n",
       "\\item '0766\\_cond3\\_trialset5\\_runInfo.csv'\n",
       "\\end{enumerate*}\n"
      ],
      "text/markdown": [
       "1. '0761_cond0_trialset0_runInfo.csv'\n",
       "2. '0761_cond1_trialset0_runInfo.csv'\n",
       "3. '0761_cond2_trialset0_runInfo.csv'\n",
       "4. '0761_cond3_trialset0_runInfo.csv'\n",
       "5. '0762_cond0_trialset1_runInfo.csv'\n",
       "6. '0762_cond1_trialset1_runInfo.csv'\n",
       "7. '0762_cond2_trialset1_runInfo.csv'\n",
       "8. '0762_cond3_trialset1_runInfo.csv'\n",
       "9. '0763_cond0_trialset2_runInfo.csv'\n",
       "10. '0763_cond1_trialset2_runInfo.csv'\n",
       "11. '0763_cond2_trialset2_runInfo.csv'\n",
       "12. '0763_cond3_trialset2_runInfo.csv'\n",
       "13. '0764_cond0_trialset3_runInfo.csv'\n",
       "14. '0764_cond1_trialset3_runInfo.csv'\n",
       "15. '0764_cond2_trialset3_runInfo.csv'\n",
       "16. '0764_cond3_trialset3_runInfo.csv'\n",
       "17. '0765_cond0_trialset4_runInfo.csv'\n",
       "18. '0765_cond1_trialset4_runInfo.csv'\n",
       "19. '0765_cond2_trialset4_runInfo.csv'\n",
       "20. '0765_cond3_trialset4_runInfo.csv'\n",
       "21. '0766_cond0_trialset5_runInfo.csv'\n",
       "22. '0766_cond1_trialset5_runInfo.csv'\n",
       "23. '0766_cond2_trialset5_runInfo.csv'\n",
       "24. '0766_cond3_trialset5_runInfo.csv'\n",
       "\n",
       "\n"
      ],
      "text/plain": [
       " [1] \"0761_cond0_trialset0_runInfo.csv\" \"0761_cond1_trialset0_runInfo.csv\"\n",
       " [3] \"0761_cond2_trialset0_runInfo.csv\" \"0761_cond3_trialset0_runInfo.csv\"\n",
       " [5] \"0762_cond0_trialset1_runInfo.csv\" \"0762_cond1_trialset1_runInfo.csv\"\n",
       " [7] \"0762_cond2_trialset1_runInfo.csv\" \"0762_cond3_trialset1_runInfo.csv\"\n",
       " [9] \"0763_cond0_trialset2_runInfo.csv\" \"0763_cond1_trialset2_runInfo.csv\"\n",
       "[11] \"0763_cond2_trialset2_runInfo.csv\" \"0763_cond3_trialset2_runInfo.csv\"\n",
       "[13] \"0764_cond0_trialset3_runInfo.csv\" \"0764_cond1_trialset3_runInfo.csv\"\n",
       "[15] \"0764_cond2_trialset3_runInfo.csv\" \"0764_cond3_trialset3_runInfo.csv\"\n",
       "[17] \"0765_cond0_trialset4_runInfo.csv\" \"0765_cond1_trialset4_runInfo.csv\"\n",
       "[19] \"0765_cond2_trialset4_runInfo.csv\" \"0765_cond3_trialset4_runInfo.csv\"\n",
       "[21] \"0766_cond0_trialset5_runInfo.csv\" \"0766_cond1_trialset5_runInfo.csv\"\n",
       "[23] \"0766_cond2_trialset5_runInfo.csv\" \"0766_cond3_trialset5_runInfo.csv\""
      ]
     },
     "metadata": {},
     "output_type": "display_data"
    }
   ],
   "source": [
    "(files <- dir(path = linux_data_path, pattern = \"^[0-9](.*)(_runInfo.csv)$\"))"
   ]
  },
  {
   "cell_type": "code",
   "execution_count": 22,
   "metadata": {
    "collapsed": true
   },
   "outputs": [],
   "source": [
    "metadata <- files %>%\n",
    "  map(read_csv,col_types = cols()) %>%                  \n",
    "  reduce(rbind)      "
   ]
  },
  {
   "cell_type": "code",
   "execution_count": 51,
   "metadata": {},
   "outputs": [
    {
     "data": {
      "text/html": [
       "<ol>\n",
       "\t<li>'0'</li>\n",
       "\t<li>'1'</li>\n",
       "\t<li>'2'</li>\n",
       "\t<li>'3'</li>\n",
       "\t<li>'0'</li>\n",
       "\t<li>'1'</li>\n",
       "\t<li>'2'</li>\n",
       "\t<li>'3'</li>\n",
       "\t<li>'0'</li>\n",
       "\t<li>'1'</li>\n",
       "\t<li>'2'</li>\n",
       "\t<li>'3'</li>\n",
       "\t<li>'0'</li>\n",
       "\t<li>'1'</li>\n",
       "\t<li>'2'</li>\n",
       "\t<li>'3'</li>\n",
       "\t<li>'0'</li>\n",
       "\t<li>'1'</li>\n",
       "\t<li>'2'</li>\n",
       "\t<li>'3'</li>\n",
       "\t<li>'0'</li>\n",
       "\t<li>'1'</li>\n",
       "\t<li>'2'</li>\n",
       "\t<li>'3'</li>\n",
       "</ol>\n"
      ],
      "text/latex": [
       "\\begin{enumerate}\n",
       "\\item '0'\n",
       "\\item '1'\n",
       "\\item '2'\n",
       "\\item '3'\n",
       "\\item '0'\n",
       "\\item '1'\n",
       "\\item '2'\n",
       "\\item '3'\n",
       "\\item '0'\n",
       "\\item '1'\n",
       "\\item '2'\n",
       "\\item '3'\n",
       "\\item '0'\n",
       "\\item '1'\n",
       "\\item '2'\n",
       "\\item '3'\n",
       "\\item '0'\n",
       "\\item '1'\n",
       "\\item '2'\n",
       "\\item '3'\n",
       "\\item '0'\n",
       "\\item '1'\n",
       "\\item '2'\n",
       "\\item '3'\n",
       "\\end{enumerate}\n"
      ],
      "text/markdown": [
       "1. '0'\n",
       "2. '1'\n",
       "3. '2'\n",
       "4. '3'\n",
       "5. '0'\n",
       "6. '1'\n",
       "7. '2'\n",
       "8. '3'\n",
       "9. '0'\n",
       "10. '1'\n",
       "11. '2'\n",
       "12. '3'\n",
       "13. '0'\n",
       "14. '1'\n",
       "15. '2'\n",
       "16. '3'\n",
       "17. '0'\n",
       "18. '1'\n",
       "19. '2'\n",
       "20. '3'\n",
       "21. '0'\n",
       "22. '1'\n",
       "23. '2'\n",
       "24. '3'\n",
       "\n",
       "\n"
      ],
      "text/plain": [
       "[[1]]\n",
       "[1] \"0\"\n",
       "\n",
       "[[2]]\n",
       "[1] \"1\"\n",
       "\n",
       "[[3]]\n",
       "[1] \"2\"\n",
       "\n",
       "[[4]]\n",
       "[1] \"3\"\n",
       "\n",
       "[[5]]\n",
       "[1] \"0\"\n",
       "\n",
       "[[6]]\n",
       "[1] \"1\"\n",
       "\n",
       "[[7]]\n",
       "[1] \"2\"\n",
       "\n",
       "[[8]]\n",
       "[1] \"3\"\n",
       "\n",
       "[[9]]\n",
       "[1] \"0\"\n",
       "\n",
       "[[10]]\n",
       "[1] \"1\"\n",
       "\n",
       "[[11]]\n",
       "[1] \"2\"\n",
       "\n",
       "[[12]]\n",
       "[1] \"3\"\n",
       "\n",
       "[[13]]\n",
       "[1] \"0\"\n",
       "\n",
       "[[14]]\n",
       "[1] \"1\"\n",
       "\n",
       "[[15]]\n",
       "[1] \"2\"\n",
       "\n",
       "[[16]]\n",
       "[1] \"3\"\n",
       "\n",
       "[[17]]\n",
       "[1] \"0\"\n",
       "\n",
       "[[18]]\n",
       "[1] \"1\"\n",
       "\n",
       "[[19]]\n",
       "[1] \"2\"\n",
       "\n",
       "[[20]]\n",
       "[1] \"3\"\n",
       "\n",
       "[[21]]\n",
       "[1] \"0\"\n",
       "\n",
       "[[22]]\n",
       "[1] \"1\"\n",
       "\n",
       "[[23]]\n",
       "[1] \"2\"\n",
       "\n",
       "[[24]]\n",
       "[1] \"3\"\n"
      ]
     },
     "metadata": {},
     "output_type": "display_data"
    }
   ],
   "source": [
    "(condition = map(files, substr, start=10, stop=10))\n",
    "metadata$condition = as.numeric(condition)"
   ]
  },
  {
   "cell_type": "code",
   "execution_count": 39,
   "metadata": {},
   "outputs": [
    {
     "data": {
      "text/html": [
       "<ol>\n",
       "\t<li>'0761'</li>\n",
       "\t<li>'0761'</li>\n",
       "\t<li>'0761'</li>\n",
       "\t<li>'0761'</li>\n",
       "\t<li>'0762'</li>\n",
       "\t<li>'0762'</li>\n",
       "\t<li>'0762'</li>\n",
       "\t<li>'0762'</li>\n",
       "\t<li>'0763'</li>\n",
       "\t<li>'0763'</li>\n",
       "\t<li>'0763'</li>\n",
       "\t<li>'0763'</li>\n",
       "\t<li>'0764'</li>\n",
       "\t<li>'0764'</li>\n",
       "\t<li>'0764'</li>\n",
       "\t<li>'0764'</li>\n",
       "\t<li>'0765'</li>\n",
       "\t<li>'0765'</li>\n",
       "\t<li>'0765'</li>\n",
       "\t<li>'0765'</li>\n",
       "\t<li>'0766'</li>\n",
       "\t<li>'0766'</li>\n",
       "\t<li>'0766'</li>\n",
       "\t<li>'0766'</li>\n",
       "</ol>\n"
      ],
      "text/latex": [
       "\\begin{enumerate}\n",
       "\\item '0761'\n",
       "\\item '0761'\n",
       "\\item '0761'\n",
       "\\item '0761'\n",
       "\\item '0762'\n",
       "\\item '0762'\n",
       "\\item '0762'\n",
       "\\item '0762'\n",
       "\\item '0763'\n",
       "\\item '0763'\n",
       "\\item '0763'\n",
       "\\item '0763'\n",
       "\\item '0764'\n",
       "\\item '0764'\n",
       "\\item '0764'\n",
       "\\item '0764'\n",
       "\\item '0765'\n",
       "\\item '0765'\n",
       "\\item '0765'\n",
       "\\item '0765'\n",
       "\\item '0766'\n",
       "\\item '0766'\n",
       "\\item '0766'\n",
       "\\item '0766'\n",
       "\\end{enumerate}\n"
      ],
      "text/markdown": [
       "1. '0761'\n",
       "2. '0761'\n",
       "3. '0761'\n",
       "4. '0761'\n",
       "5. '0762'\n",
       "6. '0762'\n",
       "7. '0762'\n",
       "8. '0762'\n",
       "9. '0763'\n",
       "10. '0763'\n",
       "11. '0763'\n",
       "12. '0763'\n",
       "13. '0764'\n",
       "14. '0764'\n",
       "15. '0764'\n",
       "16. '0764'\n",
       "17. '0765'\n",
       "18. '0765'\n",
       "19. '0765'\n",
       "20. '0765'\n",
       "21. '0766'\n",
       "22. '0766'\n",
       "23. '0766'\n",
       "24. '0766'\n",
       "\n",
       "\n"
      ],
      "text/plain": [
       "[[1]]\n",
       "[1] \"0761\"\n",
       "\n",
       "[[2]]\n",
       "[1] \"0761\"\n",
       "\n",
       "[[3]]\n",
       "[1] \"0761\"\n",
       "\n",
       "[[4]]\n",
       "[1] \"0761\"\n",
       "\n",
       "[[5]]\n",
       "[1] \"0762\"\n",
       "\n",
       "[[6]]\n",
       "[1] \"0762\"\n",
       "\n",
       "[[7]]\n",
       "[1] \"0762\"\n",
       "\n",
       "[[8]]\n",
       "[1] \"0762\"\n",
       "\n",
       "[[9]]\n",
       "[1] \"0763\"\n",
       "\n",
       "[[10]]\n",
       "[1] \"0763\"\n",
       "\n",
       "[[11]]\n",
       "[1] \"0763\"\n",
       "\n",
       "[[12]]\n",
       "[1] \"0763\"\n",
       "\n",
       "[[13]]\n",
       "[1] \"0764\"\n",
       "\n",
       "[[14]]\n",
       "[1] \"0764\"\n",
       "\n",
       "[[15]]\n",
       "[1] \"0764\"\n",
       "\n",
       "[[16]]\n",
       "[1] \"0764\"\n",
       "\n",
       "[[17]]\n",
       "[1] \"0765\"\n",
       "\n",
       "[[18]]\n",
       "[1] \"0765\"\n",
       "\n",
       "[[19]]\n",
       "[1] \"0765\"\n",
       "\n",
       "[[20]]\n",
       "[1] \"0765\"\n",
       "\n",
       "[[21]]\n",
       "[1] \"0766\"\n",
       "\n",
       "[[22]]\n",
       "[1] \"0766\"\n",
       "\n",
       "[[23]]\n",
       "[1] \"0766\"\n",
       "\n",
       "[[24]]\n",
       "[1] \"0766\"\n"
      ]
     },
     "metadata": {},
     "output_type": "display_data"
    }
   ],
   "source": [
    "(subject_number = map(files, substr, start=1, stop=4))\n",
    "metadata$subject_number = as.numeric(subject_number)"
   ]
  },
  {
   "cell_type": "code",
   "execution_count": 52,
   "metadata": {},
   "outputs": [
    {
     "data": {
      "text/html": [
       "<ol class=list-inline>\n",
       "\t<li>24</li>\n",
       "\t<li>18</li>\n",
       "</ol>\n"
      ],
      "text/latex": [
       "\\begin{enumerate*}\n",
       "\\item 24\n",
       "\\item 18\n",
       "\\end{enumerate*}\n"
      ],
      "text/markdown": [
       "1. 24\n",
       "2. 18\n",
       "\n",
       "\n"
      ],
      "text/plain": [
       "[1] 24 18"
      ]
     },
     "metadata": {},
     "output_type": "display_data"
    },
    {
     "data": {
      "text/html": [
       "<table>\n",
       "<thead><tr><th scope=col>psychopy_version</th><th scope=col>python_version</th><th scope=col>pythonScipyVersion</th><th scope=col>pyglet_version</th><th scope=col>pygame_version</th><th scope=col>numpy_version</th><th scope=col>wx_version</th><th scope=col>window_refresh_time_avg_ms</th><th scope=col>begin_time</th><th scope=col>exp_dir</th><th scope=col>last_sys_reboot</th><th scope=col>system_platform</th><th scope=col>internet_access</th><th scope=col>total_exp_time</th><th scope=col>break_time</th><th scope=col>subject_number</th><th scope=col>exp_time_min</th><th scope=col>condition</th></tr></thead>\n",
       "<tbody>\n",
       "\t<tr><td>1.85.2                                                                </td><td>2.7.12                                                                </td><td>0.19.1                                                                </td><td>1.2.4                                                                 </td><td>1.9.3                                                                 </td><td>1.13.1                                                                </td><td>4.0.0b2 gtk3 (phoenix)                                                </td><td>33.33220                                                              </td><td>2018_04_16 15:21 (Year_Month_Day Hour:Min)                            </td><td>/home/coaxlab/Dropbox/volatileValues/simple_rt_experiment_probabilityC</td><td>2018-04-16 15:00:00                                                   </td><td>linux 4.4.0-119-generic                                               </td><td>True                                                                  </td><td>1084.978                                                              </td><td>12.294594                                                             </td><td>761                                                                   </td><td>18.08297                                                              </td><td>0                                                                     </td></tr>\n",
       "\t<tr><td>1.85.2                                                                </td><td>2.7.12                                                                </td><td>0.19.1                                                                </td><td>1.2.4                                                                 </td><td>1.9.3                                                                 </td><td>1.13.1                                                                </td><td>4.0.0b2 gtk3 (phoenix)                                                </td><td>33.33303                                                              </td><td>2018_04_15 20:26 (Year_Month_Day Hour:Min)                            </td><td>/home/coaxlab/Dropbox/volatileValues/simple_rt_experiment_probabilityC</td><td>2018-04-15 20:17:00                                                   </td><td>linux 4.4.0-119-generic                                               </td><td>True                                                                  </td><td>1110.367                                                              </td><td> 8.273055                                                             </td><td>761                                                                   </td><td>18.50612                                                              </td><td>1                                                                     </td></tr>\n",
       "</tbody>\n",
       "</table>\n"
      ],
      "text/latex": [
       "\\begin{tabular}{r|llllllllllllllllll}\n",
       " psychopy\\_version & python\\_version & pythonScipyVersion & pyglet\\_version & pygame\\_version & numpy\\_version & wx\\_version & window\\_refresh\\_time\\_avg\\_ms & begin\\_time & exp\\_dir & last\\_sys\\_reboot & system\\_platform & internet\\_access & total\\_exp\\_time & break\\_time & subject\\_number & exp\\_time\\_min & condition\\\\\n",
       "\\hline\n",
       "\t 1.85.2                                                                       & 2.7.12                                                                       & 0.19.1                                                                       & 1.2.4                                                                        & 1.9.3                                                                        & 1.13.1                                                                       & 4.0.0b2 gtk3 (phoenix)                                                       & 33.33220                                                                     & 2018\\_04\\_16 15:21 (Year\\_Month\\_Day Hour:Min)                           & /home/coaxlab/Dropbox/volatileValues/simple\\_rt\\_experiment\\_probabilityC & 2018-04-16 15:00:00                                                          & linux 4.4.0-119-generic                                                      & True                                                                         & 1084.978                                                                     & 12.294594                                                                    & 761                                                                          & 18.08297                                                                     & 0                                                                           \\\\\n",
       "\t 1.85.2                                                                       & 2.7.12                                                                       & 0.19.1                                                                       & 1.2.4                                                                        & 1.9.3                                                                        & 1.13.1                                                                       & 4.0.0b2 gtk3 (phoenix)                                                       & 33.33303                                                                     & 2018\\_04\\_15 20:26 (Year\\_Month\\_Day Hour:Min)                           & /home/coaxlab/Dropbox/volatileValues/simple\\_rt\\_experiment\\_probabilityC & 2018-04-15 20:17:00                                                          & linux 4.4.0-119-generic                                                      & True                                                                         & 1110.367                                                                     &  8.273055                                                                    & 761                                                                          & 18.50612                                                                     & 1                                                                           \\\\\n",
       "\\end{tabular}\n"
      ],
      "text/markdown": [
       "\n",
       "psychopy_version | python_version | pythonScipyVersion | pyglet_version | pygame_version | numpy_version | wx_version | window_refresh_time_avg_ms | begin_time | exp_dir | last_sys_reboot | system_platform | internet_access | total_exp_time | break_time | subject_number | exp_time_min | condition | \n",
       "|---|---|\n",
       "| 1.85.2                                                                 | 2.7.12                                                                 | 0.19.1                                                                 | 1.2.4                                                                  | 1.9.3                                                                  | 1.13.1                                                                 | 4.0.0b2 gtk3 (phoenix)                                                 | 33.33220                                                               | 2018_04_16 15:21 (Year_Month_Day Hour:Min)                             | /home/coaxlab/Dropbox/volatileValues/simple_rt_experiment_probabilityC | 2018-04-16 15:00:00                                                    | linux 4.4.0-119-generic                                                | True                                                                   | 1084.978                                                               | 12.294594                                                              | 761                                                                    | 18.08297                                                               | 0                                                                      | \n",
       "| 1.85.2                                                                 | 2.7.12                                                                 | 0.19.1                                                                 | 1.2.4                                                                  | 1.9.3                                                                  | 1.13.1                                                                 | 4.0.0b2 gtk3 (phoenix)                                                 | 33.33303                                                               | 2018_04_15 20:26 (Year_Month_Day Hour:Min)                             | /home/coaxlab/Dropbox/volatileValues/simple_rt_experiment_probabilityC | 2018-04-15 20:17:00                                                    | linux 4.4.0-119-generic                                                | True                                                                   | 1110.367                                                               |  8.273055                                                              | 761                                                                    | 18.50612                                                               | 1                                                                      | \n",
       "\n",
       "\n"
      ],
      "text/plain": [
       "  psychopy_version python_version pythonScipyVersion pyglet_version\n",
       "1 1.85.2           2.7.12         0.19.1             1.2.4         \n",
       "2 1.85.2           2.7.12         0.19.1             1.2.4         \n",
       "  pygame_version numpy_version wx_version            \n",
       "1 1.9.3          1.13.1        4.0.0b2 gtk3 (phoenix)\n",
       "2 1.9.3          1.13.1        4.0.0b2 gtk3 (phoenix)\n",
       "  window_refresh_time_avg_ms begin_time                                \n",
       "1 33.33220                   2018_04_16 15:21 (Year_Month_Day Hour:Min)\n",
       "2 33.33303                   2018_04_15 20:26 (Year_Month_Day Hour:Min)\n",
       "  exp_dir                                                               \n",
       "1 /home/coaxlab/Dropbox/volatileValues/simple_rt_experiment_probabilityC\n",
       "2 /home/coaxlab/Dropbox/volatileValues/simple_rt_experiment_probabilityC\n",
       "  last_sys_reboot     system_platform         internet_access total_exp_time\n",
       "1 2018-04-16 15:00:00 linux 4.4.0-119-generic True            1084.978      \n",
       "2 2018-04-15 20:17:00 linux 4.4.0-119-generic True            1110.367      \n",
       "  break_time subject_number exp_time_min condition\n",
       "1 12.294594  761            18.08297     0        \n",
       "2  8.273055  761            18.50612     1        "
      ]
     },
     "metadata": {},
     "output_type": "display_data"
    }
   ],
   "source": [
    "dim(metadata); head(metadata,2)"
   ]
  },
  {
   "cell_type": "code",
   "execution_count": 53,
   "metadata": {},
   "outputs": [
    {
     "data": {
      "text/html": [
       "<table>\n",
       "<thead><tr><th scope=col>psychopy_version</th><th scope=col>python_version</th><th scope=col>pythonScipyVersion</th><th scope=col>pyglet_version</th><th scope=col>pygame_version</th><th scope=col>numpy_version</th><th scope=col>wx_version</th></tr></thead>\n",
       "<tbody>\n",
       "\t<tr><td>1.85.2                </td><td>2.7.12                </td><td>0.19.1                </td><td>1.2.4                 </td><td>1.9.3                 </td><td>1.13.1                </td><td>4.0.0b2 gtk3 (phoenix)</td></tr>\n",
       "</tbody>\n",
       "</table>\n"
      ],
      "text/latex": [
       "\\begin{tabular}{r|lllllll}\n",
       " psychopy\\_version & python\\_version & pythonScipyVersion & pyglet\\_version & pygame\\_version & numpy\\_version & wx\\_version\\\\\n",
       "\\hline\n",
       "\t 1.85.2                 & 2.7.12                 & 0.19.1                 & 1.2.4                  & 1.9.3                  & 1.13.1                 & 4.0.0b2 gtk3 (phoenix)\\\\\n",
       "\\end{tabular}\n"
      ],
      "text/markdown": [
       "\n",
       "psychopy_version | python_version | pythonScipyVersion | pyglet_version | pygame_version | numpy_version | wx_version | \n",
       "|---|\n",
       "| 1.85.2                 | 2.7.12                 | 0.19.1                 | 1.2.4                  | 1.9.3                  | 1.13.1                 | 4.0.0b2 gtk3 (phoenix) | \n",
       "\n",
       "\n"
      ],
      "text/plain": [
       "  psychopy_version python_version pythonScipyVersion pyglet_version\n",
       "1 1.85.2           2.7.12         0.19.1             1.2.4         \n",
       "  pygame_version numpy_version wx_version            \n",
       "1 1.9.3          1.13.1        4.0.0b2 gtk3 (phoenix)"
      ]
     },
     "metadata": {},
     "output_type": "display_data"
    },
    {
     "data": {
      "text/html": [
       "<table>\n",
       "<thead><tr><th scope=col>internet_access</th></tr></thead>\n",
       "<tbody>\n",
       "\t<tr><td>True                         </td></tr>\n",
       "\t<tr><td>False (proxies not attempted)</td></tr>\n",
       "</tbody>\n",
       "</table>\n"
      ],
      "text/latex": [
       "\\begin{tabular}{r|l}\n",
       " internet\\_access\\\\\n",
       "\\hline\n",
       "\t True                         \\\\\n",
       "\t False (proxies not attempted)\\\\\n",
       "\\end{tabular}\n"
      ],
      "text/markdown": [
       "\n",
       "internet_access | \n",
       "|---|---|\n",
       "| True                          | \n",
       "| False (proxies not attempted) | \n",
       "\n",
       "\n"
      ],
      "text/plain": [
       "  internet_access              \n",
       "1 True                         \n",
       "2 False (proxies not attempted)"
      ]
     },
     "metadata": {},
     "output_type": "display_data"
    },
    {
     "data": {
      "text/html": [
       "<table>\n",
       "<thead><tr><th scope=col>exp_dir</th></tr></thead>\n",
       "<tbody>\n",
       "\t<tr><td>/home/coaxlab/Dropbox/volatileValues/simple_rt_experiment_probabilityC</td></tr>\n",
       "</tbody>\n",
       "</table>\n"
      ],
      "text/latex": [
       "\\begin{tabular}{r|l}\n",
       " exp\\_dir\\\\\n",
       "\\hline\n",
       "\t /home/coaxlab/Dropbox/volatileValues/simple\\_rt\\_experiment\\_probabilityC\\\\\n",
       "\\end{tabular}\n"
      ],
      "text/markdown": [
       "\n",
       "exp_dir | \n",
       "|---|\n",
       "| /home/coaxlab/Dropbox/volatileValues/simple_rt_experiment_probabilityC | \n",
       "\n",
       "\n"
      ],
      "text/plain": [
       "  exp_dir                                                               \n",
       "1 /home/coaxlab/Dropbox/volatileValues/simple_rt_experiment_probabilityC"
      ]
     },
     "metadata": {},
     "output_type": "display_data"
    }
   ],
   "source": [
    "unique(metadata[,1:7]); unique(metadata[,13]); unique(metadata[,10])"
   ]
  },
  {
   "cell_type": "code",
   "execution_count": 54,
   "metadata": {
    "collapsed": true
   },
   "outputs": [],
   "source": [
    "metadata$exp_time_min <- metadata$total_exp_time / 60 "
   ]
  },
  {
   "cell_type": "code",
   "execution_count": 55,
   "metadata": {
    "collapsed": true
   },
   "outputs": [],
   "source": [
    "exp_time_plt <- ggplot(metadata, aes(exp_time_min)) + \n",
    "  geom_histogram(alpha=0.2,color='red',fill='red') \n",
    "break_time_plt <- ggplot(metadata, aes(break_time)) + \n",
    "  geom_histogram(alpha=0.2,color='green',fill='green') \n",
    "refresh_time_plt <- ggplot(metadata, aes(window_refresh_time_avg_ms)) + \n",
    "  geom_histogram(alpha=0.2,color='black',fill='black') "
   ]
  },
  {
   "cell_type": "code",
   "execution_count": 59,
   "metadata": {},
   "outputs": [
    {
     "name": "stderr",
     "output_type": "stream",
     "text": [
      "`stat_bin()` using `bins = 30`. Pick better value with `binwidth`.\n"
     ]
    },
    {
     "data": {},
     "metadata": {},
     "output_type": "display_data"
    },
    {
     "data": {
      "image/png": "[encoded data removed]",
      "text/plain": [
       "plot without title"
      ]
     },
     "metadata": {},
     "output_type": "display_data"
    }
   ],
   "source": [
    "exp_time_plt + labs(x = \"total time per condition (m)\") + facet_grid( . ~ condition)"
   ]
  },
  {
   "cell_type": "code",
   "execution_count": 60,
   "metadata": {},
   "outputs": [
    {
     "name": "stderr",
     "output_type": "stream",
     "text": [
      "`stat_bin()` using `bins = 30`. Pick better value with `binwidth`.\n"
     ]
    },
    {
     "data": {},
     "metadata": {},
     "output_type": "display_data"
    },
    {
     "data": {
      "image/png": "[encoded data removed]",
      "text/plain": [
       "plot without title"
      ]
     },
     "metadata": {},
     "output_type": "display_data"
    }
   ],
   "source": [
    "break_time_plt + labs(x = \"break time per condition (s)\")+ facet_grid( .~ condition)"
   ]
  },
  {
   "cell_type": "code",
   "execution_count": 61,
   "metadata": {},
   "outputs": [
    {
     "name": "stderr",
     "output_type": "stream",
     "text": [
      "`stat_bin()` using `bins = 30`. Pick better value with `binwidth`.\n"
     ]
    },
    {
     "data": {},
     "metadata": {},
     "output_type": "display_data"
    },
    {
     "data": {
      "image/png": "[encoded data removed]",
      "text/plain": [
       "plot without title"
      ]
     },
     "metadata": {},
     "output_type": "display_data"
    }
   ],
   "source": [
    "refresh_time_plt + labs(x = \"average window refresh time per condition (s)\") + facet_grid(.~condition)"
   ]
  }
 ],
 "metadata": {
  "kernelspec": {
   "display_name": "R",
   "language": "R",
   "name": "ir"
  },
  "language_info": {
   "codemirror_mode": "r",
   "file_extension": ".r",
   "mimetype": "text/x-r-source",
   "name": "R",
   "pygments_lexer": "r",
   "version": "3.4.1"
  }
 },
 "nbformat": 4,
 "nbformat_minor": 2
}
