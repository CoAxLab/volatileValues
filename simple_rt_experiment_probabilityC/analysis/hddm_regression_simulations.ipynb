{
 "cells": [
  {
   "cell_type": "code",
   "execution_count": 1,
   "metadata": {},
   "outputs": [
    {
     "name": "stderr",
     "output_type": "stream",
     "text": [
      "/Users/Krista/anaconda/envs/hddm/lib/python3.5/site-packages/IPython/parallel.py:13: ShimWarning: The `IPython.parallel` package has been deprecated since IPython 4.0. You should import from ipyparallel instead.\n",
      "  \"You should import from ipyparallel instead.\", ShimWarning)\n"
     ]
    }
   ],
   "source": [
    "import pandas as pd \n",
    "import matplotlib.pyplot as plt \n",
    "import hddm \n",
    "from patsy import dmatrix \n",
    "import numpy as np\n",
    "# print(hddm.__version__)\n",
    "\n",
    "%matplotlib inline\n",
    "plt.rcParams['figure.figsize'] = 30, 10"
   ]
  },
  {
   "cell_type": "markdown",
   "metadata": {},
   "source": [
    "## Pre-processing"
   ]
  },
  {
   "cell_type": "code",
   "execution_count": 2,
   "metadata": {},
   "outputs": [
    {
     "name": "stdout",
     "output_type": "stream",
     "text": [
      "/Users/Krista/Dropbox/volatileValues/simple_rt_experiment_probabilityC/analysis\r\n"
     ]
    }
   ],
   "source": [
    "!pwd"
   ]
  },
  {
   "cell_type": "code",
   "execution_count": 3,
   "metadata": {},
   "outputs": [],
   "source": [
    "all_sim_data = hddm.load_csv('aggregated_data/probC_sim_data.csv')"
   ]
  },
  {
   "cell_type": "code",
   "execution_count": 4,
   "metadata": {},
   "outputs": [
    {
     "data": {
      "text/html": [
       "<div>\n",
       "<style scoped>\n",
       "    .dataframe tbody tr th:only-of-type {\n",
       "        vertical-align: middle;\n",
       "    }\n",
       "\n",
       "    .dataframe tbody tr th {\n",
       "        vertical-align: top;\n",
       "    }\n",
       "\n",
       "    .dataframe thead th {\n",
       "        text-align: right;\n",
       "    }\n",
       "</style>\n",
       "<table border=\"1\" class=\"dataframe\">\n",
       "  <thead>\n",
       "    <tr style=\"text-align: right;\">\n",
       "      <th></th>\n",
       "      <th>rt</th>\n",
       "      <th>response</th>\n",
       "      <th>gen_drift</th>\n",
       "      <th>gen_bound</th>\n",
       "      <th>subj_idx</th>\n",
       "      <th>cond</th>\n",
       "    </tr>\n",
       "  </thead>\n",
       "  <tbody>\n",
       "    <tr>\n",
       "      <th>0</th>\n",
       "      <td>0.402</td>\n",
       "      <td>1</td>\n",
       "      <td>0.010972</td>\n",
       "      <td>0.437844</td>\n",
       "      <td>0</td>\n",
       "      <td>lc</td>\n",
       "    </tr>\n",
       "    <tr>\n",
       "      <th>1</th>\n",
       "      <td>0.700</td>\n",
       "      <td>0</td>\n",
       "      <td>0.010972</td>\n",
       "      <td>1.130616</td>\n",
       "      <td>0</td>\n",
       "      <td>lc</td>\n",
       "    </tr>\n",
       "    <tr>\n",
       "      <th>2</th>\n",
       "      <td>0.700</td>\n",
       "      <td>0</td>\n",
       "      <td>0.010972</td>\n",
       "      <td>0.577709</td>\n",
       "      <td>0</td>\n",
       "      <td>lc</td>\n",
       "    </tr>\n",
       "    <tr>\n",
       "      <th>3</th>\n",
       "      <td>0.272</td>\n",
       "      <td>1</td>\n",
       "      <td>1.000000</td>\n",
       "      <td>0.566803</td>\n",
       "      <td>0</td>\n",
       "      <td>lc</td>\n",
       "    </tr>\n",
       "    <tr>\n",
       "      <th>4</th>\n",
       "      <td>0.432</td>\n",
       "      <td>0</td>\n",
       "      <td>1.000000</td>\n",
       "      <td>0.728452</td>\n",
       "      <td>0</td>\n",
       "      <td>lc</td>\n",
       "    </tr>\n",
       "    <tr>\n",
       "      <th>5</th>\n",
       "      <td>0.642</td>\n",
       "      <td>1</td>\n",
       "      <td>1.000000</td>\n",
       "      <td>0.935573</td>\n",
       "      <td>0</td>\n",
       "      <td>lc</td>\n",
       "    </tr>\n",
       "    <tr>\n",
       "      <th>6</th>\n",
       "      <td>0.342</td>\n",
       "      <td>1</td>\n",
       "      <td>1.000000</td>\n",
       "      <td>0.631435</td>\n",
       "      <td>0</td>\n",
       "      <td>lc</td>\n",
       "    </tr>\n",
       "    <tr>\n",
       "      <th>7</th>\n",
       "      <td>0.272</td>\n",
       "      <td>1</td>\n",
       "      <td>1.000000</td>\n",
       "      <td>0.566420</td>\n",
       "      <td>0</td>\n",
       "      <td>lc</td>\n",
       "    </tr>\n",
       "    <tr>\n",
       "      <th>8</th>\n",
       "      <td>0.272</td>\n",
       "      <td>1</td>\n",
       "      <td>1.000000</td>\n",
       "      <td>0.565895</td>\n",
       "      <td>0</td>\n",
       "      <td>lc</td>\n",
       "    </tr>\n",
       "    <tr>\n",
       "      <th>9</th>\n",
       "      <td>0.272</td>\n",
       "      <td>1</td>\n",
       "      <td>1.000000</td>\n",
       "      <td>0.568015</td>\n",
       "      <td>0</td>\n",
       "      <td>lc</td>\n",
       "    </tr>\n",
       "  </tbody>\n",
       "</table>\n",
       "</div>"
      ],
      "text/plain": [
       "      rt   response   gen_drift   gen_bound   subj_idx  cond\n",
       "0  0.402          1    0.010972    0.437844          0    lc\n",
       "1  0.700          0    0.010972    1.130616          0    lc\n",
       "2  0.700          0    0.010972    0.577709          0    lc\n",
       "3  0.272          1    1.000000    0.566803          0    lc\n",
       "4  0.432          0    1.000000    0.728452          0    lc\n",
       "5  0.642          1    1.000000    0.935573          0    lc\n",
       "6  0.342          1    1.000000    0.631435          0    lc\n",
       "7  0.272          1    1.000000    0.566420          0    lc\n",
       "8  0.272          1    1.000000    0.565895          0    lc\n",
       "9  0.272          1    1.000000    0.568015          0    lc"
      ]
     },
     "execution_count": 4,
     "metadata": {},
     "output_type": "execute_result"
    }
   ],
   "source": [
    "all_sim_data.head(10)"
   ]
  },
  {
   "cell_type": "code",
   "execution_count": 5,
   "metadata": {},
   "outputs": [],
   "source": [
    "all_sim_data.columns = all_sim_data.columns.str.strip()\n",
    "all_sim_data.head()\n",
    "data = all_sim_data[['response', 'rt', 'cond', 'subj_idx']] \n",
    "data = data.rename(index=str, columns={\"cond\": \"stim\"})"
   ]
  },
  {
   "cell_type": "code",
   "execution_count": 6,
   "metadata": {},
   "outputs": [
    {
     "data": {
      "text/html": [
       "<div>\n",
       "<style scoped>\n",
       "    .dataframe tbody tr th:only-of-type {\n",
       "        vertical-align: middle;\n",
       "    }\n",
       "\n",
       "    .dataframe tbody tr th {\n",
       "        vertical-align: top;\n",
       "    }\n",
       "\n",
       "    .dataframe thead th {\n",
       "        text-align: right;\n",
       "    }\n",
       "</style>\n",
       "<table border=\"1\" class=\"dataframe\">\n",
       "  <thead>\n",
       "    <tr style=\"text-align: right;\">\n",
       "      <th></th>\n",
       "      <th>response</th>\n",
       "      <th>rt</th>\n",
       "      <th>stim</th>\n",
       "      <th>subj_idx</th>\n",
       "    </tr>\n",
       "  </thead>\n",
       "  <tbody>\n",
       "    <tr>\n",
       "      <th>0</th>\n",
       "      <td>1</td>\n",
       "      <td>0.402</td>\n",
       "      <td>lc</td>\n",
       "      <td>0</td>\n",
       "    </tr>\n",
       "    <tr>\n",
       "      <th>1</th>\n",
       "      <td>0</td>\n",
       "      <td>0.700</td>\n",
       "      <td>lc</td>\n",
       "      <td>0</td>\n",
       "    </tr>\n",
       "    <tr>\n",
       "      <th>2</th>\n",
       "      <td>0</td>\n",
       "      <td>0.700</td>\n",
       "      <td>lc</td>\n",
       "      <td>0</td>\n",
       "    </tr>\n",
       "    <tr>\n",
       "      <th>3</th>\n",
       "      <td>1</td>\n",
       "      <td>0.272</td>\n",
       "      <td>lc</td>\n",
       "      <td>0</td>\n",
       "    </tr>\n",
       "    <tr>\n",
       "      <th>4</th>\n",
       "      <td>0</td>\n",
       "      <td>0.432</td>\n",
       "      <td>lc</td>\n",
       "      <td>0</td>\n",
       "    </tr>\n",
       "  </tbody>\n",
       "</table>\n",
       "</div>"
      ],
      "text/plain": [
       "   response     rt stim  subj_idx\n",
       "0         1  0.402   lc         0\n",
       "1         0  0.700   lc         0\n",
       "2         0  0.700   lc         0\n",
       "3         1  0.272   lc         0\n",
       "4         0  0.432   lc         0"
      ]
     },
     "execution_count": 6,
     "metadata": {},
     "output_type": "execute_result"
    }
   ],
   "source": [
    "data.columns = data.columns.str.strip()\n",
    "data['stim'] = data['stim'].str.strip()\n",
    "data.head()"
   ]
  },
  {
   "cell_type": "code",
   "execution_count": 7,
   "metadata": {},
   "outputs": [],
   "source": [
    "data = hddm.utils.flip_errors(data)"
   ]
  },
  {
   "cell_type": "code",
   "execution_count": 8,
   "metadata": {},
   "outputs": [
    {
     "data": {
      "image/png": "[encoded data removed]",
      "text/plain": [
       "<Figure size 432x288 with 1 Axes>"
      ]
     },
     "metadata": {},
     "output_type": "display_data"
    }
   ],
   "source": [
    "fig = plt.figure()\n",
    "ax = fig.add_subplot(111, xlabel='RT', ylabel='count', title='RT distributions')\n",
    "for i, subj_data in data.groupby('subj_idx'):\n",
    "    subj_data.rt.hist(bins=20, histtype='step', ax=ax)"
   ]
  },
  {
   "cell_type": "code",
   "execution_count": 9,
   "metadata": {},
   "outputs": [
    {
     "data": {
      "text/html": [
       "<div>\n",
       "<style scoped>\n",
       "    .dataframe tbody tr th:only-of-type {\n",
       "        vertical-align: middle;\n",
       "    }\n",
       "\n",
       "    .dataframe tbody tr th {\n",
       "        vertical-align: top;\n",
       "    }\n",
       "\n",
       "    .dataframe thead th {\n",
       "        text-align: right;\n",
       "    }\n",
       "</style>\n",
       "<table border=\"1\" class=\"dataframe\">\n",
       "  <thead>\n",
       "    <tr style=\"text-align: right;\">\n",
       "      <th></th>\n",
       "      <th>response</th>\n",
       "      <th>rt</th>\n",
       "      <th>stim</th>\n",
       "      <th>subj_idx</th>\n",
       "    </tr>\n",
       "  </thead>\n",
       "  <tbody>\n",
       "    <tr>\n",
       "      <th>60000</th>\n",
       "      <td>1</td>\n",
       "      <td>0.402</td>\n",
       "      <td>lv</td>\n",
       "      <td>0</td>\n",
       "    </tr>\n",
       "    <tr>\n",
       "      <th>60001</th>\n",
       "      <td>0</td>\n",
       "      <td>-0.700</td>\n",
       "      <td>lv</td>\n",
       "      <td>0</td>\n",
       "    </tr>\n",
       "    <tr>\n",
       "      <th>60002</th>\n",
       "      <td>1</td>\n",
       "      <td>0.700</td>\n",
       "      <td>lv</td>\n",
       "      <td>0</td>\n",
       "    </tr>\n",
       "    <tr>\n",
       "      <th>60003</th>\n",
       "      <td>0</td>\n",
       "      <td>-0.700</td>\n",
       "      <td>lv</td>\n",
       "      <td>0</td>\n",
       "    </tr>\n",
       "    <tr>\n",
       "      <th>60004</th>\n",
       "      <td>0</td>\n",
       "      <td>-0.282</td>\n",
       "      <td>lv</td>\n",
       "      <td>0</td>\n",
       "    </tr>\n",
       "  </tbody>\n",
       "</table>\n",
       "</div>"
      ],
      "text/plain": [
       "       response     rt stim  subj_idx\n",
       "60000         1  0.402   lv         0\n",
       "60001         0 -0.700   lv         0\n",
       "60002         1  0.700   lv         0\n",
       "60003         0 -0.700   lv         0\n",
       "60004         0 -0.282   lv         0"
      ]
     },
     "execution_count": 9,
     "metadata": {},
     "output_type": "execute_result"
    }
   ],
   "source": [
    "conf_df = data[(data.stim=='hc')|( data.stim=='lc')]\n",
    "conf_df.head()\n",
    "vol_df = data[(data.stim=='hv')|( data.stim=='lv')]\n",
    "vol_df.head()"
   ]
  },
  {
   "cell_type": "code",
   "execution_count": 10,
   "metadata": {},
   "outputs": [
    {
     "data": {
      "text/plain": [
       "(array(['hv', 'lv'], dtype=object), array(['hc', 'lc'], dtype=object))"
      ]
     },
     "execution_count": 10,
     "metadata": {},
     "output_type": "execute_result"
    }
   ],
   "source": [
    "np.unique(vol_df.stim), np.unique(conf_df.stim)"
   ]
  },
  {
   "cell_type": "code",
   "execution_count": 11,
   "metadata": {},
   "outputs": [
    {
     "data": {
      "text/plain": [
       "(array([ 0,  1,  2,  3,  4,  5,  6,  7,  8,  9, 10, 11, 12, 13, 14, 15, 16,\n",
       "        17, 18, 19, 20, 21, 22, 23, 24, 25, 26, 27, 28, 29, 30, 31, 32, 33,\n",
       "        34, 35, 36, 37, 38, 39, 40, 41, 42, 43, 44, 45, 46, 47, 48, 49]),\n",
       " array([ 0,  1,  2,  3,  4,  5,  6,  7,  8,  9, 10, 11, 12, 13, 14, 15, 16,\n",
       "        17, 18, 19, 20, 21, 22, 23, 24, 25, 26, 27, 28, 29, 30, 31, 32, 33,\n",
       "        34, 35, 36, 37, 38, 39, 40, 41, 42, 43, 44, 45, 46, 47, 48, 49]))"
      ]
     },
     "execution_count": 11,
     "metadata": {},
     "output_type": "execute_result"
    }
   ],
   "source": [
    "np.unique(vol_df.subj_idx), np.unique(conf_df.subj_idx)"
   ]
  },
  {
   "cell_type": "code",
   "execution_count": 12,
   "metadata": {},
   "outputs": [],
   "source": [
    "conf_df = conf_df.rename(index=str, columns={\"stim\": \"conf\"})\n",
    "vol_df = vol_df.rename(index=str, columns={\"stim\": \"vol\"})"
   ]
  },
  {
   "cell_type": "markdown",
   "metadata": {},
   "source": [
    "## Within-subjects regression "
   ]
  },
  {
   "cell_type": "markdown",
   "metadata": {},
   "source": [
    "#### Treatment specifies intercept (comparison condition) \n",
    "#### C(x) specifies categorical predictor \n",
    "\n",
    "##### (design matrix will auto-code dummy variables)"
   ]
  },
  {
   "cell_type": "markdown",
   "metadata": {},
   "source": [
    "#### trialwise response ~ categorical predictor, intercept condition "
   ]
  },
  {
   "cell_type": "code",
   "execution_count": 13,
   "metadata": {},
   "outputs": [
    {
     "name": "stdout",
     "output_type": "stream",
     "text": [
      "['C(stim)[hc]', 'C(stim)[hv]', 'C(stim)[lc]', 'C(stim)[lv]']\n",
      "[[ 0.  0.  1.  0.]\n",
      " [ 0.  0.  1.  0.]\n",
      " [ 0.  0.  1.  0.]\n",
      " ..., \n",
      " [ 0.  1.  0.  0.]\n",
      " [ 0.  1.  0.  0.]\n",
      " [ 0.  1.  0.  0.]]\n"
     ]
    },
    {
     "data": {
      "text/plain": [
       "array([ 30000.,  30000.,  30000.,  30000.])"
      ]
     },
     "execution_count": 13,
     "metadata": {},
     "output_type": "execute_result"
    }
   ],
   "source": [
    "formula=\"0+C(stim)\"\n",
    "d_mat = dmatrix(formula, data)\n",
    "print(d_mat.design_info.column_names)\n",
    "print(d_mat)\n",
    "sum(d_mat)"
   ]
  },
  {
   "cell_type": "code",
   "execution_count": 14,
   "metadata": {},
   "outputs": [
    {
     "data": {
      "text/plain": [
       "DesignMatrix with shape (120000, 4)\n",
       "  C(stim)[hc]  C(stim)[hv]  C(stim)[lc]  C(stim)[lv]\n",
       "            0            0            1            0\n",
       "            0            0            1            0\n",
       "            0            0            1            0\n",
       "            0            0            1            0\n",
       "            0            0            1            0\n",
       "            0            0            1            0\n",
       "            0            0            1            0\n",
       "            0            0            1            0\n",
       "            0            0            1            0\n",
       "            0            0            1            0\n",
       "            0            0            1            0\n",
       "            0            0            1            0\n",
       "            0            0            1            0\n",
       "            0            0            1            0\n",
       "            0            0            1            0\n",
       "            0            0            1            0\n",
       "            0            0            1            0\n",
       "            0            0            1            0\n",
       "            0            0            1            0\n",
       "            0            0            1            0\n",
       "            0            0            1            0\n",
       "            0            0            1            0\n",
       "            0            0            1            0\n",
       "            0            0            1            0\n",
       "            0            0            1            0\n",
       "            0            0            1            0\n",
       "            0            0            1            0\n",
       "            0            0            1            0\n",
       "            0            0            1            0\n",
       "            0            0            1            0\n",
       "  [119970 rows omitted]\n",
       "  Terms:\n",
       "    'C(stim)' (columns 0:4)\n",
       "  (to view full data, use np.asarray(this_obj))"
      ]
     },
     "execution_count": 14,
     "metadata": {},
     "output_type": "execute_result"
    }
   ],
   "source": [
    "d_mat"
   ]
  },
  {
   "cell_type": "code",
   "execution_count": 15,
   "metadata": {},
   "outputs": [],
   "source": [
    "v_reg_model = \"v ~\"+ formula\n",
    "a_reg_model = \"a ~\"+ formula\n",
    "av_reg_model = [v_reg_model, a_reg_model]"
   ]
  },
  {
   "cell_type": "code",
   "execution_count": null,
   "metadata": {},
   "outputs": [
    {
     "name": "stdout",
     "output_type": "stream",
     "text": [
      "Adding these covariates:\n",
      "['v_C(stim)[hc]', 'v_C(stim)[hv]', 'v_C(stim)[lc]', 'v_C(stim)[lv]']\n"
     ]
    },
    {
     "name": "stderr",
     "output_type": "stream",
     "text": [
      "/Users/Krista/anaconda/envs/hddm/lib/python3.5/site-packages/pymc/Node.py:403: VisibleDeprecationWarning: using a non-integer number instead of an integer will result in an error in the future\n",
      "  self.__name__ = input['__name__']\n"
     ]
    },
    {
     "name": "stdout",
     "output_type": "stream",
     "text": [
      " [-------------    34%                  ] 1736 of 5000 complete in 10255.5 sec"
     ]
    }
   ],
   "source": [
    "v_within_subj = hddm.HDDMRegressor(data, v_reg_model)\n",
    "v_within_subj.sample(5000,burn=200, dbname='v_traces.db', db='pickle')"
   ]
  },
  {
   "cell_type": "code",
   "execution_count": null,
   "metadata": {},
   "outputs": [],
   "source": [
    "a_within_subj = hddm.HDDMRegressor(data, a_reg_model)\n",
    "a_within_subj.sample(5000,burn=200,dbname='a_traces.db', db='pickle')"
   ]
  },
  {
   "cell_type": "code",
   "execution_count": null,
   "metadata": {},
   "outputs": [],
   "source": [
    "av_within_subj = hddm.HDDMRegressor(data, av_reg_model)\n",
    "av_within_subj.sample(5000,burn=200,dbname='av_traces.db', db='pickle')"
   ]
  },
  {
   "cell_type": "markdown",
   "metadata": {},
   "source": [
    "#### save models"
   ]
  },
  {
   "cell_type": "code",
   "execution_count": null,
   "metadata": {},
   "outputs": [],
   "source": [
    "v_within_subj.save('v_within_subj_sim')\n",
    "a_within_subj.save('a_within_subj_sim')\n",
    "av_within_subj.save('av_within_subj_sim')"
   ]
  },
  {
   "cell_type": "markdown",
   "metadata": {},
   "source": [
    "#### extract DIC score"
   ]
  },
  {
   "cell_type": "code",
   "execution_count": null,
   "metadata": {},
   "outputs": [],
   "source": [
    "v_within_subj.dic, a_within_subj.dic, av_within_subj.dic"
   ]
  },
  {
   "cell_type": "markdown",
   "metadata": {},
   "source": [
    "#### plot within-subjects effects for winning model"
   ]
  },
  {
   "cell_type": "code",
   "execution_count": null,
   "metadata": {},
   "outputs": [],
   "source": [
    "plt.rcParams['figure.figsize'] = 10, 10\n",
    "plt.rcParams['axes.titlesize'] = 25\n",
    "plt.rcParams['axes.labelsize'] = 30\n",
    "plt.rcParams['xtick.labelsize'] = 30\n",
    "plt.rcParams['ytick.labelsize'] = 30\n",
    "\n",
    "names = [r'$v$',r'$a$',r'$a+v$']\n",
    "dics = [v_within_subj.dic,  a_within_subj.dic, av_within_subj.dic]\n",
    "bars = plt.barh(names,dics, alpha=0.5)\n",
    "plt.xlabel('DIC score')\n",
    "\n",
    "bars[0].set_color('r')\n",
    "bars[1].set_color('blue')\n",
    "bars[2].set_color('forestgreen')\n",
    "\n",
    "plt.axvline(av_within_subj.dic, color='k', alpha=0.5, linestyle = '--')"
   ]
  },
  {
   "cell_type": "code",
   "execution_count": null,
   "metadata": {},
   "outputs": [],
   "source": [
    "av_hc, av_hv, av_lc, av_lv = av_within_subj.nodes_db.ix[['v_C(stim)[hc]', 'v_C(stim)[hv]', 'v_C(stim)[lc]', 'v_C(stim)[lv]'], 'node']\n",
    "\n",
    "\n",
    "hddm.analyze.plot_posterior_nodes([av_hc, av_hv, av_lc, av_lv ])\n",
    "plt.xlabel('drift-rate')\n",
    "plt.ylabel('Posterior probability')\n",
    "plt.title('All groups: Group mean posteriors of within-subject drift-rate effects.')\n",
    "# plt.savefig('hddm_demo_fig_07.pdf')"
   ]
  },
  {
   "cell_type": "code",
   "execution_count": null,
   "metadata": {},
   "outputs": [],
   "source": [
    "hddm.analyze.plot_posterior_nodes([av_hc, av_lc])\n",
    "plt.xlabel('drift-rate')\n",
    "plt.ylabel('Posterior probability')\n",
    "plt.title('Conflict: Group mean posteriors of within-subject drift-rate effects.')\n",
    "# plt.savefig('hddm_demo_fig_07.pdf')"
   ]
  },
  {
   "cell_type": "code",
   "execution_count": null,
   "metadata": {},
   "outputs": [],
   "source": [
    "a_hc, a_hv, a_lc, a_lv  = a_within_subj.nodes_db.ix[['a_C(stim)[hc]', 'a_C(stim)[hv]', 'a_C(stim)[lc]', 'a_C(stim)[lv]'], 'node']\n",
    "bound_fig = hddm.analyze.plot_posterior_nodes([a_hc, a_hv, a_lc, a_lv])\n",
    "plt.xlabel('bound')\n",
    "plt.ylabel('Posterior probability')\n",
    "plt.title('All Groups: Group mean posteriors of within-subject bound effects.')\n",
    "# plt.savefig('hddm_demo_fig_07.pdf')"
   ]
  },
  {
   "cell_type": "code",
   "execution_count": null,
   "metadata": {},
   "outputs": [],
   "source": [
    "hddm.analyze.plot_posterior_nodes([a_lv, a_hv])\n",
    "plt.xlabel('bound')\n",
    "plt.ylabel('Posterior probability')\n",
    "plt.title('Volatility: Group mean posteriors of within-subject bound effects.')"
   ]
  },
  {
   "cell_type": "markdown",
   "metadata": {},
   "source": [
    "#### extract DIC score"
   ]
  },
  {
   "cell_type": "markdown",
   "metadata": {},
   "source": [
    "#### all stats"
   ]
  },
  {
   "cell_type": "code",
   "execution_count": null,
   "metadata": {},
   "outputs": [],
   "source": [
    "# v_within_subj.print_stats()"
   ]
  },
  {
   "cell_type": "code",
   "execution_count": null,
   "metadata": {},
   "outputs": [],
   "source": []
  }
 ],
 "metadata": {
  "kernelspec": {
   "display_name": "hddm",
   "language": "python",
   "name": "hddm"
  },
  "language_info": {
   "codemirror_mode": {
    "name": "ipython",
    "version": 3
   },
   "file_extension": ".py",
   "mimetype": "text/x-python",
   "name": "python",
   "nbconvert_exporter": "python",
   "pygments_lexer": "ipython3",
   "version": "3.5.5"
  }
 },
 "nbformat": 4,
 "nbformat_minor": 2
}
