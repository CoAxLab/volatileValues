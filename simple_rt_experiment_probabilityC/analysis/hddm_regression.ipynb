{
 "cells": [
  {
   "cell_type": "code",
   "execution_count": 3,
   "metadata": {},
   "outputs": [],
   "source": [
    "import pandas as pd \n",
    "import matplotlib.pyplot as plt \n",
    "import hddm \n",
    "from patsy import dmatrix \n",
    "# print(hddm.__version__)\n",
    "\n",
    "%matplotlib inline"
   ]
  },
  {
   "cell_type": "markdown",
   "metadata": {},
   "source": [
    "## Pre-processing"
   ]
  },
  {
   "cell_type": "code",
   "execution_count": 4,
   "metadata": {},
   "outputs": [
    {
     "name": "stdout",
     "output_type": "stream",
     "text": [
      "/Users/Krista/Dropbox/volatileValues/simple_rt_experiment_probabilityC/analysis\r\n"
     ]
    }
   ],
   "source": [
    "!pwd"
   ]
  },
  {
   "cell_type": "code",
   "execution_count": 5,
   "metadata": {},
   "outputs": [],
   "source": [
    "data = hddm.load_csv('./cavanagh_theta_nn.csv')"
   ]
  },
  {
   "cell_type": "code",
   "execution_count": 6,
   "metadata": {},
   "outputs": [
    {
     "data": {
      "text/html": [
       "<div>\n",
       "<style scoped>\n",
       "    .dataframe tbody tr th:only-of-type {\n",
       "        vertical-align: middle;\n",
       "    }\n",
       "\n",
       "    .dataframe tbody tr th {\n",
       "        vertical-align: top;\n",
       "    }\n",
       "\n",
       "    .dataframe thead th {\n",
       "        text-align: right;\n",
       "    }\n",
       "</style>\n",
       "<table border=\"1\" class=\"dataframe\">\n",
       "  <thead>\n",
       "    <tr style=\"text-align: right;\">\n",
       "      <th></th>\n",
       "      <th>subj_idx</th>\n",
       "      <th>stim</th>\n",
       "      <th>rt</th>\n",
       "      <th>response</th>\n",
       "      <th>theta</th>\n",
       "      <th>dbs</th>\n",
       "      <th>conf</th>\n",
       "    </tr>\n",
       "  </thead>\n",
       "  <tbody>\n",
       "    <tr>\n",
       "      <th>0</th>\n",
       "      <td>0</td>\n",
       "      <td>LL</td>\n",
       "      <td>1.210</td>\n",
       "      <td>1.0</td>\n",
       "      <td>0.656275</td>\n",
       "      <td>1</td>\n",
       "      <td>HC</td>\n",
       "    </tr>\n",
       "    <tr>\n",
       "      <th>1</th>\n",
       "      <td>0</td>\n",
       "      <td>WL</td>\n",
       "      <td>1.630</td>\n",
       "      <td>1.0</td>\n",
       "      <td>-0.327889</td>\n",
       "      <td>1</td>\n",
       "      <td>LC</td>\n",
       "    </tr>\n",
       "    <tr>\n",
       "      <th>2</th>\n",
       "      <td>0</td>\n",
       "      <td>WW</td>\n",
       "      <td>1.030</td>\n",
       "      <td>1.0</td>\n",
       "      <td>-0.480285</td>\n",
       "      <td>1</td>\n",
       "      <td>HC</td>\n",
       "    </tr>\n",
       "    <tr>\n",
       "      <th>3</th>\n",
       "      <td>0</td>\n",
       "      <td>WL</td>\n",
       "      <td>2.770</td>\n",
       "      <td>1.0</td>\n",
       "      <td>1.927427</td>\n",
       "      <td>1</td>\n",
       "      <td>LC</td>\n",
       "    </tr>\n",
       "    <tr>\n",
       "      <th>4</th>\n",
       "      <td>0</td>\n",
       "      <td>WW</td>\n",
       "      <td>1.140</td>\n",
       "      <td>0.0</td>\n",
       "      <td>-0.213236</td>\n",
       "      <td>1</td>\n",
       "      <td>HC</td>\n",
       "    </tr>\n",
       "    <tr>\n",
       "      <th>5</th>\n",
       "      <td>0</td>\n",
       "      <td>WL</td>\n",
       "      <td>1.150</td>\n",
       "      <td>1.0</td>\n",
       "      <td>-0.436204</td>\n",
       "      <td>1</td>\n",
       "      <td>LC</td>\n",
       "    </tr>\n",
       "    <tr>\n",
       "      <th>6</th>\n",
       "      <td>0</td>\n",
       "      <td>LL</td>\n",
       "      <td>2.000</td>\n",
       "      <td>1.0</td>\n",
       "      <td>-0.274479</td>\n",
       "      <td>1</td>\n",
       "      <td>HC</td>\n",
       "    </tr>\n",
       "    <tr>\n",
       "      <th>7</th>\n",
       "      <td>0</td>\n",
       "      <td>WL</td>\n",
       "      <td>1.040</td>\n",
       "      <td>0.0</td>\n",
       "      <td>0.666957</td>\n",
       "      <td>1</td>\n",
       "      <td>LC</td>\n",
       "    </tr>\n",
       "    <tr>\n",
       "      <th>8</th>\n",
       "      <td>0</td>\n",
       "      <td>WW</td>\n",
       "      <td>0.857</td>\n",
       "      <td>1.0</td>\n",
       "      <td>0.118617</td>\n",
       "      <td>1</td>\n",
       "      <td>HC</td>\n",
       "    </tr>\n",
       "    <tr>\n",
       "      <th>9</th>\n",
       "      <td>0</td>\n",
       "      <td>WL</td>\n",
       "      <td>1.500</td>\n",
       "      <td>0.0</td>\n",
       "      <td>0.823626</td>\n",
       "      <td>1</td>\n",
       "      <td>LC</td>\n",
       "    </tr>\n",
       "  </tbody>\n",
       "</table>\n",
       "</div>"
      ],
      "text/plain": [
       "   subj_idx stim     rt  response     theta  dbs conf\n",
       "0         0   LL  1.210       1.0  0.656275    1   HC\n",
       "1         0   WL  1.630       1.0 -0.327889    1   LC\n",
       "2         0   WW  1.030       1.0 -0.480285    1   HC\n",
       "3         0   WL  2.770       1.0  1.927427    1   LC\n",
       "4         0   WW  1.140       0.0 -0.213236    1   HC\n",
       "5         0   WL  1.150       1.0 -0.436204    1   LC\n",
       "6         0   LL  2.000       1.0 -0.274479    1   HC\n",
       "7         0   WL  1.040       0.0  0.666957    1   LC\n",
       "8         0   WW  0.857       1.0  0.118617    1   HC\n",
       "9         0   WL  1.500       0.0  0.823626    1   LC"
      ]
     },
     "execution_count": 6,
     "metadata": {},
     "output_type": "execute_result"
    }
   ],
   "source": [
    "data.head(10)"
   ]
  },
  {
   "cell_type": "code",
   "execution_count": 7,
   "metadata": {},
   "outputs": [],
   "source": [
    "data = hddm.utils.flip_errors(data)"
   ]
  },
  {
   "cell_type": "markdown",
   "metadata": {},
   "source": [
    "## Within-subjects regression "
   ]
  },
  {
   "cell_type": "markdown",
   "metadata": {},
   "source": [
    "#### Treatment specifies intercept (comparison condition) \n",
    "#### C(x) specifies categorical predictor \n",
    "\n",
    "##### (design matrix will auto-code dummy variables)"
   ]
  },
  {
   "cell_type": "code",
   "execution_count": 9,
   "metadata": {},
   "outputs": [
    {
     "data": {
      "text/plain": [
       "DesignMatrix with shape (10, 3)\n",
       "  Intercept  C(stim, Treatment('WL'))[T.LL]  C(stim, Treatment('WL'))[T.WW]\n",
       "          1                               1                               0\n",
       "          1                               0                               0\n",
       "          1                               0                               1\n",
       "          1                               0                               0\n",
       "          1                               0                               1\n",
       "          1                               0                               0\n",
       "          1                               1                               0\n",
       "          1                               0                               0\n",
       "          1                               0                               1\n",
       "          1                               0                               0\n",
       "  Terms:\n",
       "    'Intercept' (column 0)\n",
       "    \"C(stim, Treatment('WL'))\" (columns 1:3)"
      ]
     },
     "execution_count": 9,
     "metadata": {},
     "output_type": "execute_result"
    }
   ],
   "source": [
    "dmatrix(\"C(stim,Treatment('WL'))\", data.head(10))"
   ]
  },
  {
   "cell_type": "markdown",
   "metadata": {},
   "source": [
    "#### trialwise response ~ categorical predictor, intercept condition "
   ]
  },
  {
   "cell_type": "code",
   "execution_count": 30,
   "metadata": {},
   "outputs": [],
   "source": [
    "v_reg_model = \"v ~ C(stim, Treatment('WL'))\"\n",
    "a_reg_model = \"a ~ C(stim, Treatment('WL'))\"\n",
    "av_reg_model = [v_reg_model, a_reg_model]\n",
    "\n",
    "#null: condition has no effect on drift \n",
    "null_v_reg_model = \"v~1\"\n",
    "#null: condition has no effect on bound \n",
    "null_a_reg_model = \"a~1\"\n",
    "#null: condition has no effect on bound/drift simultaneously estimated\n",
    "null_av_reg_model = [null_v_reg_model, null_a_reg_model]"
   ]
  },
  {
   "cell_type": "code",
   "execution_count": 31,
   "metadata": {},
   "outputs": [
    {
     "name": "stdout",
     "output_type": "stream",
     "text": [
      "Adding these covariates:\n",
      "['v_Intercept', \"v_C(stim, Treatment('WL'))[T.LL]\", \"v_C(stim, Treatment('WL'))[T.WW]\"]\n"
     ]
    },
    {
     "name": "stderr",
     "output_type": "stream",
     "text": [
      "/Users/Krista/anaconda/envs/hddm/lib/python3.5/site-packages/pymc/Node.py:403: VisibleDeprecationWarning: using a non-integer number instead of an integer will result in an error in the future\n",
      "  self.__name__ = input['__name__']\n"
     ]
    },
    {
     "name": "stdout",
     "output_type": "stream",
     "text": [
      " [-----------------100%-----------------] 5001 of 5000 complete in 1506.2 sec"
     ]
    },
    {
     "name": "stderr",
     "output_type": "stream",
     "text": [
      "/Users/Krista/anaconda/envs/hddm/lib/python3.5/site-packages/numpy/core/fromnumeric.py:224: VisibleDeprecationWarning: using a non-integer number instead of an integer will result in an error in the future\n",
      "  return reshape(newshape, order=order)\n"
     ]
    },
    {
     "data": {
      "text/plain": [
       "<pymc.MCMC.MCMC at 0x1a11506240>"
      ]
     },
     "execution_count": 31,
     "metadata": {},
     "output_type": "execute_result"
    }
   ],
   "source": [
    "v_within_subj = hddm.HDDMRegressor(data, v_reg_model)\n",
    "v_within_subj.sample(5000,burn=200)"
   ]
  },
  {
   "cell_type": "code",
   "execution_count": 32,
   "metadata": {},
   "outputs": [
    {
     "name": "stdout",
     "output_type": "stream",
     "text": [
      "Adding these covariates:\n",
      "['a_Intercept', \"a_C(stim, Treatment('WL'))[T.LL]\", \"a_C(stim, Treatment('WL'))[T.WW]\"]\n"
     ]
    },
    {
     "name": "stderr",
     "output_type": "stream",
     "text": [
      "/Users/Krista/anaconda/envs/hddm/lib/python3.5/site-packages/pymc/Node.py:403: VisibleDeprecationWarning: using a non-integer number instead of an integer will result in an error in the future\n",
      "  self.__name__ = input['__name__']\n"
     ]
    },
    {
     "name": "stdout",
     "output_type": "stream",
     "text": [
      " [-----------------100%-----------------] 5000 of 5000 complete in 1415.9 sec"
     ]
    },
    {
     "name": "stderr",
     "output_type": "stream",
     "text": [
      "/Users/Krista/anaconda/envs/hddm/lib/python3.5/site-packages/numpy/core/fromnumeric.py:224: VisibleDeprecationWarning: using a non-integer number instead of an integer will result in an error in the future\n",
      "  return reshape(newshape, order=order)\n"
     ]
    },
    {
     "data": {
      "text/plain": [
       "<pymc.MCMC.MCMC at 0x1a15b11748>"
      ]
     },
     "execution_count": 32,
     "metadata": {},
     "output_type": "execute_result"
    }
   ],
   "source": [
    "a_within_subj = hddm.HDDMRegressor(data, a_reg_model)\n",
    "a_within_subj.sample(5000,burn=200)"
   ]
  },
  {
   "cell_type": "code",
   "execution_count": 33,
   "metadata": {},
   "outputs": [
    {
     "name": "stdout",
     "output_type": "stream",
     "text": [
      "Adding these covariates:\n",
      "['v_Intercept', \"v_C(stim, Treatment('WL'))[T.LL]\", \"v_C(stim, Treatment('WL'))[T.WW]\"]\n",
      "Adding these covariates:\n",
      "['a_Intercept', \"a_C(stim, Treatment('WL'))[T.LL]\", \"a_C(stim, Treatment('WL'))[T.WW]\"]\n"
     ]
    },
    {
     "name": "stderr",
     "output_type": "stream",
     "text": [
      "/Users/Krista/anaconda/envs/hddm/lib/python3.5/site-packages/pymc/Node.py:403: VisibleDeprecationWarning: using a non-integer number instead of an integer will result in an error in the future\n",
      "  self.__name__ = input['__name__']\n"
     ]
    },
    {
     "name": "stdout",
     "output_type": "stream",
     "text": [
      " [-----------------100%-----------------] 5001 of 5000 complete in 3703.1 sec"
     ]
    },
    {
     "name": "stderr",
     "output_type": "stream",
     "text": [
      "/Users/Krista/anaconda/envs/hddm/lib/python3.5/site-packages/numpy/core/fromnumeric.py:224: VisibleDeprecationWarning: using a non-integer number instead of an integer will result in an error in the future\n",
      "  return reshape(newshape, order=order)\n"
     ]
    },
    {
     "data": {
      "text/plain": [
       "<pymc.MCMC.MCMC at 0x1a11509780>"
      ]
     },
     "execution_count": 33,
     "metadata": {},
     "output_type": "execute_result"
    }
   ],
   "source": [
    "av_within_subj = hddm.HDDMRegressor(data, av_reg_model)\n",
    "av_within_subj.sample(5000,burn=200)"
   ]
  },
  {
   "cell_type": "markdown",
   "metadata": {},
   "source": [
    "#### null models"
   ]
  },
  {
   "cell_type": "code",
   "execution_count": 34,
   "metadata": {},
   "outputs": [
    {
     "name": "stdout",
     "output_type": "stream",
     "text": [
      "Adding these covariates:\n",
      "['v_Intercept']\n"
     ]
    },
    {
     "name": "stderr",
     "output_type": "stream",
     "text": [
      "/Users/Krista/anaconda/envs/hddm/lib/python3.5/site-packages/pymc/Node.py:403: VisibleDeprecationWarning: using a non-integer number instead of an integer will result in an error in the future\n",
      "  self.__name__ = input['__name__']\n"
     ]
    },
    {
     "name": "stdout",
     "output_type": "stream",
     "text": [
      " [-----------------100%-----------------] 5000 of 5000 complete in 1011.9 sec"
     ]
    },
    {
     "name": "stderr",
     "output_type": "stream",
     "text": [
      "/Users/Krista/anaconda/envs/hddm/lib/python3.5/site-packages/numpy/core/fromnumeric.py:224: VisibleDeprecationWarning: using a non-integer number instead of an integer will result in an error in the future\n",
      "  return reshape(newshape, order=order)\n"
     ]
    },
    {
     "data": {
      "text/plain": [
       "<pymc.MCMC.MCMC at 0x104c6a208>"
      ]
     },
     "execution_count": 34,
     "metadata": {},
     "output_type": "execute_result"
    }
   ],
   "source": [
    "null_v_within_subj = hddm.HDDMRegressor(data, null_v_reg_model)\n",
    "null_v_within_subj.sample(5000,burn=200)"
   ]
  },
  {
   "cell_type": "code",
   "execution_count": 35,
   "metadata": {},
   "outputs": [
    {
     "name": "stdout",
     "output_type": "stream",
     "text": [
      "Adding these covariates:\n",
      "['a_Intercept']\n"
     ]
    },
    {
     "name": "stderr",
     "output_type": "stream",
     "text": [
      "/Users/Krista/anaconda/envs/hddm/lib/python3.5/site-packages/pymc/Node.py:403: VisibleDeprecationWarning: using a non-integer number instead of an integer will result in an error in the future\n",
      "  self.__name__ = input['__name__']\n"
     ]
    },
    {
     "name": "stdout",
     "output_type": "stream",
     "text": [
      " [-----------------100%-----------------] 5001 of 5000 complete in 1013.7 sec"
     ]
    },
    {
     "name": "stderr",
     "output_type": "stream",
     "text": [
      "/Users/Krista/anaconda/envs/hddm/lib/python3.5/site-packages/numpy/core/fromnumeric.py:224: VisibleDeprecationWarning: using a non-integer number instead of an integer will result in an error in the future\n",
      "  return reshape(newshape, order=order)\n"
     ]
    },
    {
     "data": {
      "text/plain": [
       "<pymc.MCMC.MCMC at 0x104cbe860>"
      ]
     },
     "execution_count": 35,
     "metadata": {},
     "output_type": "execute_result"
    }
   ],
   "source": [
    "null_a_within_subj = hddm.HDDMRegressor(data, null_a_reg_model)\n",
    "null_a_within_subj.sample(5000,burn=200)"
   ]
  },
  {
   "cell_type": "code",
   "execution_count": null,
   "metadata": {},
   "outputs": [
    {
     "name": "stdout",
     "output_type": "stream",
     "text": [
      "Adding these covariates:\n",
      "['v_Intercept']\n",
      "Adding these covariates:\n",
      "['a_Intercept']\n"
     ]
    },
    {
     "name": "stderr",
     "output_type": "stream",
     "text": [
      "/Users/Krista/anaconda/envs/hddm/lib/python3.5/site-packages/pymc/Node.py:403: VisibleDeprecationWarning: using a non-integer number instead of an integer will result in an error in the future\n",
      "  self.__name__ = input['__name__']\n"
     ]
    },
    {
     "name": "stdout",
     "output_type": "stream",
     "text": [
      " [--                6%                  ] 320 of 5000 complete in 127.1 sec"
     ]
    }
   ],
   "source": [
    "null_av_within_subj = hddm.HDDMRegressor(data, null_av_reg_model)\n",
    "null_av_within_subj.sample(5000,burn=200)"
   ]
  },
  {
   "cell_type": "markdown",
   "metadata": {},
   "source": [
    "#### plot within-subjects effects "
   ]
  },
  {
   "cell_type": "code",
   "execution_count": 24,
   "metadata": {},
   "outputs": [
    {
     "data": {
      "image/png": "[encoded data removed]",
      "text/plain": [
       "<Figure size 432x288 with 1 Axes>"
      ]
     },
     "metadata": {},
     "output_type": "display_data"
    }
   ],
   "source": [
    "v_WL, v_LL, v_WW = v_within_subj.nodes_db.ix[[\"v_Intercept\", \n",
    "                                              \"v_C(stim, Treatment('WL'))[T.LL]\", \n",
    "                                              \"v_C(stim, Treatment('WL'))[T.WW]\"], 'node']\n",
    "hddm.analyze.plot_posterior_nodes([v_WL, v_LL, v_WW])\n",
    "plt.xlabel('drift-rate')\n",
    "plt.ylabel('Posterior probability')\n",
    "plt.title('Group mean posteriors of within-subject drift-rate effects.')\n",
    "# plt.savefig('hddm_demo_fig_07.pdf')"
   ]
  },
  {
   "cell_type": "markdown",
   "metadata": {},
   "source": [
    "#### extract DIC score"
   ]
  },
  {
   "cell_type": "code",
   "execution_count": 26,
   "metadata": {},
   "outputs": [
    {
     "data": {
      "text/plain": [
       "10782.909186308418"
      ]
     },
     "execution_count": 26,
     "metadata": {},
     "output_type": "execute_result"
    }
   ],
   "source": [
    "v_within_subj.dic"
   ]
  },
  {
   "cell_type": "markdown",
   "metadata": {},
   "source": [
    "#### all stats"
   ]
  },
  {
   "cell_type": "code",
   "execution_count": null,
   "metadata": {},
   "outputs": [],
   "source": [
    "v_within_subj.print_stats()"
   ]
  }
 ],
 "metadata": {
  "kernelspec": {
   "display_name": "hddm",
   "language": "python",
   "name": "hddm"
  },
  "language_info": {
   "codemirror_mode": {
    "name": "ipython",
    "version": 3
   },
   "file_extension": ".py",
   "mimetype": "text/x-python",
   "name": "python",
   "nbconvert_exporter": "python",
   "pygments_lexer": "ipython3",
   "version": "3.5.5"
  }
 },
 "nbformat": 4,
 "nbformat_minor": 2
}
