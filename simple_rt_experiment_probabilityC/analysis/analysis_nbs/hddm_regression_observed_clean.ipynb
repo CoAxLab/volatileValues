{
 "cells": [
  {
   "cell_type": "code",
   "execution_count": 1,
   "metadata": {},
   "outputs": [
    {
     "name": "stderr",
     "output_type": "stream",
     "text": [
      "/home/krista/anaconda3/envs/hddm/lib/python3.5/site-packages/IPython/parallel.py:13: ShimWarning: The `IPython.parallel` package has been deprecated since IPython 4.0. You should import from ipyparallel instead.\n",
      "  \"You should import from ipyparallel instead.\", ShimWarning)\n"
     ]
    }
   ],
   "source": [
    "#suppress deprecation warnings  \n",
    "import warnings\n",
    "warnings.simplefilter(action='ignore', category=DeprecationWarning)\n",
    "\n",
    "import pandas as pd \n",
    "import matplotlib.pyplot as plt \n",
    "import hddm \n",
    "from patsy import dmatrix \n",
    "import numpy as np\n",
    "# print(hddm.__version__)\n",
    "\n",
    "%matplotlib inline\n",
    "plt.rcParams['figure.figsize'] = 30, 10"
   ]
  },
  {
   "cell_type": "markdown",
   "metadata": {},
   "source": [
    "## Pre-processing"
   ]
  },
  {
   "cell_type": "code",
   "execution_count": 2,
   "metadata": {},
   "outputs": [
    {
     "name": "stdout",
     "output_type": "stream",
     "text": [
      "/home/krista/Dropbox/volatileValues/simple_rt_experiment_probabilityC/analysis/analysis_nbs\n",
      "/home/krista/Dropbox/volatileValues/simple_rt_experiment_probabilityC/analysis/hddm_reg_models/\n"
     ]
    }
   ],
   "source": [
    "!pwd\n",
    "write_dir = '/home/krista/Dropbox/volatileValues/simple_rt_experiment_probabilityC/analysis/hddm_reg_models/'\n",
    "print(write_dir)"
   ]
  },
  {
   "cell_type": "code",
   "execution_count": 3,
   "metadata": {
    "collapsed": true
   },
   "outputs": [],
   "source": [
    "all_data = hddm.load_csv('/home/krista/Dropbox/volatileValues/simple_rt_experiment_probabilityC/analysis/aggregated_data/combined_learning_sig_obs_data.csv')  "
   ]
  },
  {
   "cell_type": "code",
   "execution_count": 4,
   "metadata": {},
   "outputs": [
    {
     "data": {
      "text/html": [
       "<div>\n",
       "<style scoped>\n",
       "    .dataframe tbody tr th:only-of-type {\n",
       "        vertical-align: middle;\n",
       "    }\n",
       "\n",
       "    .dataframe tbody tr th {\n",
       "        vertical-align: top;\n",
       "    }\n",
       "\n",
       "    .dataframe thead th {\n",
       "        text-align: right;\n",
       "    }\n",
       "</style>\n",
       "<table border=\"1\" class=\"dataframe\">\n",
       "  <thead>\n",
       "    <tr style=\"text-align: right;\">\n",
       "      <th></th>\n",
       "      <th>choice</th>\n",
       "      <th>accuracy</th>\n",
       "      <th>solution</th>\n",
       "      <th>reward</th>\n",
       "      <th>cumulative_reward</th>\n",
       "      <th>rt</th>\n",
       "      <th>total_trial_time</th>\n",
       "      <th>iti</th>\n",
       "      <th>cp_with_slow_fast</th>\n",
       "      <th>obs_cp_with_slow_fast</th>\n",
       "      <th>high_val_cue</th>\n",
       "      <th>ID</th>\n",
       "      <th>condition</th>\n",
       "      <th>B</th>\n",
       "      <th>cpp</th>\n",
       "    </tr>\n",
       "  </thead>\n",
       "  <tbody>\n",
       "    <tr>\n",
       "      <th>0</th>\n",
       "      <td>1.0</td>\n",
       "      <td>0.0</td>\n",
       "      <td>0.0</td>\n",
       "      <td>0.0</td>\n",
       "      <td>599.0</td>\n",
       "      <td>0.711570</td>\n",
       "      <td>2.385458</td>\n",
       "      <td>0.670199</td>\n",
       "      <td>0.0</td>\n",
       "      <td>0.0</td>\n",
       "      <td>112.0</td>\n",
       "      <td>761</td>\n",
       "      <td>hc</td>\n",
       "      <td>0.00000</td>\n",
       "      <td>0.021840</td>\n",
       "    </tr>\n",
       "    <tr>\n",
       "      <th>1</th>\n",
       "      <td>1.0</td>\n",
       "      <td>0.0</td>\n",
       "      <td>0.0</td>\n",
       "      <td>0.0</td>\n",
       "      <td>598.0</td>\n",
       "      <td>0.681410</td>\n",
       "      <td>1.939019</td>\n",
       "      <td>0.259707</td>\n",
       "      <td>0.0</td>\n",
       "      <td>1.0</td>\n",
       "      <td>111.0</td>\n",
       "      <td>761</td>\n",
       "      <td>hc</td>\n",
       "      <td>0.00000</td>\n",
       "      <td>0.019044</td>\n",
       "    </tr>\n",
       "    <tr>\n",
       "      <th>2</th>\n",
       "      <td>0.0</td>\n",
       "      <td>1.0</td>\n",
       "      <td>0.0</td>\n",
       "      <td>2.0</td>\n",
       "      <td>599.0</td>\n",
       "      <td>0.767118</td>\n",
       "      <td>2.498060</td>\n",
       "      <td>0.740615</td>\n",
       "      <td>0.0</td>\n",
       "      <td>0.0</td>\n",
       "      <td>111.0</td>\n",
       "      <td>761</td>\n",
       "      <td>hc</td>\n",
       "      <td>-0.03276</td>\n",
       "      <td>0.018022</td>\n",
       "    </tr>\n",
       "  </tbody>\n",
       "</table>\n",
       "</div>"
      ],
      "text/plain": [
       "   choice  accuracy  solution  reward  cumulative_reward        rt  \\\n",
       "0     1.0       0.0       0.0     0.0              599.0  0.711570   \n",
       "1     1.0       0.0       0.0     0.0              598.0  0.681410   \n",
       "2     0.0       1.0       0.0     2.0              599.0  0.767118   \n",
       "\n",
       "   total_trial_time       iti  cp_with_slow_fast  obs_cp_with_slow_fast  \\\n",
       "0          2.385458  0.670199                0.0                    0.0   \n",
       "1          1.939019  0.259707                0.0                    1.0   \n",
       "2          2.498060  0.740615                0.0                    0.0   \n",
       "\n",
       "   high_val_cue   ID condition        B       cpp  \n",
       "0         112.0  761        hc  0.00000  0.021840  \n",
       "1         111.0  761        hc  0.00000  0.019044  \n",
       "2         111.0  761        hc -0.03276  0.018022  "
      ]
     },
     "execution_count": 4,
     "metadata": {},
     "output_type": "execute_result"
    }
   ],
   "source": [
    "all_data.head(3)"
   ]
  },
  {
   "cell_type": "code",
   "execution_count": 5,
   "metadata": {
    "collapsed": true
   },
   "outputs": [],
   "source": [
    "data = all_data[['accuracy', 'rt', 'condition', 'ID', 'B', 'cpp']] \n",
    "data = data.rename(index=str, columns={\"accuracy\": \"response\", \"ID\": \"subj_idx\"})"
   ]
  },
  {
   "cell_type": "code",
   "execution_count": 6,
   "metadata": {},
   "outputs": [
    {
     "data": {
      "text/html": [
       "<div>\n",
       "<style scoped>\n",
       "    .dataframe tbody tr th:only-of-type {\n",
       "        vertical-align: middle;\n",
       "    }\n",
       "\n",
       "    .dataframe tbody tr th {\n",
       "        vertical-align: top;\n",
       "    }\n",
       "\n",
       "    .dataframe thead th {\n",
       "        text-align: right;\n",
       "    }\n",
       "</style>\n",
       "<table border=\"1\" class=\"dataframe\">\n",
       "  <thead>\n",
       "    <tr style=\"text-align: right;\">\n",
       "      <th></th>\n",
       "      <th>response</th>\n",
       "      <th>rt</th>\n",
       "      <th>condition</th>\n",
       "      <th>subj_idx</th>\n",
       "      <th>B</th>\n",
       "      <th>cpp</th>\n",
       "    </tr>\n",
       "  </thead>\n",
       "  <tbody>\n",
       "    <tr>\n",
       "      <th>0</th>\n",
       "      <td>0.0</td>\n",
       "      <td>0.711570</td>\n",
       "      <td>hc</td>\n",
       "      <td>761</td>\n",
       "      <td>0.000000</td>\n",
       "      <td>0.021840</td>\n",
       "    </tr>\n",
       "    <tr>\n",
       "      <th>1</th>\n",
       "      <td>0.0</td>\n",
       "      <td>0.681410</td>\n",
       "      <td>hc</td>\n",
       "      <td>761</td>\n",
       "      <td>0.000000</td>\n",
       "      <td>0.019044</td>\n",
       "    </tr>\n",
       "    <tr>\n",
       "      <th>2</th>\n",
       "      <td>1.0</td>\n",
       "      <td>0.767118</td>\n",
       "      <td>hc</td>\n",
       "      <td>761</td>\n",
       "      <td>-0.032760</td>\n",
       "      <td>0.018022</td>\n",
       "    </tr>\n",
       "    <tr>\n",
       "      <th>3</th>\n",
       "      <td>0.0</td>\n",
       "      <td>0.507209</td>\n",
       "      <td>hc</td>\n",
       "      <td>761</td>\n",
       "      <td>0.007296</td>\n",
       "      <td>0.017503</td>\n",
       "    </tr>\n",
       "    <tr>\n",
       "      <th>4</th>\n",
       "      <td>1.0</td>\n",
       "      <td>0.656259</td>\n",
       "      <td>hc</td>\n",
       "      <td>761</td>\n",
       "      <td>0.039621</td>\n",
       "      <td>0.017197</td>\n",
       "    </tr>\n",
       "  </tbody>\n",
       "</table>\n",
       "</div>"
      ],
      "text/plain": [
       "   response        rt condition  subj_idx         B       cpp\n",
       "0       0.0  0.711570        hc       761  0.000000  0.021840\n",
       "1       0.0  0.681410        hc       761  0.000000  0.019044\n",
       "2       1.0  0.767118        hc       761 -0.032760  0.018022\n",
       "3       0.0  0.507209        hc       761  0.007296  0.017503\n",
       "4       1.0  0.656259        hc       761  0.039621  0.017197"
      ]
     },
     "execution_count": 6,
     "metadata": {},
     "output_type": "execute_result"
    }
   ],
   "source": [
    "data.columns = data.columns.str.strip()\n",
    "data.head()"
   ]
  },
  {
   "cell_type": "code",
   "execution_count": 7,
   "metadata": {
    "collapsed": true
   },
   "outputs": [],
   "source": [
    "# rtSig = data.rt.std()\n",
    "# rtMu = data.rt.mean()\n",
    "# cutoff =  rtMu - rtSig\n",
    "# data = data[data.rt>cutoff]\n",
    "# data.reset_index(drop=True, inplace=True)"
   ]
  },
  {
   "cell_type": "code",
   "execution_count": 8,
   "metadata": {},
   "outputs": [
    {
     "data": {
      "text/plain": [
       "0"
      ]
     },
     "execution_count": 8,
     "metadata": {},
     "output_type": "execute_result"
    }
   ],
   "source": [
    "np.sum(np.isnan(data.cpp))\n",
    "np.sum(np.isnan(data.rt))\n",
    "np.sum(np.isnan(data.response))"
   ]
  },
  {
   "cell_type": "code",
   "execution_count": 9,
   "metadata": {},
   "outputs": [
    {
     "data": {
      "text/plain": [
       "(48000, 48000, 48000)"
      ]
     },
     "execution_count": 9,
     "metadata": {},
     "output_type": "execute_result"
    }
   ],
   "source": [
    "len(data.cpp), len(data.response), len(data.rt)"
   ]
  },
  {
   "cell_type": "code",
   "execution_count": 10,
   "metadata": {
    "collapsed": true
   },
   "outputs": [],
   "source": [
    "data = hddm.utils.flip_errors(data)"
   ]
  },
  {
   "cell_type": "code",
   "execution_count": 11,
   "metadata": {},
   "outputs": [
    {
     "data": {
      "image/png": "[encoded data removed]",
      "text/plain": [
       "<Figure size 432x288 with 1 Axes>"
      ]
     },
     "metadata": {},
     "output_type": "display_data"
    }
   ],
   "source": [
    "fig = plt.figure()\n",
    "ax = fig.add_subplot(111, xlabel='RT', ylabel='count', title='RT distributions')\n",
    "for i, subj_data in data.groupby('subj_idx'):\n",
    "    subj_data.rt.hist(bins=20, histtype='step', ax=ax)"
   ]
  },
  {
   "cell_type": "code",
   "execution_count": 12,
   "metadata": {},
   "outputs": [
    {
     "data": {
      "image/png": "[encoded data removed]",
      "text/plain": [
       "<Figure size 432x288 with 1 Axes>"
      ]
     },
     "metadata": {},
     "output_type": "display_data"
    }
   ],
   "source": [
    "fig = plt.figure()\n",
    "ax = fig.add_subplot(111, xlabel='RT', ylabel='count', title='RT distributions')\n",
    "for i, subj_data in data.groupby('condition'):\n",
    "    subj_data.rt.hist(bins=20, histtype='step', ax=ax)"
   ]
  },
  {
   "cell_type": "code",
   "execution_count": 13,
   "metadata": {},
   "outputs": [
    {
     "data": {
      "text/plain": [
       "(array([761, 762, 763, 764, 765, 766, 767, 768, 769, 770, 771, 772, 773,\n",
       "        775, 776, 777, 778, 779, 780, 781]),\n",
       " array(['hc', 'hv', 'lc', 'lv'], dtype=object),\n",
       " 20)"
      ]
     },
     "execution_count": 13,
     "metadata": {},
     "output_type": "execute_result"
    }
   ],
   "source": [
    "np.unique(data.subj_idx), np.unique(data.condition), len(np.unique(data.subj_idx))"
   ]
  },
  {
   "cell_type": "markdown",
   "metadata": {},
   "source": [
    "## Within-subjects regression "
   ]
  },
  {
   "cell_type": "markdown",
   "metadata": {},
   "source": [
    "#### Treatment specifies intercept (comparison condition) \n",
    "##### (here I'm estimating each predictor coefficient independently, without reference to a comparison condition)\n",
    "#### C(x) specifies categorical predictor \n",
    "\n",
    "##### (design matrix will auto-code dummy variables)"
   ]
  },
  {
   "cell_type": "markdown",
   "metadata": {},
   "source": [
    "#### trialwise response ~covariate:c(categorical predictor)"
   ]
  },
  {
   "cell_type": "code",
   "execution_count": 14,
   "metadata": {},
   "outputs": [
    {
     "name": "stdout",
     "output_type": "stream",
     "text": [
      "['Intercept', 'cpp:C(condition)[hc]', 'cpp:C(condition)[hv]', 'cpp:C(condition)[lc]', 'cpp:C(condition)[lv]'] ['Intercept', 'B:C(condition)[hc]', 'B:C(condition)[hv]', 'B:C(condition)[lc]', 'B:C(condition)[lv]']\n"
     ]
    }
   ],
   "source": [
    "a_formula=\"1+cpp:C(condition)\"\n",
    "v_formula = \"1+B:C(condition)\"\n",
    "n_samples, n_burned_samples = 3000, 500\n",
    "#not running these yet, will take time. \n",
    "#formulas are redundant, but named separately for conceptual clarity \n",
    "#could maybe also compare fits to categorical predictor alone \n",
    "\n",
    "# counter_a_formula = \"0+B:C(stim)\"\n",
    "# counter_v_formula = \"0+cpp:C(stim)\"\n",
    "\n",
    "# cpp_both_formula = \"0+cpp:C(stim)\"\n",
    "# B_both_formula = \"0+B:C(stim)\"\n",
    "\n",
    "d_mat_a = dmatrix(a_formula, data)\n",
    "d_mat_v = dmatrix(v_formula, data)\n",
    "\n",
    "print(d_mat_a.design_info.column_names, d_mat_v.design_info.column_names)"
   ]
  },
  {
   "cell_type": "code",
   "execution_count": 15,
   "metadata": {},
   "outputs": [],
   "source": [
    "level1b = {'v':.3, 'a':2, 't':.3, 'sv':0, 'z':.5, 'sz':0, 'st':0}\n",
    "level2b = {'v':.4, 'a':2, 't':.3, 'sv':0, 'z':.6, 'sz':0, 'st':0}\n",
    "level3b = {'v':.5, 'a':2, 't':.3, 'sv':0, 'z':.7, 'sz':0, 'st':0}\n",
    "data_b, params_b = hddm.generate.gen_rand_data({'level1': level1b,\n",
    "                                                'level2': level2b,\n",
    "                                                'level3': level3b},\n",
    "                                                size=10,\n",
    "                                                subjs=10)"
   ]
  },
  {
   "cell_type": "code",
   "execution_count": 16,
   "metadata": {},
   "outputs": [
    {
     "name": "stdout",
     "output_type": "stream",
     "text": [
      "Adding these covariates:\n",
      "['a_Intercept', 'a_C(condition)[T.hv]', 'a_C(condition)[T.lc]', 'a_C(condition)[T.lv]']\n"
     ]
    },
    {
     "name": "stderr",
     "output_type": "stream",
     "text": [
      "/home/krista/anaconda3/envs/hddm/lib/python3.5/site-packages/pymc/Node.py:403: VisibleDeprecationWarning: using a non-integer number instead of an integer will result in an error in the future\n",
      "  self.__name__ = input['__name__']\n"
     ]
    },
    {
     "name": "stdout",
     "output_type": "stream",
     "text": [
      " [-                 4%                  ] 4 of 100 complete in 7.9 secHalting at iteration  3  of  100\n",
      "Could not generate output statistics for v_subj.771\n",
      "Could not generate output statistics for a_Intercept_subj.765\n",
      "Could not generate output statistics for v_subj.780\n",
      "Could not generate output statistics for a_Intercept_subj.780\n",
      "Could not generate output statistics for v_subj.766\n",
      "Could not generate output statistics for t_std\n",
      "Could not generate output statistics for a_Intercept_subj.767\n",
      "Could not generate output statistics for t_subj.763\n",
      "Could not generate output statistics for t_subj.771\n",
      "Could not generate output statistics for a_Intercept_std\n",
      "Could not generate output statistics for t_subj.776\n",
      "Could not generate output statistics for v_subj.779\n",
      "Could not generate output statistics for t_subj.765\n",
      "Could not generate output statistics for a_Intercept\n",
      "Could not generate output statistics for v_subj.767\n",
      "Could not generate output statistics for a_Intercept_subj.766\n",
      "Could not generate output statistics for t_subj.770\n",
      "Could not generate output statistics for v_subj.768\n",
      "Could not generate output statistics for t_subj.768\n",
      "Could not generate output statistics for t_subj.780\n",
      "Could not generate output statistics for a_Intercept_subj.779\n",
      "Could not generate output statistics for a_C(condition)[T.hv]\n",
      "Could not generate output statistics for v_subj.765\n",
      "Could not generate output statistics for t_subj.777\n",
      "Could not generate output statistics for a_Intercept_subj.773\n",
      "Could not generate output statistics for t_subj.767\n",
      "Could not generate output statistics for v_subj.770\n",
      "Could not generate output statistics for v_subj.775\n",
      "Could not generate output statistics for v_subj.762\n",
      "Could not generate output statistics for a_Intercept_subj.778\n",
      "Could not generate output statistics for t_subj.769\n",
      "Could not generate output statistics for a_Intercept_subj.761\n",
      "Could not generate output statistics for a_C(condition)[T.lv]\n",
      "Could not generate output statistics for a_Intercept_subj.777\n",
      "Could not generate output statistics for v_std\n",
      "Could not generate output statistics for t_subj.773\n",
      "Could not generate output statistics for t_subj.781\n",
      "Could not generate output statistics for a_Intercept_subj.769\n",
      "Could not generate output statistics for t_subj.779\n",
      "Could not generate output statistics for v\n",
      "Could not generate output statistics for v_subj.781\n",
      "Could not generate output statistics for t_subj.772\n",
      "Could not generate output statistics for v_subj.764\n",
      "Could not generate output statistics for t_subj.775\n",
      "Could not generate output statistics for a_Intercept_subj.775\n",
      "Could not generate output statistics for t_subj.766\n",
      "Could not generate output statistics for a_Intercept_subj.776\n",
      "Could not generate output statistics for v_subj.773\n",
      "Could not generate output statistics for a_Intercept_subj.764\n",
      "Could not generate output statistics for a_Intercept_subj.770\n",
      "Could not generate output statistics for v_subj.777\n",
      "Could not generate output statistics for v_subj.769\n",
      "Could not generate output statistics for v_subj.776\n",
      "Could not generate output statistics for a_Intercept_subj.762\n",
      "Could not generate output statistics for t_subj.761\n",
      "Could not generate output statistics for a_Intercept_subj.763\n",
      "Could not generate output statistics for v_subj.763\n",
      "Could not generate output statistics for v_subj.778\n",
      "Could not generate output statistics for t_subj.778\n",
      "Could not generate output statistics for v_subj.772\n",
      "Could not generate output statistics for t_subj.764\n",
      "Could not generate output statistics for a_Intercept_subj.771\n",
      "Could not generate output statistics for v_subj.761\n",
      "Could not generate output statistics for t\n",
      "Could not generate output statistics for t_subj.762\n",
      "Could not generate output statistics for a_Intercept_subj.768\n",
      "Could not generate output statistics for a_Intercept_subj.781\n",
      "Could not generate output statistics for a_C(condition)[T.lc]\n",
      "Could not generate output statistics for a_Intercept_subj.772\n"
     ]
    },
    {
     "ename": "TypeError",
     "evalue": "'NoneType' object is not subscriptable",
     "output_type": "error",
     "traceback": [
      "\u001b[0;31m---------------------------------------------------------------------------\u001b[0m",
      "\u001b[0;31mTypeError\u001b[0m                                 Traceback (most recent call last)",
      "\u001b[0;32m<ipython-input-16-6040e5ae0b85>\u001b[0m in \u001b[0;36m<module>\u001b[0;34m()\u001b[0m\n\u001b[1;32m      1\u001b[0m \u001b[0mtest\u001b[0m \u001b[0;34m=\u001b[0m \u001b[0mhddm\u001b[0m\u001b[0;34m.\u001b[0m\u001b[0mHDDMRegressor\u001b[0m\u001b[0;34m(\u001b[0m\u001b[0mdata\u001b[0m\u001b[0;34m,\u001b[0m \u001b[0;34m'a~C(condition)'\u001b[0m\u001b[0;34m,\u001b[0m \u001b[0minformative\u001b[0m\u001b[0;34m=\u001b[0m\u001b[0;32mTrue\u001b[0m\u001b[0;34m)\u001b[0m\u001b[0;34m\u001b[0m\u001b[0m\n\u001b[0;32m----> 2\u001b[0;31m \u001b[0mtest\u001b[0m\u001b[0;34m.\u001b[0m\u001b[0msample\u001b[0m\u001b[0;34m(\u001b[0m\u001b[0;36m100\u001b[0m\u001b[0;34m,\u001b[0m\u001b[0mburn\u001b[0m\u001b[0;34m=\u001b[0m\u001b[0;36m20\u001b[0m\u001b[0;34m)\u001b[0m\u001b[0;34m\u001b[0m\u001b[0m\n\u001b[0m",
      "\u001b[0;32m~/anaconda3/envs/hddm/lib/python3.5/site-packages/kabuki/hierarchical.py\u001b[0m in \u001b[0;36msample\u001b[0;34m(self, *args, **kwargs)\u001b[0m\n\u001b[1;32m    653\u001b[0m         \u001b[0mself\u001b[0m\u001b[0;34m.\u001b[0m\u001b[0msampled\u001b[0m \u001b[0;34m=\u001b[0m \u001b[0;32mTrue\u001b[0m\u001b[0;34m\u001b[0m\u001b[0m\n\u001b[1;32m    654\u001b[0m \u001b[0;34m\u001b[0m\u001b[0m\n\u001b[0;32m--> 655\u001b[0;31m         \u001b[0mself\u001b[0m\u001b[0;34m.\u001b[0m\u001b[0mgen_stats\u001b[0m\u001b[0;34m(\u001b[0m\u001b[0;34m)\u001b[0m\u001b[0;34m\u001b[0m\u001b[0m\n\u001b[0m\u001b[1;32m    656\u001b[0m         \u001b[0;32mreturn\u001b[0m \u001b[0mself\u001b[0m\u001b[0;34m.\u001b[0m\u001b[0mmc\u001b[0m\u001b[0;34m\u001b[0m\u001b[0m\n\u001b[1;32m    657\u001b[0m \u001b[0;34m\u001b[0m\u001b[0m\n",
      "\u001b[0;32m~/anaconda3/envs/hddm/lib/python3.5/site-packages/kabuki/hierarchical.py\u001b[0m in \u001b[0;36mgen_stats\u001b[0;34m(self, fname, print_hidden, **kwargs)\u001b[0m\n\u001b[1;32m    730\u001b[0m             \u001b[0mprint_hidden\u001b[0m \u001b[0;34m<\u001b[0m\u001b[0mbool\u001b[0m\u001b[0;34m>\u001b[0m  \u001b[0;34m-\u001b[0m \u001b[0mprint\u001b[0m \u001b[0mstatistics\u001b[0m \u001b[0mof\u001b[0m \u001b[0mhidden\u001b[0m \u001b[0mnodes\u001b[0m\u001b[0;34m\u001b[0m\u001b[0m\n\u001b[1;32m    731\u001b[0m         \"\"\"\n\u001b[0;32m--> 732\u001b[0;31m         \u001b[0mself\u001b[0m\u001b[0;34m.\u001b[0m\u001b[0mappend_stats_to_nodes_db\u001b[0m\u001b[0;34m(\u001b[0m\u001b[0;34m)\u001b[0m\u001b[0;34m\u001b[0m\u001b[0m\n\u001b[0m\u001b[1;32m    733\u001b[0m \u001b[0;34m\u001b[0m\u001b[0m\n\u001b[1;32m    734\u001b[0m         \u001b[0msliced_db\u001b[0m \u001b[0;34m=\u001b[0m \u001b[0mself\u001b[0m\u001b[0;34m.\u001b[0m\u001b[0mnodes_db\u001b[0m\u001b[0;34m.\u001b[0m\u001b[0mcopy\u001b[0m\u001b[0;34m(\u001b[0m\u001b[0;34m)\u001b[0m\u001b[0;34m\u001b[0m\u001b[0m\n",
      "\u001b[0;32m~/anaconda3/envs/hddm/lib/python3.5/site-packages/kabuki/hierarchical.py\u001b[0m in \u001b[0;36mappend_stats_to_nodes_db\u001b[0;34m(self, *args, **kwargs)\u001b[0m\n\u001b[1;32m    782\u001b[0m             \u001b[0;32mif\u001b[0m \u001b[0mself\u001b[0m\u001b[0;34m.\u001b[0m\u001b[0mnodes_db\u001b[0m\u001b[0;34m.\u001b[0m\u001b[0mloc\u001b[0m\u001b[0;34m[\u001b[0m\u001b[0mname\u001b[0m\u001b[0;34m,\u001b[0m \u001b[0;34m'hidden'\u001b[0m\u001b[0;34m]\u001b[0m\u001b[0;34m:\u001b[0m\u001b[0;34m\u001b[0m\u001b[0m\n\u001b[1;32m    783\u001b[0m                 \u001b[0;32mcontinue\u001b[0m\u001b[0;34m\u001b[0m\u001b[0m\n\u001b[0;32m--> 784\u001b[0;31m             \u001b[0mself\u001b[0m\u001b[0;34m.\u001b[0m\u001b[0mnodes_db\u001b[0m\u001b[0;34m.\u001b[0m\u001b[0mloc\u001b[0m\u001b[0;34m[\u001b[0m\u001b[0mname\u001b[0m\u001b[0;34m,\u001b[0m \u001b[0;34m'mean'\u001b[0m\u001b[0;34m]\u001b[0m   \u001b[0;34m=\u001b[0m \u001b[0mi_stats\u001b[0m\u001b[0;34m[\u001b[0m\u001b[0;34m'mean'\u001b[0m\u001b[0;34m]\u001b[0m\u001b[0;34m\u001b[0m\u001b[0m\n\u001b[0m\u001b[1;32m    785\u001b[0m             \u001b[0mself\u001b[0m\u001b[0;34m.\u001b[0m\u001b[0mnodes_db\u001b[0m\u001b[0;34m.\u001b[0m\u001b[0mloc\u001b[0m\u001b[0;34m[\u001b[0m\u001b[0mname\u001b[0m\u001b[0;34m,\u001b[0m \u001b[0;34m'std'\u001b[0m\u001b[0;34m]\u001b[0m    \u001b[0;34m=\u001b[0m \u001b[0mi_stats\u001b[0m\u001b[0;34m[\u001b[0m\u001b[0;34m'standard deviation'\u001b[0m\u001b[0;34m]\u001b[0m\u001b[0;34m\u001b[0m\u001b[0m\n\u001b[1;32m    786\u001b[0m             \u001b[0mself\u001b[0m\u001b[0;34m.\u001b[0m\u001b[0mnodes_db\u001b[0m\u001b[0;34m.\u001b[0m\u001b[0mloc\u001b[0m\u001b[0;34m[\u001b[0m\u001b[0mname\u001b[0m\u001b[0;34m,\u001b[0m \u001b[0;34m'2.5q'\u001b[0m\u001b[0;34m]\u001b[0m   \u001b[0;34m=\u001b[0m \u001b[0mi_stats\u001b[0m\u001b[0;34m[\u001b[0m\u001b[0;34m'quantiles'\u001b[0m\u001b[0;34m]\u001b[0m\u001b[0;34m[\u001b[0m\u001b[0;36m2.5\u001b[0m\u001b[0;34m]\u001b[0m\u001b[0;34m\u001b[0m\u001b[0m\n",
      "\u001b[0;31mTypeError\u001b[0m: 'NoneType' object is not subscriptable"
     ]
    }
   ],
   "source": [
    "test = hddm.HDDMRegressor(data, 'a~C(condition)', informative=True)\n",
    "test.sample(100,burn=20)"
   ]
  },
  {
   "cell_type": "code",
   "execution_count": null,
   "metadata": {
    "collapsed": true
   },
   "outputs": [],
   "source": [
    "test = hddm.HDDMRegressor(data, 'a~BOLD:C(condition)', informative=True)\n",
    "test.sample(100,burn=20)"
   ]
  },
  {
   "cell_type": "code",
   "execution_count": null,
   "metadata": {},
   "outputs": [],
   "source": [
    "data_b"
   ]
  },
  {
   "cell_type": "code",
   "execution_count": null,
   "metadata": {},
   "outputs": [],
   "source": [
    "d_mat_a, d_mat_v"
   ]
  },
  {
   "cell_type": "code",
   "execution_count": null,
   "metadata": {},
   "outputs": [],
   "source": [
    "v_reg_model = \"v ~ \"+ v_formula \n",
    "a_reg_model = \"a ~ \"+ a_formula\n",
    "av_reg_model = [v_reg_model, a_reg_model]\n",
    "include = ['z']"
   ]
  },
  {
   "cell_type": "code",
   "execution_count": null,
   "metadata": {},
   "outputs": [],
   "source": [
    "data.columns, av_reg_model"
   ]
  },
  {
   "cell_type": "code",
   "execution_count": null,
   "metadata": {},
   "outputs": [],
   "source": [
    "v_within_subj_obs_reg = hddm.HDDMRegressor(data, v_reg_model,bias=True, include=include, informative=True)\n",
    "v_within_subj_obs_reg.sample(n_samples,burn=n_burned_samples,dbname='v_traces_obs_cleaned_reg.db', db='pickle')"
   ]
  },
  {
   "cell_type": "code",
   "execution_count": null,
   "metadata": {},
   "outputs": [],
   "source": [
    "v_within_subj_obs_reg.print_stats()"
   ]
  },
  {
   "cell_type": "code",
   "execution_count": null,
   "metadata": {},
   "outputs": [],
   "source": [
    "v_within_subj_obs_reg.print_stats()"
   ]
  },
  {
   "cell_type": "code",
   "execution_count": null,
   "metadata": {},
   "outputs": [],
   "source": [
    "a_within_subj_obs_reg = hddm.HDDMRegressor(data, a_reg_model,bias=True, include=include, informative=True)\n",
    "a_within_subj_obs_reg.sample(10,burn=4,dbname='a_traces_obs_cleaned_reg.db', db='pickle')"
   ]
  },
  {
   "cell_type": "code",
   "execution_count": null,
   "metadata": {},
   "outputs": [],
   "source": [
    "av_within_subj_obs_reg = hddm.HDDMRegressor(data, av_reg_model,bias=True, include=include, informative=True)\n",
    "av_within_subj_obs_reg.sample(n_samples,burn=n_burned_samples,dbname='av_traces_obs_cleaned_reg.db', db='pickle')"
   ]
  },
  {
   "cell_type": "code",
   "execution_count": null,
   "metadata": {},
   "outputs": [],
   "source": [
    "aRegressors = ['a_Intercept', \"a_cpp:C(stim)[hc]\", \n",
    "               \"a_cpp:C(stim)[lc]\", \"a_cpp:C(stim)[hv]\",\"a_cpp:C(stim)[lv]\"]\n",
    "vRegressors = ['v_Intercept', \"v_B:C(stim)[hc]\", \"v_B:C(stim)[lc]\",\n",
    "               \"v_B:C(stim)[hv]\", \"v_B:C(stim)[lv]\"]\n",
    "regressors = [aRegressors, vRegressors]\n",
    "pdists = []; lvls = ['hc', 'lc', 'hv', 'lv']; params = ['a', 'v']\n",
    "for param, paramRegs in zip(params, regressors):\n",
    "    traces = av_within_subj_obs_reg.nodes_db.ix[paramRegs, 'node']\n",
    "    c0 = traces[0].trace().mean()\n",
    "    condTraces = traces[1:]\n",
    "    pdist = pd.DataFrame({lvl:cTrace.trace() for (lvl, cTrace) in zip(lvls, condTraces)})\n",
    "    pdistTidy = pd.melt(pdist, var_name='level')\n",
    "    pdistTidy['param'] = param\n",
    "    pdists.append(pdistTidy)\n",
    "pdists = pd.concat(pdists)\n",
    "vdists = pdists[pdists.param=='v']\n",
    "adists = pdists[pdists.param=='a']"
   ]
  },
  {
   "cell_type": "code",
   "execution_count": null,
   "metadata": {},
   "outputs": [],
   "source": [
    "av_within_subj_obs_reg.print_stats()"
   ]
  },
  {
   "cell_type": "code",
   "execution_count": null,
   "metadata": {},
   "outputs": [],
   "source": [
    "t = av_within_subj_obs_reg.nodes_db.ix[['t'], 'mean'][0]\n",
    "# z = av_within_subj_obs_reg.nodes_db.ix[['z'], 'mean'][0]\n",
    "\n",
    "v0 = av_within_subj_obs_reg.nodes_db.ix[['v_Intercept'], 'mean'][0]\n",
    "v_beta_hc = av_within_subj_obs_reg.nodes_db.ix[['v_B:C(stim)[hc]'], 'mean'][0]\n",
    "v_beta_lc = av_within_subj_obs_reg.nodes_db.ix[['v_B:C(stim)[lc]'], 'mean'][0]\n",
    "v_beta_hv = av_within_subj_obs_reg.nodes_db.ix[['v_B:C(stim)[hv]'], 'mean'][0]\n",
    "v_beta_lv = av_within_subj_obs_reg.nodes_db.ix[['v_B:C(stim)[lv]'], 'mean'][0]\n"
   ]
  },
  {
   "cell_type": "code",
   "execution_count": null,
   "metadata": {},
   "outputs": [],
   "source": [
    "a0 = av_within_subj_obs_reg.nodes_db.ix[['a_Intercept'], 'mean'][0]\n",
    "a_beta_hc = av_within_subj_obs_reg.nodes_db.ix[['a_cpp:C(stim)[hc]'], 'mean'][0]\n",
    "a_beta_lc = av_within_subj_obs_reg.nodes_db.ix[['a_cpp:C(stim)[lc]'], 'mean'][0]\n",
    "a_beta_hv = av_within_subj_obs_reg.nodes_db.ix[['a_cpp:C(stim)[hv]'], 'mean'][0]\n",
    "a_beta_lv = av_within_subj_obs_reg.nodes_db.ix[['a_cpp:C(stim)[lv]'], 'mean'][0]\n",
    "\n",
    "\n"
   ]
  },
  {
   "cell_type": "code",
   "execution_count": null,
   "metadata": {},
   "outputs": [],
   "source": [
    "print(a0,a_beta_hc, a_beta_lc)"
   ]
  },
  {
   "cell_type": "code",
   "execution_count": null,
   "metadata": {},
   "outputs": [],
   "source": [
    "plt.plot(v_hc_trials); plt.show()\n"
   ]
  },
  {
   "cell_type": "code",
   "execution_count": null,
   "metadata": {},
   "outputs": [],
   "source": [
    "v_hc_trials = v0 + v_beta_hc * data[data.stim=='hc']['B'] \n",
    "v_lc_trials = v0 + v_beta_lc * data[data.stim=='lc']['B'] \n",
    "v_hv_trials = v0 + v_beta_hc * data[data.stim=='hv']['B'] \n",
    "v_lv_trials = v0 + v_beta_lc * data[data.stim=='lv']['B'] \n",
    "\n",
    "\n",
    "plt.plot(v_hc_trials[:50].values, label='hc')\n",
    "plt.plot(v_lc_trials[:50].values, label='lc')\n",
    "plt.plot(v_hv_trials[:50].values, label='hv')\n",
    "plt.plot(v_lv_trials[:50].values, label='lv')\n",
    "\n",
    "ax = plt.gca()\n",
    "ax.set_ylabel('Drift-Rate')\n",
    "ax.set_xlabel('Trials')\n",
    "ax.legend()"
   ]
  },
  {
   "cell_type": "code",
   "execution_count": null,
   "metadata": {},
   "outputs": [],
   "source": [
    "v_hc_trials"
   ]
  },
  {
   "cell_type": "code",
   "execution_count": null,
   "metadata": {},
   "outputs": [],
   "source": [
    "a_hc_trials = a0 + a_beta_hc * data[data.stim=='hc']['cpp'] \n",
    "a_lc_trials = a0 + a_beta_lc * data[data.stim=='lc']['cpp'] \n",
    "a_hv_trials = a0 + a_beta_hc * data[data.stim=='hv']['cpp'] \n",
    "a_lv_trials = a0 + a_beta_lc * data[data.stim=='lv']['cpp'] \n",
    "\n",
    "\n",
    "plt.plot(a_hc_trials[:50].values, label='hc')\n",
    "plt.plot(a_lc_trials[:50].values, label='lc')\n",
    "plt.plot(a_hv_trials[:50].values, label='hv')\n",
    "plt.plot(a_lv_trials[:50].values, label='lv')\n",
    "\n",
    "ax = plt.gca()\n",
    "ax.set_ylabel('Threshold')\n",
    "ax.set_xlabel('Trials')\n",
    "ax.legend()"
   ]
  },
  {
   "cell_type": "code",
   "execution_count": null,
   "metadata": {},
   "outputs": [],
   "source": [
    "import seaborn as sns\n",
    "f, (ax1, ax2) = plt.subplots(1, 2, figsize=(30, 15))\n",
    "                             \n",
    "sns.violinplot(x='level', y='value', data=vdists, palette='viridis', order=lvls, ax=ax1, linewidth=0)\n",
    "sns.violinplot(x='level', y='value', data=adists, palette='viridis', order=lvls, ax=ax2, linewidth=0)\n",
    "ax1.set_ylabel('Posterior Density')\n",
    "ax2.set_ylabel('')\n",
    "ax1.set_title('Drift-Rate ($v$)')\n",
    "ax2.set_title('Boundary Height ($a$)')\n",
    "\n",
    "plt.tight_layout()\n",
    "sns.despine()"
   ]
  },
  {
   "cell_type": "markdown",
   "metadata": {},
   "source": [
    "#### save models"
   ]
  },
  {
   "cell_type": "code",
   "execution_count": null,
   "metadata": {},
   "outputs": [],
   "source": [
    "av_within_subj_obs_reg.save(write_dir+'av_within_subj_observed_cleaned_reg')\n",
    "a_within_subj_obs_reg.save(write_dir+'a_within_subj_observed_cleaned_reg')\n",
    "v_within_subj_obs_reg.save(write_dir+'v_within_subj_observed_cleaned_reg')"
   ]
  },
  {
   "cell_type": "markdown",
   "metadata": {},
   "source": [
    "#### extract DIC score"
   ]
  },
  {
   "cell_type": "code",
   "execution_count": null,
   "metadata": {},
   "outputs": [],
   "source": [
    "v_within_subj_obs_reg.dic, a_within_subj_obs_reg.dic, av_within_subj_obs_reg.dic"
   ]
  },
  {
   "cell_type": "code",
   "execution_count": null,
   "metadata": {
    "collapsed": true
   },
   "outputs": [],
   "source": [
    "v_within_subj_obs_reg.dic"
   ]
  },
  {
   "cell_type": "markdown",
   "metadata": {},
   "source": [
    "#### plot within-subjects effects for winning model"
   ]
  },
  {
   "cell_type": "code",
   "execution_count": null,
   "metadata": {},
   "outputs": [],
   "source": [
    "plt.rcParams['figure.figsize'] = 10, 10\n",
    "plt.rcParams['axes.titlesize'] = 25\n",
    "plt.rcParams['axes.labelsize'] = 30\n",
    "plt.rcParams['xtick.labelsize'] = 30\n",
    "plt.rcParams['ytick.labelsize'] = 30\n",
    "\n",
    "# names = [r'$a+v$',r'$v$',r'$a$']\n",
    "# colors = ['red', 'green', 'blue']\n",
    "names = ['combined', 'drift rate', 'decision threshold']\n",
    "dics = [av_within_subj_obs_reg.dic, v_within_subj_obs_reg.dic, a_within_subj_obs_reg.dic]\n",
    "bars=plt.barh(names, dics, color='forestgreen')\n",
    "plt.xlim([-7825,-7700])\n",
    "\n",
    "plt.xlabel('DIC score')\n",
    "bars[0].set_alpha(1)\n",
    "bars[1].set_alpha(.8)\n",
    "bars[2].set_alpha(.5)\n",
    "plt.axvline(av_within_subj_obs_reg.dic, color='k', alpha=0.5, linestyle = '--')\n",
    "# plt.savefig(write_dir+'observed_dics.pdf')"
   ]
  },
  {
   "cell_type": "code",
   "execution_count": null,
   "metadata": {
    "collapsed": true
   },
   "outputs": [],
   "source": [
    "v_hc, v_hv, v_lc, v_lv = av_within_subj_obs.nodes_db.ix[['v_C(stim)[hc]', 'v_C(stim)[hv]', 'v_C(stim)[lc]', 'v_C(stim)[lv]'], 'node']\n",
    "\n",
    "\n",
    "drift_fig=hddm.analyze.plot_posterior_nodes([v_hc, v_hv, v_lc, v_lv])\n",
    "plt.xlabel('drift-rate')\n",
    "plt.ylabel('Posterior probability')\n",
    "plt.title('All groups: Group mean posteriors of within-subject drift-rate effects.')\n",
    "# plt.savefig('hddm_demo_fig_07.pdf')"
   ]
  },
  {
   "cell_type": "code",
   "execution_count": null,
   "metadata": {
    "collapsed": true
   },
   "outputs": [],
   "source": [
    "drift_fig=hddm.analyze.plot_posterior_nodes([v_hc, v_lc])\n",
    "plt.xlabel('drift-rate')\n",
    "plt.ylabel('Posterior probability')\n",
    "plt.legend()\n",
    "plt.title('All groups: Group mean posteriors of within-subject drift-rate effects.')\n",
    "# plt.savefig('hddm_demo_fig_07.pdf')"
   ]
  },
  {
   "cell_type": "code",
   "execution_count": null,
   "metadata": {
    "collapsed": true
   },
   "outputs": [],
   "source": [
    "a_hc, a_hv, a_lc, a_lv  = av_within_subj_obs.nodes_db.ix[['a_C(stim)[hc]', 'a_C(stim)[hv]', 'a_C(stim)[lc]', 'a_C(stim)[lv]'], 'node']\n",
    "bound_fig = hddm.analyze.plot_posterior_nodes([a_hc, a_hv, a_lc, a_lv])\n",
    "plt.legend()\n",
    "plt.xlabel('bound')\n",
    "plt.ylabel('Posteriore probability')\n",
    "plt.title('All Groups: Group mean posteriors of within-subject bound effects.')\n",
    "# plt.savefig('hddm_demo_fig_07.pdf')"
   ]
  },
  {
   "cell_type": "markdown",
   "metadata": {},
   "source": [
    "#### Hypothesized contrasts"
   ]
  },
  {
   "cell_type": "code",
   "execution_count": null,
   "metadata": {
    "collapsed": true
   },
   "outputs": [],
   "source": [
    "a_hc, a_hv, a_lc, a_lv  = av_within_subj_obs.nodes_db.ix[['a_C(stim)[hc]', 'a_C(stim)[hv]', 'a_C(stim)[lc]', 'a_C(stim)[lv]'], 'node']\n",
    "hddm.analyze.plot_posterior_nodes([a_lv, a_hv])\n",
    "plt.xlabel('bound')\n",
    "plt.ylabel('Posterior probability')\n",
    "plt.title('Volatility: Group mean posteriors of within-subject bound effects.')"
   ]
  },
  {
   "cell_type": "code",
   "execution_count": null,
   "metadata": {
    "collapsed": true
   },
   "outputs": [],
   "source": [
    "v_hc, v_hv, v_lc, v_lv = av_within_subj_obs.nodes_db.ix[['v_C(stim)[hc]', 'v_C(stim)[hv]', 'v_C(stim)[lc]', 'v_C(stim)[lv]'], 'node']\n",
    "hddm.analyze.plot_posterior_nodes([v_hc, v_lc])\n",
    "plt.xlabel('drift-rate')\n",
    "plt.ylabel('Posterior probability')\n",
    "plt.title('Conflict: Group mean posteriors of within-subject drift-rate effects.')\n",
    "# plt.savefig('hddm_demo_fig_07.pdf')"
   ]
  },
  {
   "cell_type": "markdown",
   "metadata": {},
   "source": [
    "#### all stats"
   ]
  },
  {
   "cell_type": "code",
   "execution_count": null,
   "metadata": {
    "collapsed": true
   },
   "outputs": [],
   "source": [
    "# v_within_subj.print_stats()"
   ]
  },
  {
   "cell_type": "code",
   "execution_count": null,
   "metadata": {
    "collapsed": true
   },
   "outputs": [],
   "source": [
    "av_within_subj_obs.plot_posterior_predictive(figsize=(14, 10))"
   ]
  },
  {
   "cell_type": "code",
   "execution_count": null,
   "metadata": {
    "collapsed": true
   },
   "outputs": [],
   "source": [
    "# tst hyp. that bound ^ with vol\n",
    "print(\"P(HV < LV) = \", (a_hv.trace() < a_lv.trace()).mean())\n",
    "print(\"P(HC > LC) = \", (v_hc.trace() > v_lc.trace()).mean())"
   ]
  },
  {
   "cell_type": "code",
   "execution_count": null,
   "metadata": {
    "collapsed": true
   },
   "outputs": [],
   "source": [
    "print(\"P(LV < LC) = \", (a_lv.trace() < a_lc.trace()).mean())\n",
    "print(\"P(LV < HC) = \", (a_lv.trace() < a_hc.trace()).mean())\n",
    "print(\"P(LV < HV) = \", (a_lv.trace() < a_hv.trace()).mean())"
   ]
  },
  {
   "cell_type": "code",
   "execution_count": null,
   "metadata": {
    "collapsed": true
   },
   "outputs": [],
   "source": [
    "# tst hyp. that drift dec. with conf\n",
    "print(\"P(HC > LC) = \", (v_hc.trace() > v_lc.trace()).mean())\n",
    "print(\"P(HC > LV) = \", (v_hc.trace() > v_lv.trace()).mean())\n",
    "print(\"P(HC > HV) = \", (v_hc.trace() > v_hv.trace()).mean())\n"
   ]
  }
 ],
 "metadata": {
  "kernelspec": {
   "display_name": "hddm",
   "language": "python",
   "name": "hddm"
  },
  "language_info": {
   "codemirror_mode": {
    "name": "ipython",
    "version": 3
   },
   "file_extension": ".py",
   "mimetype": "text/x-python",
   "name": "python",
   "nbconvert_exporter": "python",
   "pygments_lexer": "ipython3",
   "version": "3.5.5"
  }
 },
 "nbformat": 4,
 "nbformat_minor": 2
}
