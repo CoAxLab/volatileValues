{
 "cells": [
  {
   "cell_type": "code",
   "execution_count": 1,
   "metadata": {},
   "outputs": [],
   "source": [
    "import numpy as np \n",
    "import matplotlib.pyplot as plt \n",
    "plt.rcParams['figure.figsize'] = (8,8)\n",
    "plt.rcParams['font.size'] = 18\n",
    "\n",
    "# .75 in con. MEDIUM FOR CONSTANTS. \n",
    "#READ ALL CODE. \n",
    "#read hddm paper.\n",
    "#half hour for talk+questions.\n",
    "#change the number of trials. find where (small subset) of trials yields fit pattern.\n",
    "#compare fit to drift rate. "
   ]
  },
  {
   "cell_type": "code",
   "execution_count": 2,
   "metadata": {},
   "outputs": [],
   "source": [
    "#conflict as reward probabilities\n",
    "n_trials, n_targets = 1000, 2\n",
    "\n",
    "hc_p, mc_p, lc_p = .5, .7, .90\n",
    "\n",
    "#initialize uniform dist.  \n",
    "uni_dist = np.random.uniform(0, 1, n_trials)\n",
    "lc_rewarding_target = uni_dist <= lc_p\n",
    "mc_rewarding_target = uni_dist <= mc_p\n",
    "hc_rewarding_target = uni_dist <= hc_p\n",
    "\n",
    "#make sure p = stated above \n",
    "while (sum(lc_rewarding_target)/n_trials) != lc_p: \n",
    "    uni_dist = np.random.uniform(0, 1, n_trials)\n",
    "    lc_rewarding_target = uni_dist <= lc_p\n",
    "\n",
    "while (sum(mc_rewarding_target)/n_trials) != mc_p: \n",
    "    uni_dist = np.random.uniform(0, 1, n_trials)\n",
    "    mc_rewarding_target = uni_dist <= mc_p\n",
    "    \n",
    "while (sum(hc_rewarding_target)/n_trials) != hc_p: \n",
    "    uni_dist = np.random.uniform(0, 1, n_trials)\n",
    "    hc_rewarding_target = uni_dist <= hc_p\n",
    "    \n",
    "hc_binary_t1, hc_binary_t2 = np.zeros((n_trials)), np.zeros((n_trials))\n",
    "mc_binary_t1, mc_binary_t2 = np.zeros((n_trials)), np.zeros((n_trials))\n",
    "lc_binary_t1, lc_binary_t2 = np.zeros((n_trials)), np.zeros((n_trials))\n",
    "\n",
    "np.random.shuffle(lc_rewarding_target)\n",
    "np.random.shuffle(mc_rewarding_target)\n",
    "np.random.shuffle(hc_rewarding_target)\n",
    "\n",
    "\n",
    "hc_binary_t1[hc_rewarding_target] = 1\n",
    "hc_binary_t2[~hc_rewarding_target] = 1\n",
    "\n",
    "mc_binary_t1[mc_rewarding_target] = 1\n",
    "mc_binary_t2[~mc_rewarding_target] = 1\n",
    "\n",
    "lc_binary_t1[lc_rewarding_target] = 1\n",
    "lc_binary_t2[~lc_rewarding_target] = 1"
   ]
  },
  {
   "cell_type": "code",
   "execution_count": 3,
   "metadata": {},
   "outputs": [
    {
     "data": {
      "text/plain": [
       "Text(0.5,0,'t')"
      ]
     },
     "execution_count": 3,
     "metadata": {},
     "output_type": "execute_result"
    },
    {
     "data": {
      "image/png": "[encoded data removed]",
      "text/plain": [
       "<matplotlib.figure.Figure at 0x1056cc400>"
      ]
     },
     "metadata": {},
     "output_type": "display_data"
    }
   ],
   "source": [
    "t_range = np.arange(1,n_trials+1)\n",
    "hc_cumulative_p = np.cumsum(hc_binary_t1)/t_range\n",
    "mc_cumulative_p = np.cumsum(mc_binary_t1)/t_range\n",
    "lc_cumulative_p = np.cumsum(lc_binary_t1)/t_range\n",
    "plt.plot(hc_cumulative_p, 'r.', label='high conflict')\n",
    "plt.plot(mc_cumulative_p, 'b.', label='moderate conflict')\n",
    "plt.plot(lc_cumulative_p, 'g.', label='low conflict')\n",
    "plt.legend()\n",
    "plt.ylabel('cumulative p(max_reward)')\n",
    "plt.xlabel('t')"
   ]
  },
  {
   "cell_type": "code",
   "execution_count": 4,
   "metadata": {},
   "outputs": [],
   "source": [
    "#reward values \n",
    "r_mu = 50\n",
    "r_std = 10 \n",
    "n_samples = n_trials \n",
    "rewards = np.random.normal(loc=r_mu, scale=r_std, size=n_trials)\n",
    "\n",
    "hc_rewards_t1 = np.zeros_like(hc_binary_t1)\n",
    "mc_rewards_t1 = np.zeros_like(mc_binary_t1)\n",
    "lc_rewards_t1 = np.zeros_like(lc_binary_t1)\n",
    "\n",
    "hc_rewards_t2 = np.zeros_like(hc_rewards_t1)\n",
    "mc_rewards_t2 = np.zeros_like(mc_rewards_t1)\n",
    "lc_rewards_t2 = np.zeros_like(lc_rewards_t1)\n",
    "\n",
    "hc_rewards_t1[hc_rewarding_target] = rewards[hc_rewarding_target]\n",
    "hc_rewards_t2[~hc_rewarding_target] = rewards[~hc_rewarding_target]\n",
    "\n",
    "mc_rewards_t1[mc_rewarding_target] = rewards[mc_rewarding_target]\n",
    "mc_rewards_t2[~mc_rewarding_target] = rewards[~mc_rewarding_target]\n",
    "\n",
    "lc_rewards_t1[lc_rewarding_target] = rewards[lc_rewarding_target]\n",
    "lc_rewards_t2[~lc_rewarding_target] = rewards[~lc_rewarding_target]"
   ]
  },
  {
   "cell_type": "code",
   "execution_count": 5,
   "metadata": {},
   "outputs": [],
   "source": [
    "#volatility \n",
    "lv_lambda, mv_lambda, hv_lambda = 30, 20, 10\n",
    "lv_size, mv_size, hv_size = int(n_trials/lv_lambda),int(n_trials/mv_lambda),  int(n_trials/hv_lambda)"
   ]
  },
  {
   "cell_type": "code",
   "execution_count": 6,
   "metadata": {},
   "outputs": [],
   "source": [
    "#find change point indices and slice to fit n_trials \n",
    "lv_lam = np.cumsum(np.random.poisson(lam=lv_lambda,size=lv_size))\n",
    "mv_lam = np.cumsum(np.random.poisson(lam=mv_lambda,size=mv_size))\n",
    "hv_lam = np.cumsum(np.random.poisson(lam=hv_lambda,size=hv_size))\n",
    "\n",
    "hv_lam = hv_lam[hv_lam < n_trials]\n",
    "mv_lam = mv_lam[mv_lam < n_trials]\n",
    "lv_lam = lv_lam[lv_lam < n_trials]"
   ]
  },
  {
   "cell_type": "code",
   "execution_count": 7,
   "metadata": {},
   "outputs": [],
   "source": [
    "#mark trials with cp indicator\n",
    "lv_cp_vec = np.zeros((n_trials), dtype=bool)\n",
    "mv_cp_vec = np.zeros((n_trials), dtype=bool)\n",
    "hv_cp_vec = np.zeros((n_trials), dtype=bool)\n",
    "\n",
    "lv_cp_vec[lv_lam] = 1\n",
    "mv_cp_vec[mv_lam] = 1\n",
    "hv_cp_vec[hv_lam] = 1"
   ]
  },
  {
   "cell_type": "code",
   "execution_count": 8,
   "metadata": {},
   "outputs": [],
   "source": [
    "#print \n",
    "filename = 'test_highC'\n",
    "taskParameters = np.array((hc_rewards_t1, hc_rewards_t2, hc_cumulative_p, mv_cp_vec))\n",
    "taskParameters = np.matrix.transpose(taskParameters)\n",
    "header = (\"r_t1, r_t2, c_prob, cp\") \n",
    "np.savetxt(filename + '.csv',taskParameters, header = header, delimiter=',', comments = '', fmt='%f')\n",
    "\n",
    "\n",
    "filename = 'test_lowC'\n",
    "taskParameters = np.array((lc_rewards_t1, lc_rewards_t2, lc_cumulative_p, mv_cp_vec))\n",
    "taskParameters = np.matrix.transpose(taskParameters)\n",
    "header = (\"r_t1, r_t2, c_prob, cp\") \n",
    "np.savetxt(filename + '.csv',taskParameters, header = header, delimiter=',', comments = '', fmt='%f')\n",
    "\n",
    "filename = 'test_lowV'\n",
    "taskParameters = np.array((mc_rewards_t1, mc_rewards_t2, mc_cumulative_p, lv_cp_vec))\n",
    "taskParameters = np.matrix.transpose(taskParameters)\n",
    "header = (\"r_t1, r_t2, c_prob, cp\") \n",
    "np.savetxt(filename + '.csv',taskParameters, header = header, delimiter=',', comments = '', fmt='%f')\n",
    "\n",
    "filename = 'test_highV'\n",
    "taskParameters = np.array((mc_rewards_t1, mc_rewards_t2, mc_cumulative_p, hv_cp_vec))\n",
    "taskParameters = np.matrix.transpose(taskParameters)\n",
    "header = (\"r_t1, r_t2, c_prob, cp\") \n",
    "np.savetxt(filename + '.csv',taskParameters, header = header, delimiter=',', comments = '', fmt='%f')"
   ]
  },
  {
   "cell_type": "code",
   "execution_count": null,
   "metadata": {},
   "outputs": [],
   "source": []
  }
 ],
 "metadata": {
  "kernelspec": {
   "display_name": "Python 3",
   "language": "python",
   "name": "python3"
  },
  "language_info": {
   "codemirror_mode": {
    "name": "ipython",
    "version": 3
   },
   "file_extension": ".py",
   "mimetype": "text/x-python",
   "name": "python",
   "nbconvert_exporter": "python",
   "pygments_lexer": "ipython3",
   "version": "3.6.4"
  }
 },
 "nbformat": 4,
 "nbformat_minor": 2
}
