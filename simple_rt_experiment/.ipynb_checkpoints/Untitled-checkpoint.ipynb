{
 "cells": [
  {
   "cell_type": "code",
   "execution_count": 7,
   "metadata": {},
   "outputs": [
    {
     "name": "stdout",
     "output_type": "stream",
     "text": [
      "Testing? 1\n"
     ]
    },
    {
     "ename": "NameError",
     "evalue": "name 'half_trials' is not defined",
     "output_type": "error",
     "traceback": [
      "\u001b[0;31m---------------------------------------------------------------------------\u001b[0m",
      "\u001b[0;31mNameError\u001b[0m                                 Traceback (most recent call last)",
      "\u001b[0;32m<ipython-input-7-9b260b12af14>\u001b[0m in \u001b[0;36m<module>\u001b[0;34m()\u001b[0m\n\u001b[1;32m     90\u001b[0m \u001b[0mn_trials\u001b[0m \u001b[0;34m=\u001b[0m \u001b[0mint\u001b[0m\u001b[0;34m(\u001b[0m\u001b[0mlen\u001b[0m\u001b[0;34m(\u001b[0m\u001b[0mexp_param\u001b[0m\u001b[0;34m.\u001b[0m\u001b[0mcp\u001b[0m\u001b[0;34m)\u001b[0m\u001b[0;34m)\u001b[0m\u001b[0;34m\u001b[0m\u001b[0m\n\u001b[1;32m     91\u001b[0m \u001b[0mn_test_trials\u001b[0m \u001b[0;34m=\u001b[0m \u001b[0;36m10\u001b[0m\u001b[0;34m\u001b[0m\u001b[0m\n\u001b[0;32m---> 92\u001b[0;31m \u001b[0mhalf_trials\u001b[0m \u001b[0;34m=\u001b[0m \u001b[0mint\u001b[0m\u001b[0;34m(\u001b[0m\u001b[0mhalf_trials\u001b[0m\u001b[0;34m)\u001b[0m\u001b[0;34m\u001b[0m\u001b[0m\n\u001b[0m\u001b[1;32m     93\u001b[0m \u001b[0;34m\u001b[0m\u001b[0m\n\u001b[1;32m     94\u001b[0m \u001b[0ml_x\u001b[0m \u001b[0;34m=\u001b[0m \u001b[0mnp\u001b[0m\u001b[0;34m.\u001b[0m\u001b[0mtile\u001b[0m\u001b[0;34m(\u001b[0m\u001b[0mleft_pos_x\u001b[0m\u001b[0;34m,\u001b[0m \u001b[0mhalf_trials\u001b[0m\u001b[0;34m)\u001b[0m\u001b[0;34m\u001b[0m\u001b[0m\n",
      "\u001b[0;31mNameError\u001b[0m: name 'half_trials' is not defined"
     ]
    }
   ],
   "source": [
    "import os,random,sys\n",
    "import pandas as pd\n",
    "import numpy as np\n",
    "from random import shuffle\n",
    "\n",
    "\n",
    "\"\"\"set data path & collect information from experimenter\"\"\"\n",
    "testing = int(input(\"Testing? \"))\n",
    "if testing is not 1 and testing is not 0:\n",
    "    sys.exit('Enter 0 or 1.')\n",
    "\n",
    "image_directory = os.getcwd() + '/images/'\n",
    "exp_param_directory = os.getcwd() + '/experimental_parameters/'\n",
    "analysis_directory = os.getcwd() + '/analysis/'\n",
    "\n",
    "if testing:\n",
    "    subj_id = 'test'\n",
    "    condition = str(0)\n",
    "    session = str(0)\n",
    "    exp_param_file = exp_param_directory + 'lv_lc0.csv'\n",
    "else:\n",
    "    subj_id = input(\"Subject ID: \")\n",
    "    condition = input(\"Condition: \")\n",
    "    session = input(\"Session: \")\n",
    "\n",
    "    if condition == 'lvlc':\n",
    "        exp_param_file = exp_param_directory + 'lv_lc0.csv'\n",
    "    elif condition == 'mvlc':\n",
    "        exp_param_file = exp_param_directory + 'medium_volatility_low_conflict.csv'\n",
    "    elif condition == 'hvlc':\n",
    "        exp_param_file = exp_param_directory + 'high_volatility_low_conflict.csv'\n",
    "    elif condition == 'lclv':\n",
    "        exp_param_file = exp_param_directory + 'low_conflict_low_volatility.csv'\n",
    "    elif condition == 'mclv':\n",
    "        exp_param_file = exp_param_directory + 'med_conflict_low_volatility.csv'\n",
    "    elif condition == 'hclv':\n",
    "        exp_param_file = exp_param_directory + 'high_conflict_low_volatility.csv'\n",
    "    elif condition == 'hvmc':\n",
    "        exp_param_file = exp_param_directory + 'high_volatility_medium_conflict.csv'\n",
    "    elif condition == 'hvhc':\n",
    "        exp_param_file = exp_param_directory + 'high_volatility_high_conflict.csv'\n",
    "    elif condition == 'hcmv':\n",
    "        exp_param_file = exp_param_directory + 'high_conflict_medium_volatility.csv'\n",
    "\n",
    "    else:\n",
    "        sys.exit(\"Unknown condition.\")\n",
    "\n",
    "file_name = subj_id + \"_cond\" + condition + \"_session\" + session\n",
    "data_path = os.getcwd() + '/data/' + file_name + \".csv\"\n",
    "\n",
    "if not testing and os.path.exists(data_path):\n",
    "    sys.exit(file_name + \" already exists!\")\n",
    "\n",
    "\n",
    "instructions = (\"In this task, you will have a choice between two targets. When you choose one of these targets, you will lose or win points. Choosing the same target will not always give you the same points, but one is better than the other. After making your choice, you will receive feedback about the outcome. Your goal is to choose the target that gives the greatest reward. \"\n",
    "+\"\\n\\nChoose the left target by pressing the left arrow key and choose the right target by pressing the right arrow key. Press any key when you're ready to begin.\")\n",
    "slow_trial = (\"Too slow! \\nChoose quickly.\")\n",
    "fast_trial = (\"Too fast! \\nSlow down.\")\n",
    "\n",
    "\"\"\"initialize dependent variables & images\"\"\"\n",
    "rt_list = []\n",
    "choice_list = []\n",
    "\n",
    "images = []\n",
    "for file in os.listdir(image_directory):\n",
    "    images.append(image_directory+file)\n",
    "\n",
    "# if screen_size != mbp_monitor.setSizePix:\n",
    "#     center[0] = (mbp_monitor.setSizePix[0]/2) - (screen_size[0]/2)\n",
    "#     center[1] = (mbp_monitor.setSizePix[1]/2) - (screen_size[1]/2)\n",
    "\n",
    "\n",
    "\"\"\"specify constants\"\"\"\n",
    "exp_param = pd.read_csv(exp_param_file, header=0)\n",
    "exp_param.columns = ['t1_r', 't2_r', 'ssd', 'cp', 'r_diff', 'mu_r_diff', 'sigma']\n",
    "reward_t1 = np.round(exp_param.t1_r,2)\n",
    "reward_t2 = np.round(exp_param.t2_r,2)\n",
    "rewards = np.transpose(np.array([reward_t1, reward_t2]))\n",
    "max_reward_idx = np.argmax(rewards,1)\n",
    "min_reward_idx = np.argmin(rewards,1)\n",
    "\n",
    "\n",
    "\n",
    "max_rt = .7\n",
    "min_rt = .1\n",
    "left_pos_x = int(384)\n",
    "right_pos_x = -left_pos_x\n",
    "l_r_y = int(0)\n",
    "\n",
    "n_trials = int(len(exp_param.cp))\n",
    "n_test_trials = 10\n",
    "half_trials = int(n_trials/2)\n",
    "\n",
    "l_x = np.tile(left_pos_x, half_trials)\n",
    "r_x = np.tile(right_pos_x, half_trials)\n",
    "l_r_x_arr = np.concatenate((l_x, r_x))\n",
    "shuffle(l_r_x_arr)\n",
    "\n",
    "fb_time = .7\n",
    "\n",
    "\n",
    "iti_min = .1\n",
    "iti_max = .5\n",
    "iti_list = []\n",
    "\n",
    "if testing:\n",
    "    n_trials = n_test_trials\n",
    "\n",
    "cp_list = exp_param.cp.values[0:n_trials].tolist()\n",
    "\n",
    "correct_left_transform_idx = np.where(l_r_x_arr == left_pos_x)\n",
    "print('where correct answer is left', correct_left_transform_idx)\n",
    "print('all correct choices', l_r_x_arr)\n",
    "\n",
    "solutions = np.ones([half_trials])\n",
    "solutions[correct_left_transform_idx] = 0\n"
   ]
  },
  {
   "cell_type": "code",
   "execution_count": 6,
   "metadata": {},
   "outputs": [
    {
     "data": {
      "text/plain": [
       "int"
      ]
     },
     "execution_count": 6,
     "metadata": {},
     "output_type": "execute_result"
    }
   ],
   "source": [
    "type(n_trials)"
   ]
  },
  {
   "cell_type": "code",
   "execution_count": null,
   "metadata": {
    "collapsed": true
   },
   "outputs": [],
   "source": []
  }
 ],
 "metadata": {
  "kernelspec": {
   "display_name": "Python 3",
   "language": "python",
   "name": "python3"
  },
  "language_info": {
   "codemirror_mode": {
    "name": "ipython",
    "version": 3
   },
   "file_extension": ".py",
   "mimetype": "text/x-python",
   "name": "python",
   "nbconvert_exporter": "python",
   "pygments_lexer": "ipython3",
   "version": "3.6.2"
  }
 },
 "nbformat": 4,
 "nbformat_minor": 2
}
